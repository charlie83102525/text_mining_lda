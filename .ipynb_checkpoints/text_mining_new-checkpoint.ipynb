{
 "cells": [
  {
   "cell_type": "code",
   "execution_count": 1,
   "metadata": {},
   "outputs": [
    {
     "name": "stdout",
     "output_type": "stream",
     "text": [
      "[nltk_data] Downloading package stopwords to\n",
      "[nltk_data]     C:\\Users\\charlie\\AppData\\Roaming\\nltk_data...\n",
      "[nltk_data]   Package stopwords is already up-to-date!\n"
     ]
    },
    {
     "data": {
      "text/plain": [
       "True"
      ]
     },
     "execution_count": 1,
     "metadata": {},
     "output_type": "execute_result"
    }
   ],
   "source": [
    "# Run in python console\n",
    "import nltk; nltk.download('stopwords')"
   ]
  },
  {
   "cell_type": "code",
   "execution_count": 2,
   "metadata": {},
   "outputs": [
    {
     "name": "stderr",
     "output_type": "stream",
     "text": [
      "C:\\Users\\charlie\\Anaconda3\\anaconda\\lib\\site-packages\\gensim\\utils.py:1212: UserWarning: detected Windows; aliasing chunkize to chunkize_serial\n",
      "  warnings.warn(\"detected Windows; aliasing chunkize to chunkize_serial\")\n"
     ]
    }
   ],
   "source": [
    "import re\n",
    "import numpy as np\n",
    "import pandas as pd\n",
    "from pprint import pprint\n",
    "\n",
    "# Gensim\n",
    "import gensim\n",
    "import gensim.corpora as corpora\n",
    "from gensim.utils import simple_preprocess\n",
    "from gensim.models import CoherenceModel\n",
    "\n",
    "# spacy for lemmatization\n",
    "import spacy\n",
    "\n",
    "# Plotting tools\n",
    "import pyLDAvis\n",
    "import pyLDAvis.gensim  # don't skip this\n",
    "import matplotlib.pyplot as plt\n",
    "%matplotlib inline\n",
    "\n",
    "# Enable logging for gensim - optional\n",
    "import logging\n",
    "logging.basicConfig(format='%(asctime)s : %(levelname)s : %(message)s', level=logging.ERROR)\n",
    "\n",
    "import warnings\n",
    "warnings.filterwarnings(\"ignore\",category=DeprecationWarning)"
   ]
  },
  {
   "cell_type": "code",
   "execution_count": 3,
   "metadata": {},
   "outputs": [],
   "source": [
    "# NLTK Stop words\n",
    "from nltk.corpus import stopwords\n",
    "stop_words = stopwords.words('english')\n",
    "stop_words.extend(['from', 'subject', 're', 'edu', 'use','t','airport','can','termin','s','german','lufthansa','frankfurt','fra','z','taoyuan','taipei','beij','beij capit','lo angel','taiwan','flight','pek','hk','hkg','couldnt','us','two','though','lax','one','didnt',\n",
    "                   'seem','keep','although','yet','bu','sfo','tbit','air','southwest','tom','howev','go','ever','still','took','must','hotdog','aw',\n",
    "                  'putt','san','get','tbi','sinc','los','angeles','could','would','be','may','not','sein','fur','rießige','sehr','der','changi','tpe'\n",
    "                  ,'waw','poland','chopin','warsaw chopin','etiuda','zaventem','brussels zaventem','chisinan','dfw','budap','huf','ferihegy','hungarian','warsaw fryderyk chopin','chisinau'\n",
    "                  ,'dallas fort worth','stanchion','kobanya','ferenc',\"pearson\" ,\"arlanda\" ,\"czech airline\",\"copenhagen\" ,\"lima\",\"csa\",\"sa\",\"cote\",\"sas\",\"stockholm\",\"tsa\",\"terminal\",\"delta\",\"concourse\",\"logan\",\n",
    "                  \"mauritius\",\"baku\",\"ssr\" ,\"south african\" ,\"johannesburg\",\"cape town\",\"guayaquil\",\"reunion\" ,\"mauritian\",\"saa\"\n",
    "                  ,\"delhi\",\"chinese\",\"china\",\"shenzhen\",\"rupee\",\"sheremetyevo\",\"dme\",\"domodedovo\",\"beij\",'✅ Trip Verified | ','Not Verified | ','❎ Unverified | ','❎ Not Verified | ','✅ Verified Review | ','mumbai',\n",
    "                  'melbourne','sydney','klia','narita','jfk','dubai','singapore','india','cdg','trip verifi','japan','japanese','jakarta'\n",
    "                  ,'birmingham','lisbon','zurich','vienna','gatwick','heathrow','london','canada','good','emirate','dublin','verified review','amsterdam','auckland','atlanta','hong_kong','munich','brussel'\n",
    "                  ,'paris','australia','klm','prague','lot','schiphol','bhx','north','south','brisbane','verify','verified','athen','rome','qanta','hong','kong','hong kong',\n",
    "                  'bkk','bangkok','boston','french','tokyo','dusseldorf','helsinki','barcelona','madrid','brussel','schengen','toronto','vancouver','montreal','indian','perth','australian','nz','new zealand','jetstar','doha'\n",
    "                  ,'denver','kuala lumpur','europe','moscow','beijing','Beijing','france','usa','american','houston','Emirates','emirates','Hong Kong','New York','New','York','Build','New Zealand','Zealand','Qanta'\n",
    "                  ,'Kuala Lumpur','Incheon','airline','flight','aircraft','Oslo','Suvarnabhumi','Thailand','Hong','Kong','Haneda','Adelaide','Singapore','Changi','Seoul','Tokyo','Doha','Munich','Centrair','Nagoya'\n",
    "                  ,'Zurich','Frankfurt','Narita','Amsterdam','Schiphol','Kansai','Osaka','Vancouver','Helsinki','Vantaa','Vienna','Shanghai','Hongqiao'\n",
    "                   ,'Copenhagen','Sydney','Cape Town','Brisbane','Dubai','Auckland','Hamburg','Durban','King Shaka','Melbourne','Denver','Dusseldorf','Cologne','Bonn','Johannesburg'\n",
    "                  ,'Beijing','Cincinnati','Northern Kentucky','Haikou','Bangkok','Paris','CDG','Xian','Athens','Gimpo','Toronto','Pearson','Barcelona','Madrid','Barajas','Jakarta','Bogota','Quito'\n",
    "                  ,'Houston','IAH','Lima','Atlanta','San','Francisco','Christchurch','Abu','Dhabi','Gatwick','Gold','Coast','Dallas','Fort Worth','Lisbon','Stockholm','Arlanda','Perth','Chengdu'\n",
    "                  ,'Seattle','Tacoma','Mumbai','Bangalore','Baku','Delhi','Montreal','Moscow','Sheremetyevo','JFK','Guayaquil','Porto'\n",
    "                  ,'Los','Angeles','Bahrain','Moscow','Domodedovo','Hyderabad','Malta','Halifax','New zealand'\n",
    "                  ,'Minneapolis','Dublin','Sanya','Phoenix','Hanoi','Noi','Bai','Shenzhen','international','oslo',\n",
    "                  'Rome','Fiumicino','Birmingham','Detroit','Boston','Logan','Budapest','Brussels','Zaventem','European','Brussel'\n",
    "                  ,'Prague','Raleigh','Durham','Panama','Tocumen','Warsaw','Chopin','Medina','Mauritius','Nice','Houston','Hobby','Fukuoka','bad','Korean','Canadian','Qantas','Thai','Swiss',\"European's\",'flights','badly','nicer',\"New Zealand's\",'quickly','quick'\n",
    "                  ,'non-european','Canadians','nice','nicely','New Yorker','make','makes','extremely','Extremely','lot','lots','Airport','airports','year','years','fly','flying','flyers','Fly','BA','bit','back'\n",
    "                  ,'day','days'\"New York's\",'Pre','Bad','Badly','Good','goods','Airlines','airlines','euro','thing','things','european','Kuala','Lumpur','thai','Canadians','IAH'])"
   ]
  },
  {
   "cell_type": "code",
   "execution_count": 4,
   "metadata": {},
   "outputs": [
    {
     "name": "stdout",
     "output_type": "stream",
     "text": [
      "['i', 'me', 'my', 'myself', 'we', 'our', 'ours', 'ourselves', 'you', \"you're\", \"you've\", \"you'll\", \"you'd\", 'your', 'yours', 'yourself', 'yourselves', 'he', 'him', 'his', 'himself', 'she', \"she's\", 'her', 'hers', 'herself', 'it', \"it's\", 'its', 'itself', 'they', 'them', 'their', 'theirs', 'themselves', 'what', 'which', 'who', 'whom', 'this', 'that', \"that'll\", 'these', 'those', 'am', 'is', 'are', 'was', 'were', 'be', 'been', 'being', 'have', 'has', 'had', 'having', 'do', 'does', 'did', 'doing', 'a', 'an', 'the', 'and', 'but', 'if', 'or', 'because', 'as', 'until', 'while', 'of', 'at', 'by', 'for', 'with', 'about', 'against', 'between', 'into', 'through', 'during', 'before', 'after', 'above', 'below', 'to', 'from', 'up', 'down', 'in', 'out', 'on', 'off', 'over', 'under', 'again', 'further', 'then', 'once', 'here', 'there', 'when', 'where', 'why', 'how', 'all', 'any', 'both', 'each', 'few', 'more', 'most', 'other', 'some', 'such', 'no', 'nor', 'not', 'only', 'own', 'same', 'so', 'than', 'too', 'very', 's', 't', 'can', 'will', 'just', 'don', \"don't\", 'should', \"should've\", 'now', 'd', 'll', 'm', 'o', 're', 've', 'y', 'ain', 'aren', \"aren't\", 'couldn', \"couldn't\", 'didn', \"didn't\", 'doesn', \"doesn't\", 'hadn', \"hadn't\", 'hasn', \"hasn't\", 'haven', \"haven't\", 'isn', \"isn't\", 'ma', 'mightn', \"mightn't\", 'mustn', \"mustn't\", 'needn', \"needn't\", 'shan', \"shan't\", 'shouldn', \"shouldn't\", 'wasn', \"wasn't\", 'weren', \"weren't\", 'won', \"won't\", 'wouldn', \"wouldn't\", 'from', 'subject', 're', 'edu', 'use', 't', 'airport', 'can', 'termin', 's', 'german', 'lufthansa', 'frankfurt', 'fra', 'z', 'taoyuan', 'taipei', 'beij', 'beij capit', 'lo angel', 'taiwan', 'flight', 'pek', 'hk', 'hkg', 'couldnt', 'us', 'two', 'though', 'lax', 'one', 'didnt', 'seem', 'keep', 'although', 'yet', 'bu', 'sfo', 'tbit', 'air', 'southwest', 'tom', 'howev', 'go', 'ever', 'still', 'took', 'must', 'hotdog', 'aw', 'putt', 'san', 'get', 'tbi', 'sinc', 'los', 'angeles', 'could', 'would', 'be', 'may', 'not', 'sein', 'fur', 'rießige', 'sehr', 'der', 'changi', 'tpe', 'waw', 'poland', 'chopin', 'warsaw chopin', 'etiuda', 'zaventem', 'brussels zaventem', 'chisinan', 'dfw', 'budap', 'huf', 'ferihegy', 'hungarian', 'warsaw fryderyk chopin', 'chisinau', 'dallas fort worth', 'stanchion', 'kobanya', 'ferenc', 'pearson', 'arlanda', 'czech airline', 'copenhagen', 'lima', 'csa', 'sa', 'cote', 'sas', 'stockholm', 'tsa', 'terminal', 'delta', 'concourse', 'logan', 'mauritius', 'baku', 'ssr', 'south african', 'johannesburg', 'cape town', 'guayaquil', 'reunion', 'mauritian', 'saa', 'delhi', 'chinese', 'china', 'shenzhen', 'rupee', 'sheremetyevo', 'dme', 'domodedovo', 'beij', '✅ Trip Verified | ', 'Not Verified | ', '❎ Unverified | ', '❎ Not Verified | ', '✅ Verified Review | ', 'mumbai', 'melbourne', 'sydney', 'klia', 'narita', 'jfk', 'dubai', 'singapore', 'india', 'cdg', 'trip verifi', 'japan', 'japanese', 'jakarta', 'birmingham', 'lisbon', 'zurich', 'vienna', 'gatwick', 'heathrow', 'london', 'canada', 'good', 'emirate', 'dublin', 'verified review', 'amsterdam', 'auckland', 'atlanta', 'hong_kong', 'munich', 'brussel', 'paris', 'australia', 'klm', 'prague', 'lot', 'schiphol', 'bhx', 'north', 'south', 'brisbane', 'verify', 'verified', 'athen', 'rome', 'qanta', 'hong', 'kong', 'hong kong', 'bkk', 'bangkok', 'boston', 'french', 'tokyo', 'dusseldorf', 'helsinki', 'barcelona', 'madrid', 'brussel', 'schengen', 'toronto', 'vancouver', 'montreal', 'indian', 'perth', 'australian', 'nz', 'new zealand', 'jetstar', 'doha', 'denver', 'kuala lumpur', 'europe', 'moscow', 'beijing', 'Beijing', 'france', 'usa', 'american', 'houston', 'Emirates', 'emirates', 'Hong Kong', 'New York', 'New', 'York', 'Build', 'New Zealand', 'Zealand', 'Qanta', 'Kuala Lumpur', 'Incheon', 'airline', 'flight', 'aircraft', 'Oslo', 'Suvarnabhumi', 'Thailand', 'Hong', 'Kong', 'Haneda', 'Adelaide', 'Singapore', 'Changi', 'Seoul', 'Tokyo', 'Doha', 'Munich', 'Centrair', 'Nagoya', 'Zurich', 'Frankfurt', 'Narita', 'Amsterdam', 'Schiphol', 'Kansai', 'Osaka', 'Vancouver', 'Helsinki', 'Vantaa', 'Vienna', 'Shanghai', 'Hongqiao', 'Copenhagen', 'Sydney', 'Cape Town', 'Brisbane', 'Dubai', 'Auckland', 'Hamburg', 'Durban', 'King Shaka', 'Melbourne', 'Denver', 'Dusseldorf', 'Cologne', 'Bonn', 'Johannesburg', 'Beijing', 'Cincinnati', 'Northern Kentucky', 'Haikou', 'Bangkok', 'Paris', 'CDG', 'Xian', 'Athens', 'Gimpo', 'Toronto', 'Pearson', 'Barcelona', 'Madrid', 'Barajas', 'Jakarta', 'Bogota', 'Quito', 'Houston', 'IAH', 'Lima', 'Atlanta', 'San', 'Francisco', 'Christchurch', 'Abu', 'Dhabi', 'Gatwick', 'Gold', 'Coast', 'Dallas', 'Fort Worth', 'Lisbon', 'Stockholm', 'Arlanda', 'Perth', 'Chengdu', 'Seattle', 'Tacoma', 'Mumbai', 'Bangalore', 'Baku', 'Delhi', 'Montreal', 'Moscow', 'Sheremetyevo', 'JFK', 'Guayaquil', 'Porto', 'Los', 'Angeles', 'Bahrain', 'Moscow', 'Domodedovo', 'Hyderabad', 'Malta', 'Halifax', 'New zealand', 'Minneapolis', 'Dublin', 'Sanya', 'Phoenix', 'Hanoi', 'Noi', 'Bai', 'Shenzhen', 'international', 'oslo', 'Rome', 'Fiumicino', 'Birmingham', 'Detroit', 'Boston', 'Logan', 'Budapest', 'Brussels', 'Zaventem', 'European', 'Brussel', 'Prague', 'Raleigh', 'Durham', 'Panama', 'Tocumen', 'Warsaw', 'Chopin', 'Medina', 'Mauritius', 'Nice', 'Houston', 'Hobby', 'Fukuoka', 'bad', 'Korean', 'Canadian', 'Qantas', 'Thai', 'Swiss', \"European's\", 'flights', 'badly', 'nicer', \"New Zealand's\", 'quickly', 'quick', 'non-european', 'Canadians', 'nice', 'nicely', 'New Yorker', 'make', 'makes', 'extremely', 'Extremely', 'lot', 'lots', 'Airport', 'airports', 'year', 'years', 'fly', 'flying', 'flyers', 'Fly', 'BA', 'bit', 'back', 'day', \"daysNew York's\", 'Pre', 'Bad', 'Badly', 'Good', 'goods', 'Airlines', 'airlines', 'euro', 'thing', 'things', 'european', 'Kuala', 'Lumpur', 'thai', 'Canadians', 'IAH']\n"
     ]
    }
   ],
   "source": [
    "print(stop_words)"
   ]
  },
  {
   "cell_type": "code",
   "execution_count": 4,
   "metadata": {},
   "outputs": [],
   "source": [
    "import os\n",
    "os.chdir('C:/Users/charlie/Documents/3Y_Airport')\n",
    "docss = []\n",
    "for filename in os.listdir(os.getcwd()):\n",
    "    out = open(filename, encoding = 'utf8')\n",
    "    docss.append([out.read()])\n",
    "    out.close()"
   ]
  },
  {
   "cell_type": "code",
   "execution_count": 6,
   "metadata": {},
   "outputs": [],
   "source": [
    "def sent_to_words(sentences):\n",
    "    for sentence in sentences:\n",
    "        yield(gensim.utils.simple_preprocess(str(sentence), deacc=True))  # deacc=True removes punctuations\n",
    "\n",
    "data_words = list(sent_to_words(data))"
   ]
  },
  {
   "cell_type": "code",
   "execution_count": 7,
   "metadata": {},
   "outputs": [
    {
     "name": "stderr",
     "output_type": "stream",
     "text": [
      "C:\\Users\\charlie\\Anaconda3\\anaconda\\lib\\site-packages\\gensim\\models\\phrases.py:598: UserWarning: For a faster implementation, use the gensim.models.phrases.Phraser class\n",
      "  warnings.warn(\"For a faster implementation, use the gensim.models.phrases.Phraser class\")\n"
     ]
    }
   ],
   "source": [
    "# Faster way to get a sentence clubbed as a trigram/bigram\n",
    "bigram_mod = gensim.models.phrases.Phraser(bigram)\n",
    "trigram_mod = gensim.models.phrases.Phraser(trigram)"
   ]
  },
  {
   "cell_type": "code",
   "execution_count": 8,
   "metadata": {},
   "outputs": [],
   "source": [
    "# Define functions for stopwords, bigrams, trigrams and lemmatization\n",
    "def remove_stopwords(texts):\n",
    "    return [[word for word in simple_preprocess(str(doc)) if word not in stop_words] for doc in texts]\n",
    "\n",
    "def make_bigrams(texts):\n",
    "    return [bigram_mod[doc] for doc in texts]\n",
    "\n",
    "def make_trigrams(texts):\n",
    "    return [trigram_mod[bigram_mod[doc]] for doc in texts]\n",
    "\n",
    "def lemmatization(texts, allowed_postags=['NOUN', 'ADJ', 'VERB', 'ADV']):\n",
    "    \"\"\"https://spacy.io/api/annotation\"\"\"\n",
    "    texts_out = []\n",
    "    for sent in texts:\n",
    "        doc = nlp(\" \".join(sent)) \n",
    "        texts_out.append([token.lemma_ for token in doc if token.pos_ in allowed_postags])\n",
    "    return texts_out"
   ]
  },
  {
   "cell_type": "code",
   "execution_count": 9,
   "metadata": {},
   "outputs": [],
   "source": [
    "# Remove Stop Words\n",
    "data_words_nostops = remove_stopwords(data_words)\n",
    "\n",
    "# Form Bigrams\n",
    "data_words_bigrams = make_bigrams(data_words_nostops)\n",
    "\n",
    "# Initialize spacy 'en' model, keeping only tagger component (for efficiency)\n",
    "# python3 -m spacy download en\n",
    "nlp = spacy.load('en', disable=['parser', 'ner'])\n",
    "\n",
    "# Do lemmatization keeping only noun, adj, vb, adv\n",
    "data_lemmatized = lemmatization(data_words_bigrams, allowed_postags=['NOUN', 'ADJ', 'VERB', 'ADV'])"
   ]
  },
  {
   "cell_type": "code",
   "execution_count": 10,
   "metadata": {},
   "outputs": [],
   "source": [
    "# Create Dictionary\n",
    "id2word = corpora.Dictionary(data_lemmatized)\n",
    "\n",
    "# Create Corpus\n",
    "texts = data_lemmatized\n",
    "\n",
    "# Term Document Frequency\n",
    "corpus = [id2word.doc2bow(text) for text in texts]"
   ]
  },
  {
   "cell_type": "code",
   "execution_count": 11,
   "metadata": {},
   "outputs": [
    {
     "name": "stderr",
     "output_type": "stream",
     "text": [
      "C:\\Users\\charlie\\Anaconda3\\anaconda\\lib\\site-packages\\gensim\\models\\ldamodel.py:804: RuntimeWarning: divide by zero encountered in double_scalars\n",
      "  perwordbound = self.bound(chunk, subsample_ratio=subsample_ratio) / (subsample_ratio * corpus_words)\n"
     ]
    }
   ],
   "source": [
    "# Build LDA model\n",
    "lda_model = gensim.models.ldamodel.LdaModel(corpus=corpus,\n",
    "                                           id2word=id2word,\n",
    "                                           num_topics=20, \n",
    "                                           random_state=100,\n",
    "                                           update_every=1,\n",
    "                                           chunksize=100,\n",
    "                                           passes=10,\n",
    "                                           alpha='auto',\n",
    "                                           per_word_topics=True)"
   ]
  },
  {
   "cell_type": "code",
   "execution_count": 12,
   "metadata": {
    "scrolled": true
   },
   "outputs": [
    {
     "name": "stdout",
     "output_type": "stream",
     "text": [
      "[(0,\n",
      "  '0.000*\"security\" + 0.000*\"gate\" + 0.000*\"staff\" + 0.000*\"time\" + '\n",
      "  '0.000*\"check\" + 0.000*\"long\" + 0.000*\"hour\" + 0.000*\"wait\" + 0.000*\"minute\" '\n",
      "  '+ 0.000*\"trip\"'),\n",
      " (1,\n",
      "  '0.001*\"mosque\" + 0.001*\"cafetaria\" + 0.001*\"medina\" + 0.001*\"umrah\" + '\n",
      "  '0.001*\"steelwork\" + 0.001*\"mishap\" + 0.001*\"jeddah\" + 0.000*\"palm\" + '\n",
      "  '0.000*\"staff\" + 0.000*\"time\"'),\n",
      " (2,\n",
      "  '0.014*\"security\" + 0.013*\"time\" + 0.012*\"staff\" + 0.011*\"check\" + '\n",
      "  '0.010*\"hour\" + 0.010*\"gate\" + 0.009*\"queue\" + 0.009*\"people\" + 0.008*\"line\" '\n",
      "  '+ 0.008*\"wait\"'),\n",
      " (3,\n",
      "  '0.002*\"shenzen\" + 0.001*\"upward\" + 0.001*\"chengdu\" + 0.001*\"infected\" + '\n",
      "  '0.001*\"linyi\" + 0.000*\"time\" + 0.000*\"security\" + 0.000*\"staff\" + '\n",
      "  '0.000*\"hour\" + 0.000*\"gate\"'),\n",
      " (4,\n",
      "  '0.000*\"security\" + 0.000*\"time\" + 0.000*\"staff\" + 0.000*\"check\" + '\n",
      "  '0.000*\"gate\" + 0.000*\"hour\" + 0.000*\"wait\" + 0.000*\"experience\" + '\n",
      "  '0.000*\"trip\" + 0.000*\"long\"'),\n",
      " (5,\n",
      "  '0.003*\"rdu\" + 0.002*\"raleigh\" + 0.001*\"durham\" + 0.001*\"inviting\" + '\n",
      "  '0.001*\"predetermined\" + 0.001*\"blunder\" + 0.001*\"confidently\" + '\n",
      "  '0.001*\"since\" + 0.001*\"reassign\" + 0.001*\"attest\"'),\n",
      " (6,\n",
      "  '0.000*\"staff\" + 0.000*\"time\" + 0.000*\"security\" + 0.000*\"check\" + '\n",
      "  '0.000*\"gate\" + 0.000*\"minute\" + 0.000*\"wait\" + 0.000*\"hour\" + 0.000*\"queue\" '\n",
      "  '+ 0.000*\"experience\"'),\n",
      " (7,\n",
      "  '0.008*\"malta\" + 0.006*\"garden\" + 0.004*\"mrt\" + 0.003*\"taiwanese\" + '\n",
      "  '0.002*\"swimming\" + 0.002*\"abundant\" + 0.002*\"mandarin\" + 0.002*\"baltra\" + '\n",
      "  '0.002*\"kitty\" + 0.002*\"silkair\"'),\n",
      " (8,\n",
      "  '0.000*\"time\" + 0.000*\"security\" + 0.000*\"wait\" + 0.000*\"gate\" + '\n",
      "  '0.000*\"hour\" + 0.000*\"queue\" + 0.000*\"minute\" + 0.000*\"staff\" + '\n",
      "  '0.000*\"check\" + 0.000*\"line\"'),\n",
      " (9,\n",
      "  '0.000*\"time\" + 0.000*\"staff\" + 0.000*\"check\" + 0.000*\"security\" + '\n",
      "  '0.000*\"gate\" + 0.000*\"people\" + 0.000*\"minute\" + 0.000*\"hour\" + '\n",
      "  '0.000*\"wait\" + 0.000*\"line\"'),\n",
      " (10,\n",
      "  '0.001*\"hamad\" + 0.001*\"medivial\" + 0.001*\"billund\" + 0.001*\"tesla\" + '\n",
      "  '0.001*\"lego\" + 0.001*\"plunge\" + 0.001*\"measly\" + 0.001*\"oddly\" + '\n",
      "  '0.001*\"praise\" + 0.000*\"security\"'),\n",
      " (11,\n",
      "  '0.000*\"gate\" + 0.000*\"security\" + 0.000*\"staff\" + 0.000*\"time\" + '\n",
      "  '0.000*\"queue\" + 0.000*\"check\" + 0.000*\"arrive\" + 0.000*\"minute\" + '\n",
      "  '0.000*\"long\" + 0.000*\"hour\"'),\n",
      " (12,\n",
      "  '0.000*\"security\" + 0.000*\"time\" + 0.000*\"staff\" + 0.000*\"gate\" + '\n",
      "  '0.000*\"wait\" + 0.000*\"check\" + 0.000*\"queue\" + 0.000*\"hour\" + '\n",
      "  '0.000*\"passenger\" + 0.000*\"minute\"'),\n",
      " (13,\n",
      "  '0.010*\"bangalore\" + 0.008*\"gold_coast\" + 0.005*\"yuan\" + 0.002*\"powerbank\" + '\n",
      "  '0.002*\"cz\" + 0.002*\"pollution\" + 0.002*\"njet\" + 0.002*\"southport\" + '\n",
      "  '0.002*\"smog\" + 0.001*\"capital\"'),\n",
      " (14,\n",
      "  '0.013*\"staff\" + 0.011*\"security\" + 0.010*\"time\" + 0.010*\"gate\" + '\n",
      "  '0.010*\"queue\" + 0.009*\"check\" + 0.008*\"minute\" + 0.008*\"area\" + '\n",
      "  '0.008*\"wait\" + 0.007*\"long\"'),\n",
      " (15,\n",
      "  '0.010*\"athen\" + 0.009*\"haneda\" + 0.007*\"indonesia\" + 0.006*\"portugal\" + '\n",
      "  '0.006*\"bahrain\" + 0.005*\"clean\" + 0.005*\"barajas\" + 0.005*\"garuda\" + '\n",
      "  '0.004*\"easy\" + 0.004*\"aegean\"'),\n",
      " (16,\n",
      "  '0.003*\"porto\" + 0.001*\"nagoya\" + 0.001*\"centrair\" + 0.001*\"photographer\" + '\n",
      "  '0.001*\"decently\" + 0.001*\"cuisine\" + 0.001*\"panoramic\" + 0.001*\"skydeck\" + '\n",
      "  '0.001*\"vew\" + 0.001*\"douro\"'),\n",
      " (17,\n",
      "  '0.002*\"durban\" + 0.001*\"shaka\" + 0.001*\"natal\" + 0.001*\"piazza\" + '\n",
      "  '0.001*\"forgettable\" + 0.001*\"woolworth\" + 0.001*\"kwazulu\" + '\n",
      "  '0.000*\"materialise\" + 0.000*\"security\" + 0.000*\"staff\"'),\n",
      " (18,\n",
      "  '0.000*\"check\" + 0.000*\"staff\" + 0.000*\"queue\" + 0.000*\"time\" + 0.000*\"hour\" '\n",
      "  '+ 0.000*\"gate\" + 0.000*\"long\" + 0.000*\"security\" + 0.000*\"passenger\" + '\n",
      "  '0.000*\"immigration\"'),\n",
      " (19,\n",
      "  '0.011*\"panama\" + 0.010*\"swissport\" + 0.005*\"tocuman\" + 0.005*\"copa\" + '\n",
      "  '0.004*\"east_midland\" + 0.003*\"phoenix\" + 0.003*\"halifax\" + 0.003*\"frontier\" '\n",
      "  '+ 0.003*\"sky_harbor\" + 0.003*\"dad\"')]\n"
     ]
    }
   ],
   "source": [
    "# Print the Keyword in the 10 topics\n",
    "pprint(lda_model.print_topics())\n",
    "doc_lda = lda_model[corpus]"
   ]
  },
  {
   "cell_type": "code",
   "execution_count": 13,
   "metadata": {},
   "outputs": [
    {
     "name": "stdout",
     "output_type": "stream",
     "text": [
      "\n",
      "Perplexity:  -7.327196241346127\n",
      "\n",
      "Coherence Score:  0.32735623035024397\n"
     ]
    }
   ],
   "source": [
    "# Compute Perplexity\n",
    "print('\\nPerplexity: ', lda_model.log_perplexity(corpus))  # a measure of how good the model is. lower the better.\n",
    "\n",
    "# Compute Coherence Score\n",
    "coherence_model_lda = CoherenceModel(model=lda_model, texts=data_lemmatized, dictionary=id2word, coherence='c_v')\n",
    "coherence_lda = coherence_model_lda.get_coherence()\n",
    "print('\\nCoherence Score: ', coherence_lda)"
   ]
  },
  {
   "cell_type": "code",
   "execution_count": 17,
   "metadata": {},
   "outputs": [],
   "source": [
    "def compute_coherence_values(dictionary, corpus, texts, limit, start=2, step=3):\n",
    "    \"\"\"\n",
    "    Compute c_v coherence for various number of topics\n",
    "\n",
    "    Parameters:\n",
    "    ----------\n",
    "    dictionary : Gensim dictionary\n",
    "    corpus : Gensim corpus\n",
    "    texts : List of input texts\n",
    "    limit : Max num of topics\n",
    "\n",
    "    Returns:\n",
    "    -------\n",
    "    model_list : List of LDA topic models\n",
    "    coherence_values : Coherence values corresponding to the LDA model with respective number of topics\n",
    "    \"\"\"\n",
    "    coherence_values = []\n",
    "    model_list = []\n",
    "    for num_topics in range(start, limit, step):\n",
    "        model = gensim.models.wrappers.LdaMallet(mallet_path, corpus=corpus, num_topics=num_topics, id2word=id2word)\n",
    "        model_list.append(model)\n",
    "        coherencemodel = CoherenceModel(model=model, texts=texts, dictionary=dictionary, coherence='c_v')\n",
    "        coherence_values.append(coherencemodel.get_coherence())\n",
    "\n",
    "    return model_list, coherence_values"
   ]
  },
  {
   "cell_type": "code",
   "execution_count": 18,
   "metadata": {},
   "outputs": [
    {
     "name": "stdout",
     "output_type": "stream",
     "text": [
      "Time taken:  674.7063608169556 seconds.\n"
     ]
    }
   ],
   "source": [
    "import time\n",
    "\n",
    "start = time.time()\n",
    "\n",
    "# Can take a long time to run.\n",
    "model_list, coherence_values = compute_coherence_values(dictionary=id2word, corpus=corpus, texts=data_lemmatized, start=2, limit=25, step=3)\n",
    "\n",
    "\n",
    "end = time.time()\n",
    "elapsed = end - start\n",
    "print(\"Time taken: \", elapsed, \"seconds.\")"
   ]
  },
  {
   "cell_type": "code",
   "execution_count": 19,
   "metadata": {},
   "outputs": [
    {
     "data": {
      "image/png": "[encoded data removed]",
      "text/plain": [
       "<Figure size 432x288 with 1 Axes>"
      ]
     },
     "metadata": {},
     "output_type": "display_data"
    }
   ],
   "source": [
    "# Show graph\n",
    "limit=25; start=2; step=3;\n",
    "x = range(start, limit, step)\n",
    "plt.plot(x, coherence_values)\n",
    "plt.xlabel(\"Num Topics\")\n",
    "plt.ylabel(\"Coherence score\")\n",
    "plt.legend((\"coherence_values\"), loc='best')\n",
    "plt.show()"
   ]
  },
  {
   "cell_type": "code",
   "execution_count": 20,
   "metadata": {},
   "outputs": [
    {
     "name": "stdout",
     "output_type": "stream",
     "text": [
      "Num Topics = 2  has Coherence Value of 0.2943\n",
      "Num Topics = 5  has Coherence Value of 0.2919\n",
      "Num Topics = 8  has Coherence Value of 0.3059\n",
      "Num Topics = 11  has Coherence Value of 0.2913\n",
      "Num Topics = 14  has Coherence Value of 0.302\n",
      "Num Topics = 17  has Coherence Value of 0.2941\n",
      "Num Topics = 20  has Coherence Value of 0.2867\n",
      "Num Topics = 23  has Coherence Value of 0.2837\n"
     ]
    }
   ],
   "source": [
    "# Print the coherence scores\n",
    "for m, cv in zip(x, coherence_values):\n",
    "    print(\"Num Topics =\", m, \" has Coherence Value of\", round(cv, 4))"
   ]
  },
  {
   "cell_type": "code",
   "execution_count": 21,
   "metadata": {
    "scrolled": true
   },
   "outputs": [
    {
     "name": "stdout",
     "output_type": "stream",
     "text": [
      "[(0,\n",
      "  '0.033*\"people\" + 0.024*\"time\" + 0.023*\"travel\" + 0.022*\"wait\" + '\n",
      "  '0.020*\"staff\" + 0.019*\"security\" + 0.015*\"experience\" + 0.013*\"bag\" + '\n",
      "  '0.013*\"long\" + 0.013*\"luggage\"'),\n",
      " (1,\n",
      "  '0.026*\"area\" + 0.018*\"walk\" + 0.017*\"passenger\" + 0.015*\"baggage\" + '\n",
      "  '0.014*\"arrival\" + 0.013*\"departure\" + 0.012*\"seat\" + 0.011*\"custom\" + '\n",
      "  '0.011*\"minute\" + 0.010*\"domestic\"'),\n",
      " (2,\n",
      "  '0.035*\"staff\" + 0.035*\"queue\" + 0.025*\"arrive\" + 0.020*\"hour\" + '\n",
      "  '0.017*\"time\" + 0.017*\"wait\" + 0.016*\"minute\" + 0.012*\"find\" + '\n",
      "  '0.012*\"passenger\" + 0.012*\"arrival\"'),\n",
      " (3,\n",
      "  '0.037*\"gate\" + 0.025*\"staff\" + 0.019*\"hour\" + 0.017*\"find\" + '\n",
      "  '0.016*\"transit\" + 0.014*\"experience\" + 0.014*\"board\" + 0.013*\"bus\" + '\n",
      "  '0.012*\"transfer\" + 0.010*\"people\"'),\n",
      " (4,\n",
      "  '0.054*\"immigration\" + 0.027*\"check\" + 0.025*\"time\" + 0.023*\"staff\" + '\n",
      "  '0.020*\"hour\" + 0.019*\"counter\" + 0.018*\"transit\" + 0.016*\"queue\" + '\n",
      "  '0.016*\"long\" + 0.015*\"passenger\"'),\n",
      " (5,\n",
      "  '0.058*\"line\" + 0.028*\"hour\" + 0.021*\"check\" + 0.021*\"time\" + 0.018*\"custom\" '\n",
      "  '+ 0.015*\"security\" + 0.015*\"connect\" + 0.013*\"people\" + 0.012*\"minute\" + '\n",
      "  '0.012*\"agent\"'),\n",
      " (6,\n",
      "  '0.028*\"clean\" + 0.022*\"trip\" + 0.021*\"shop\" + 0.016*\"food\" + 0.016*\"easy\" + '\n",
      "  '0.016*\"fast\" + 0.014*\"toilet\" + 0.014*\"restaurant\" + 0.014*\"gate\" + '\n",
      "  '0.013*\"free\"'),\n",
      " (7,\n",
      "  '0.084*\"security\" + 0.064*\"check\" + 0.022*\"queue\" + 0.021*\"minute\" + '\n",
      "  '0.021*\"passport_control\" + 0.021*\"gate\" + 0.018*\"departure\" + 0.016*\"shop\" '\n",
      "  '+ 0.015*\"passport\" + 0.013*\"time\"')]\n"
     ]
    }
   ],
   "source": [
    "# Select the model and print the topics\n",
    "optimal_model = model_list[2]\n",
    "model_topics = optimal_model.show_topics(formatted=False)\n",
    "pprint(optimal_model.print_topics(num_words=10))"
   ]
  },
  {
   "cell_type": "code",
   "execution_count": 22,
   "metadata": {
    "scrolled": true
   },
   "outputs": [
    {
     "name": "stdout",
     "output_type": "stream",
     "text": [
      "[(0,\n",
      "  '0.033*\"people\" + 0.024*\"time\" + 0.023*\"travel\" + 0.022*\"wait\" + '\n",
      "  '0.020*\"staff\" + 0.019*\"security\" + 0.015*\"experience\" + 0.013*\"bag\" + '\n",
      "  '0.013*\"long\" + 0.013*\"luggage\" + 0.012*\"make\" + 0.012*\"review\" + '\n",
      "  '0.011*\"gate\" + 0.010*\"queue\" + 0.009*\"rude\" + 0.009*\"bad\" + 0.008*\"place\" + '\n",
      "  '0.008*\"customer\" + 0.007*\"work\" + 0.007*\"problem\"'),\n",
      " (1,\n",
      "  '0.026*\"area\" + 0.018*\"walk\" + 0.017*\"passenger\" + 0.015*\"baggage\" + '\n",
      "  '0.014*\"arrival\" + 0.013*\"departure\" + 0.012*\"seat\" + 0.011*\"custom\" + '\n",
      "  '0.011*\"minute\" + 0.010*\"domestic\" + 0.010*\"parking\" + 0.009*\"exit\" + '\n",
      "  '0.009*\"arrive\" + 0.009*\"pick\" + 0.009*\"long\" + 0.008*\"food\" + 0.008*\"place\" '\n",
      "  '+ 0.008*\"hall\" + 0.007*\"pay\" + 0.007*\"poor\"'),\n",
      " (2,\n",
      "  '0.035*\"staff\" + 0.035*\"queue\" + 0.025*\"arrive\" + 0.020*\"hour\" + '\n",
      "  '0.017*\"time\" + 0.017*\"wait\" + 0.016*\"minute\" + 0.012*\"find\" + '\n",
      "  '0.012*\"passenger\" + 0.012*\"arrival\" + 0.011*\"departure\" + 0.011*\"delay\" + '\n",
      "  '0.011*\"return\" + 0.011*\"bag\" + 0.010*\"desk\" + 0.009*\"experience\" + '\n",
      "  '0.009*\"passport\" + 0.009*\"plane\" + 0.008*\"long\" + 0.008*\"service\"'),\n",
      " (3,\n",
      "  '0.037*\"gate\" + 0.025*\"staff\" + 0.019*\"hour\" + 0.017*\"find\" + '\n",
      "  '0.016*\"transit\" + 0.014*\"experience\" + 0.014*\"board\" + 0.013*\"bus\" + '\n",
      "  '0.012*\"transfer\" + 0.010*\"people\" + 0.010*\"give\" + 0.010*\"sign\" + '\n",
      "  '0.009*\"bad\" + 0.009*\"time\" + 0.009*\"change\" + 0.009*\"plane\" + 0.008*\"delay\" '\n",
      "  '+ 0.008*\"avoid\" + 0.008*\"signage\" + 0.008*\"speak\"'),\n",
      " (4,\n",
      "  '0.054*\"immigration\" + 0.027*\"check\" + 0.025*\"time\" + 0.023*\"staff\" + '\n",
      "  '0.020*\"hour\" + 0.019*\"counter\" + 0.018*\"transit\" + 0.016*\"queue\" + '\n",
      "  '0.016*\"long\" + 0.015*\"passenger\" + 0.015*\"arrival\" + 0.015*\"review\" + '\n",
      "  '0.013*\"departure\" + 0.011*\"experience\" + 0.011*\"line\" + 0.009*\"wifi\" + '\n",
      "  '0.009*\"good\" + 0.009*\"arrive\" + 0.009*\"facility\" + 0.008*\"officer\"'),\n",
      " (5,\n",
      "  '0.058*\"line\" + 0.028*\"hour\" + 0.021*\"check\" + 0.021*\"time\" + 0.018*\"custom\" '\n",
      "  '+ 0.015*\"security\" + 0.015*\"connect\" + 0.013*\"people\" + 0.012*\"minute\" + '\n",
      "  '0.012*\"agent\" + 0.012*\"employee\" + 0.011*\"wait\" + 0.011*\"immigration\" + '\n",
      "  '0.011*\"arrive\" + 0.010*\"process\" + 0.010*\"connection\" + 0.010*\"rude\" + '\n",
      "  '0.009*\"move\" + 0.009*\"passenger\" + 0.009*\"terminal\"'),\n",
      " (6,\n",
      "  '0.028*\"clean\" + 0.022*\"trip\" + 0.021*\"shop\" + 0.016*\"food\" + 0.016*\"easy\" + '\n",
      "  '0.016*\"fast\" + 0.014*\"toilet\" + 0.014*\"restaurant\" + 0.014*\"gate\" + '\n",
      "  '0.013*\"free\" + 0.013*\"service\" + 0.013*\"area\" + 0.013*\"long\" + 0.012*\"wait\" '\n",
      "  '+ 0.012*\"train\" + 0.011*\"friendly\" + 0.011*\"great\" + 0.010*\"efficient\" + '\n",
      "  '0.010*\"wifi\" + 0.010*\"plenty\"'),\n",
      " (7,\n",
      "  '0.084*\"security\" + 0.064*\"check\" + 0.022*\"queue\" + 0.021*\"minute\" + '\n",
      "  '0.021*\"passport_control\" + 0.021*\"gate\" + 0.018*\"departure\" + 0.016*\"shop\" '\n",
      "  '+ 0.015*\"passport\" + 0.013*\"time\" + 0.011*\"lounge\" + 0.011*\"small\" + '\n",
      "  '0.010*\"passenger\" + 0.010*\"area\" + 0.009*\"open\" + 0.009*\"information\" + '\n",
      "  '0.009*\"control\" + 0.008*\"number\" + 0.008*\"board\" + 0.008*\"work\"')]\n"
     ]
    }
   ],
   "source": [
    "pprint(optimal_model.print_topics(num_words=20))"
   ]
  },
  {
   "cell_type": "code",
   "execution_count": 23,
   "metadata": {
    "scrolled": true
   },
   "outputs": [
    {
     "name": "stdout",
     "output_type": "stream",
     "text": [
      "[(0,\n",
      "  '0.033*\"people\" + 0.024*\"time\" + 0.023*\"travel\" + 0.022*\"wait\" + '\n",
      "  '0.020*\"staff\" + 0.019*\"security\" + 0.015*\"experience\" + 0.013*\"long\" + '\n",
      "  '0.013*\"bag\" + 0.013*\"luggage\" + 0.012*\"make\" + 0.012*\"review\" + '\n",
      "  '0.011*\"gate\" + 0.010*\"queue\" + 0.009*\"rude\" + 0.009*\"bad\" + 0.008*\"place\" + '\n",
      "  '0.008*\"customer\" + 0.007*\"work\" + 0.007*\"country\" + 0.007*\"miss\" + '\n",
      "  '0.007*\"problem\" + 0.007*\"plane\" + 0.007*\"leave\" + 0.007*\"put\" + '\n",
      "  '0.006*\"depart\" + 0.006*\"happen\" + 0.006*\"stand\" + 0.006*\"min\" + '\n",
      "  '0.006*\"signage\"'),\n",
      " (1,\n",
      "  '0.026*\"area\" + 0.018*\"walk\" + 0.017*\"passenger\" + 0.015*\"baggage\" + '\n",
      "  '0.014*\"arrival\" + 0.013*\"departure\" + 0.012*\"seat\" + 0.011*\"custom\" + '\n",
      "  '0.011*\"minute\" + 0.010*\"domestic\" + 0.010*\"parking\" + 0.009*\"exit\" + '\n",
      "  '0.009*\"arrive\" + 0.009*\"pick\" + 0.009*\"long\" + 0.008*\"food\" + 0.008*\"place\" '\n",
      "  '+ 0.008*\"hall\" + 0.007*\"pay\" + 0.007*\"poor\" + 0.007*\"sit\" + 0.007*\"number\" '\n",
      "  '+ 0.006*\"carousel\" + 0.006*\"dirty\" + 0.006*\"world\" + 0.006*\"bag\" + '\n",
      "  '0.006*\"friendly\" + 0.006*\"traffic\" + 0.006*\"lack\" + 0.006*\"sign\"'),\n",
      " (2,\n",
      "  '0.035*\"staff\" + 0.035*\"queue\" + 0.025*\"arrive\" + 0.020*\"hour\" + '\n",
      "  '0.017*\"time\" + 0.017*\"wait\" + 0.016*\"minute\" + 0.012*\"find\" + '\n",
      "  '0.012*\"passenger\" + 0.012*\"arrival\" + 0.011*\"departure\" + 0.011*\"delay\" + '\n",
      "  '0.011*\"return\" + 0.011*\"bag\" + 0.010*\"desk\" + 0.009*\"experience\" + '\n",
      "  '0.009*\"passport\" + 0.009*\"plane\" + 0.008*\"long\" + 0.008*\"service\" + '\n",
      "  '0.008*\"give\" + 0.008*\"member\" + 0.007*\"drop\" + 0.006*\"passport_control\" + '\n",
      "  '0.006*\"baggage\" + 0.006*\"system\" + 0.006*\"border\" + 0.005*\"review\" + '\n",
      "  '0.005*\"start\" + 0.005*\"due\"'),\n",
      " (3,\n",
      "  '0.037*\"gate\" + 0.025*\"staff\" + 0.019*\"hour\" + 0.017*\"find\" + '\n",
      "  '0.016*\"transit\" + 0.014*\"experience\" + 0.014*\"board\" + 0.013*\"bus\" + '\n",
      "  '0.012*\"transfer\" + 0.010*\"people\" + 0.010*\"give\" + 0.010*\"sign\" + '\n",
      "  '0.009*\"bad\" + 0.009*\"time\" + 0.009*\"change\" + 0.009*\"plane\" + 0.008*\"delay\" '\n",
      "  '+ 0.008*\"avoid\" + 0.008*\"signage\" + 0.008*\"speak\" + 0.008*\"walk\" + '\n",
      "  '0.007*\"trip\" + 0.007*\"big\" + 0.007*\"point\" + 0.006*\"rude\" + '\n",
      "  '0.006*\"passenger\" + 0.006*\"sit\" + 0.006*\"long\" + 0.006*\"connect\" + '\n",
      "  '0.006*\"hand\"'),\n",
      " (4,\n",
      "  '0.054*\"immigration\" + 0.027*\"check\" + 0.025*\"time\" + 0.023*\"staff\" + '\n",
      "  '0.020*\"hour\" + 0.019*\"counter\" + 0.018*\"transit\" + 0.016*\"queue\" + '\n",
      "  '0.016*\"long\" + 0.015*\"passenger\" + 0.015*\"arrival\" + 0.015*\"review\" + '\n",
      "  '0.013*\"departure\" + 0.011*\"experience\" + 0.011*\"line\" + 0.009*\"wifi\" + '\n",
      "  '0.009*\"good\" + 0.009*\"arrive\" + 0.009*\"facility\" + 0.008*\"officer\" + '\n",
      "  '0.008*\"taxi\" + 0.008*\"process\" + 0.008*\"depart\" + 0.008*\"world\" + '\n",
      "  '0.007*\"wait\" + 0.007*\"great\" + 0.006*\"food\" + 0.006*\"lounge\" + '\n",
      "  '0.006*\"clean\" + 0.006*\"domestic\"'),\n",
      " (5,\n",
      "  '0.058*\"line\" + 0.028*\"hour\" + 0.021*\"check\" + 0.021*\"time\" + 0.018*\"custom\" '\n",
      "  '+ 0.015*\"security\" + 0.015*\"connect\" + 0.013*\"people\" + 0.012*\"minute\" + '\n",
      "  '0.012*\"agent\" + 0.012*\"employee\" + 0.011*\"wait\" + 0.011*\"immigration\" + '\n",
      "  '0.011*\"arrive\" + 0.010*\"process\" + 0.010*\"connection\" + 0.010*\"rude\" + '\n",
      "  '0.009*\"move\" + 0.009*\"passenger\" + 0.009*\"terminal\" + 0.009*\"miss\" + '\n",
      "  '0.008*\"trip\" + 0.008*\"officer\" + 0.006*\"work\" + 0.006*\"avoid\" + 0.006*\"bad\" '\n",
      "  '+ 0.006*\"leave\" + 0.006*\"service\" + 0.006*\"bag\" + 0.005*\"traveler\"'),\n",
      " (6,\n",
      "  '0.028*\"clean\" + 0.022*\"trip\" + 0.021*\"shop\" + 0.016*\"food\" + 0.016*\"easy\" + '\n",
      "  '0.016*\"fast\" + 0.014*\"toilet\" + 0.014*\"restaurant\" + 0.014*\"gate\" + '\n",
      "  '0.013*\"free\" + 0.013*\"service\" + 0.013*\"area\" + 0.013*\"long\" + 0.012*\"wait\" '\n",
      "  '+ 0.012*\"train\" + 0.011*\"friendly\" + 0.011*\"great\" + 0.010*\"efficient\" + '\n",
      "  '0.010*\"plenty\" + 0.010*\"wifi\" + 0.010*\"time\" + 0.010*\"seat\" + '\n",
      "  '0.010*\"shopping\" + 0.009*\"arrive\" + 0.009*\"find\" + 0.009*\"review\" + '\n",
      "  '0.008*\"price\" + 0.007*\"option\" + 0.007*\"line\" + 0.007*\"helpful\"'),\n",
      " (7,\n",
      "  '0.084*\"security\" + 0.064*\"check\" + 0.022*\"queue\" + 0.021*\"minute\" + '\n",
      "  '0.021*\"passport_control\" + 0.021*\"gate\" + 0.018*\"departure\" + 0.016*\"shop\" '\n",
      "  '+ 0.015*\"passport\" + 0.013*\"time\" + 0.011*\"lounge\" + 0.011*\"small\" + '\n",
      "  '0.010*\"passenger\" + 0.010*\"area\" + 0.009*\"open\" + 0.009*\"information\" + '\n",
      "  '0.009*\"control\" + 0.008*\"number\" + 0.008*\"board\" + 0.008*\"work\" + '\n",
      "  '0.008*\"pass\" + 0.007*\"bus\" + 0.007*\"duty_free\" + 0.007*\"walk\" + '\n",
      "  '0.007*\"review\" + 0.006*\"ticket\" + 0.006*\"end\" + 0.006*\"staff\" + '\n",
      "  '0.006*\"reach\" + 0.006*\"buy\"')]\n"
     ]
    }
   ],
   "source": [
    "# Select the model and print the topics\n",
    "optimal_model = model_list[2]\n",
    "model_topics = optimal_model.show_topics(formatted=False)\n",
    "pprint(optimal_model.print_topics(num_words=30))"
   ]
  },
  {
   "cell_type": "code",
   "execution_count": null,
   "metadata": {},
   "outputs": [],
   "source": []
  }
 ],
 "metadata": {
  "kernelspec": {
   "display_name": "Python 3",
   "language": "python",
   "name": "python3"
  },
  "language_info": {
   "codemirror_mode": {
    "name": "ipython",
    "version": 3
   },
   "file_extension": ".py",
   "mimetype": "text/x-python",
   "name": "python",
   "nbconvert_exporter": "python",
   "pygments_lexer": "ipython3",
   "version": "3.7.6"
  }
 },
 "nbformat": 4,
 "nbformat_minor": 2
}
