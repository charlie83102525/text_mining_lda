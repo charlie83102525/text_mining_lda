{
 "cells": [
  {
   "cell_type": "code",
   "execution_count": 1,
   "metadata": {},
   "outputs": [
    {
     "name": "stdout",
     "output_type": "stream",
     "text": [
      "[nltk_data] Downloading package stopwords to\n",
      "[nltk_data]     C:\\Users\\charlie\\AppData\\Roaming\\nltk_data...\n",
      "[nltk_data]   Package stopwords is already up-to-date!\n"
     ]
    },
    {
     "data": {
      "text/plain": [
       "True"
      ]
     },
     "execution_count": 1,
     "metadata": {},
     "output_type": "execute_result"
    }
   ],
   "source": [
    "# Run in python console\n",
    "import nltk; nltk.download('stopwords')"
   ]
  },
  {
   "cell_type": "code",
   "execution_count": 2,
   "metadata": {},
   "outputs": [
    {
     "name": "stderr",
     "output_type": "stream",
     "text": [
      "C:\\Users\\charlie\\Anaconda3\\anaconda\\lib\\site-packages\\gensim\\utils.py:1212: UserWarning: detected Windows; aliasing chunkize to chunkize_serial\n",
      "  warnings.warn(\"detected Windows; aliasing chunkize to chunkize_serial\")\n"
     ]
    }
   ],
   "source": [
    "import re\n",
    "import numpy as np\n",
    "import pandas as pd\n",
    "from pprint import pprint\n",
    "\n",
    "# Gensim\n",
    "import gensim\n",
    "import gensim.corpora as corpora\n",
    "from gensim.utils import simple_preprocess\n",
    "from gensim.models import CoherenceModel\n",
    "\n",
    "# spacy for lemmatization\n",
    "import spacy\n",
    "\n",
    "# Plotting tools\n",
    "import pyLDAvis\n",
    "import pyLDAvis.gensim  # don't skip this\n",
    "import matplotlib.pyplot as plt\n",
    "%matplotlib inline\n",
    "\n",
    "# Enable logging for gensim - optional\n",
    "import logging\n",
    "logging.basicConfig(format='%(asctime)s : %(levelname)s : %(message)s', level=logging.ERROR)\n",
    "\n",
    "import warnings\n",
    "warnings.filterwarnings(\"ignore\",category=DeprecationWarning)"
   ]
  },
  {
   "cell_type": "code",
   "execution_count": 3,
   "metadata": {},
   "outputs": [],
   "source": [
    "# NLTK Stop words\n",
    "from nltk.corpus import stopwords\n",
    "stop_words = stopwords.words('english')\n",
    "stop_words.extend(['from', 'subject', 're', 'edu', 'use','t','airport','can','termin','s','german','lufthansa','frankfurt','fra','z','taoyuan','taipei','beij','beij capit','lo angel','taiwan','flight','pek','hk','hkg','couldnt','us','two','though','lax','one','didnt',\n",
    "                   'seem','keep','although','yet','bu','sfo','tbit','air','southwest','tom','howev','go','ever','still','took','must','hotdog','aw',\n",
    "                  'putt','san','get','tbi','sinc','los','angeles','could','would','be','may','not','sein','fur','rießige','sehr','der','changi','tpe'\n",
    "                  ,'waw','poland','chopin','warsaw chopin','etiuda','zaventem','brussels zaventem','chisinan','dfw','budap','huf','ferihegy','hungarian','warsaw fryderyk chopin','chisinau'\n",
    "                  ,'dallas fort worth','stanchion','kobanya','ferenc',\"pearson\" ,\"arlanda\" ,\"czech airline\",\"copenhagen\" ,\"lima\",\"csa\",\"sa\",\"cote\",\"sas\",\"stockholm\",\"tsa\",\"terminal\",\"delta\",\"concourse\",\"logan\",\n",
    "                  \"mauritius\",\"baku\",\"ssr\" ,\"south african\" ,\"johannesburg\",\"cape town\",\"guayaquil\",\"reunion\" ,\"mauritian\",\"saa\"\n",
    "                  ,\"delhi\",\"chinese\",\"china\",\"shenzhen\",\"rupee\",\"sheremetyevo\",\"dme\",\"domodedovo\",\"beij\",'✅ Trip Verified | ','Not Verified | ','❎ Unverified | ','❎ Not Verified | ','✅ Verified Review | ','mumbai',\n",
    "                  'melbourne','sydney','klia','narita','jfk','dubai','singapore','india','cdg','trip verifi','japan','japanese','jakarta'\n",
    "                  ,'birmingham','lisbon','zurich','vienna','gatwick','heathrow','london','canada','good','emirate','dublin','verified review','amsterdam','auckland','atlanta','hong_kong','munich','brussel'\n",
    "                  ,'paris','australia','klm','prague','lot','schiphol','bhx','north','south','brisbane','verify','verified','athen','rome','qanta','hong','kong','hong kong',\n",
    "                  'bkk','bangkok','boston','french','tokyo','dusseldorf','helsinki','barcelona','madrid','brussel','schengen','toronto','vancouver','montreal','indian','perth','australian','nz','new zealand','jetstar','doha'\n",
    "                  ,'denver','kuala lumpur','europe','moscow','beijing','Beijing','france','usa','american','houston','Emirates','emirates','Hong Kong','New York','New','York','Build','New Zealand','Zealand','Qanta'\n",
    "                  ,'Kuala Lumpur','Incheon','airline','flight','aircraft','Oslo','Suvarnabhumi','Thailand','Hong','Kong','Haneda','Adelaide','Singapore','Changi','Seoul','Tokyo','Doha','Munich','Centrair','Nagoya'\n",
    "                  ,'Zurich','Frankfurt','Narita','Amsterdam','Schiphol','Kansai','Osaka','Vancouver','Helsinki','Vantaa','Vienna','Shanghai','Hongqiao'\n",
    "                   ,'Copenhagen','Sydney','Cape Town','Brisbane','Dubai','Auckland','Hamburg','Durban','King Shaka','Melbourne','Denver','Dusseldorf','Cologne','Bonn','Johannesburg'\n",
    "                  ,'Beijing','Cincinnati','Northern Kentucky','Haikou','Bangkok','Paris','CDG','Xian','Athens','Gimpo','Toronto','Pearson','Barcelona','Madrid','Barajas','Jakarta','Bogota','Quito'\n",
    "                  ,'Houston','IAH','Lima','Atlanta','San','Francisco','Christchurch','Abu','Dhabi','Gatwick','Gold','Coast','Dallas','Fort Worth','Lisbon','Stockholm','Arlanda','Perth','Chengdu'\n",
    "                  ,'Seattle','Tacoma','Mumbai','Bangalore','Baku','Delhi','Montreal','Moscow','Sheremetyevo','JFK','Guayaquil','Porto'\n",
    "                  ,'Los','Angeles','Bahrain','Moscow','Domodedovo','Hyderabad','Malta','Halifax','New zealand'\n",
    "                  ,'Minneapolis','Dublin','Sanya','Phoenix','Hanoi','Noi','Bai','Shenzhen','international','oslo',\n",
    "                  'Rome','Fiumicino','Birmingham','Detroit','Boston','Logan','Budapest','Brussels','Zaventem','European','Brussel'\n",
    "                  ,'Prague','Raleigh','Durham','Panama','Tocumen','Warsaw','Chopin','Medina','Mauritius','Nice','Houston','Hobby','Fukuoka','bad','Korean','Canadian','Qantas','Thai','Swiss',\"European's\",'flights','badly','nicer',\"New Zealand's\",'quickly','quick'\n",
    "                  ,'non-european','Canadians','nice','nicely','New Yorker','make','makes','extremely','Extremely','lot','lots','Airport','airports','year','years','fly','flying','flyers','Fly','BA','bit','back'\n",
    "                  ,'day','days'\"New York's\",'Pre','Bad','Badly','Good','goods','Airlines','airlines','euro','thing','things','european','Kuala','Lumpur','thai','Canadians','IAH'])"
   ]
  },
  {
   "cell_type": "code",
   "execution_count": 4,
   "metadata": {},
   "outputs": [
    {
     "name": "stdout",
     "output_type": "stream",
     "text": [
      "['i', 'me', 'my', 'myself', 'we', 'our', 'ours', 'ourselves', 'you', \"you're\", \"you've\", \"you'll\", \"you'd\", 'your', 'yours', 'yourself', 'yourselves', 'he', 'him', 'his', 'himself', 'she', \"she's\", 'her', 'hers', 'herself', 'it', \"it's\", 'its', 'itself', 'they', 'them', 'their', 'theirs', 'themselves', 'what', 'which', 'who', 'whom', 'this', 'that', \"that'll\", 'these', 'those', 'am', 'is', 'are', 'was', 'were', 'be', 'been', 'being', 'have', 'has', 'had', 'having', 'do', 'does', 'did', 'doing', 'a', 'an', 'the', 'and', 'but', 'if', 'or', 'because', 'as', 'until', 'while', 'of', 'at', 'by', 'for', 'with', 'about', 'against', 'between', 'into', 'through', 'during', 'before', 'after', 'above', 'below', 'to', 'from', 'up', 'down', 'in', 'out', 'on', 'off', 'over', 'under', 'again', 'further', 'then', 'once', 'here', 'there', 'when', 'where', 'why', 'how', 'all', 'any', 'both', 'each', 'few', 'more', 'most', 'other', 'some', 'such', 'no', 'nor', 'not', 'only', 'own', 'same', 'so', 'than', 'too', 'very', 's', 't', 'can', 'will', 'just', 'don', \"don't\", 'should', \"should've\", 'now', 'd', 'll', 'm', 'o', 're', 've', 'y', 'ain', 'aren', \"aren't\", 'couldn', \"couldn't\", 'didn', \"didn't\", 'doesn', \"doesn't\", 'hadn', \"hadn't\", 'hasn', \"hasn't\", 'haven', \"haven't\", 'isn', \"isn't\", 'ma', 'mightn', \"mightn't\", 'mustn', \"mustn't\", 'needn', \"needn't\", 'shan', \"shan't\", 'shouldn', \"shouldn't\", 'wasn', \"wasn't\", 'weren', \"weren't\", 'won', \"won't\", 'wouldn', \"wouldn't\", 'from', 'subject', 're', 'edu', 'use', 't', 'airport', 'can', 'termin', 's', 'german', 'lufthansa', 'frankfurt', 'fra', 'z', 'taoyuan', 'taipei', 'beij', 'beij capit', 'lo angel', 'taiwan', 'flight', 'pek', 'hk', 'hkg', 'couldnt', 'us', 'two', 'though', 'lax', 'one', 'didnt', 'seem', 'keep', 'although', 'yet', 'bu', 'sfo', 'tbit', 'air', 'southwest', 'tom', 'howev', 'go', 'ever', 'still', 'took', 'must', 'hotdog', 'aw', 'putt', 'san', 'get', 'tbi', 'sinc', 'los', 'angeles', 'could', 'would', 'be', 'may', 'not', 'sein', 'fur', 'rießige', 'sehr', 'der', 'changi', 'tpe', 'waw', 'poland', 'chopin', 'warsaw chopin', 'etiuda', 'zaventem', 'brussels zaventem', 'chisinan', 'dfw', 'budap', 'huf', 'ferihegy', 'hungarian', 'warsaw fryderyk chopin', 'chisinau', 'dallas fort worth', 'stanchion', 'kobanya', 'ferenc', 'pearson', 'arlanda', 'czech airline', 'copenhagen', 'lima', 'csa', 'sa', 'cote', 'sas', 'stockholm', 'tsa', 'terminal', 'delta', 'concourse', 'logan', 'mauritius', 'baku', 'ssr', 'south african', 'johannesburg', 'cape town', 'guayaquil', 'reunion', 'mauritian', 'saa', 'delhi', 'chinese', 'china', 'shenzhen', 'rupee', 'sheremetyevo', 'dme', 'domodedovo', 'beij', '✅ Trip Verified | ', 'Not Verified | ', '❎ Unverified | ', '❎ Not Verified | ', '✅ Verified Review | ', 'mumbai', 'melbourne', 'sydney', 'klia', 'narita', 'jfk', 'dubai', 'singapore', 'india', 'cdg', 'trip verifi', 'japan', 'japanese', 'jakarta', 'birmingham', 'lisbon', 'zurich', 'vienna', 'gatwick', 'heathrow', 'london', 'canada', 'good', 'emirate', 'dublin', 'verified review', 'amsterdam', 'auckland', 'atlanta', 'hong_kong', 'munich', 'brussel', 'paris', 'australia', 'klm', 'prague', 'lot', 'schiphol', 'bhx', 'north', 'south', 'brisbane', 'verify', 'verified', 'athen', 'rome', 'qanta', 'hong', 'kong', 'hong kong', 'bkk', 'bangkok', 'boston', 'french', 'tokyo', 'dusseldorf', 'helsinki', 'barcelona', 'madrid', 'brussel', 'schengen', 'toronto', 'vancouver', 'montreal', 'indian', 'perth', 'australian', 'nz', 'new zealand', 'jetstar', 'doha', 'denver', 'kuala lumpur', 'europe', 'moscow', 'beijing', 'Beijing', 'france', 'usa', 'american', 'houston', 'Emirates', 'emirates', 'Hong Kong', 'New York', 'New', 'York', 'Build', 'New Zealand', 'Zealand', 'Qanta', 'Kuala Lumpur', 'Incheon', 'airline', 'flight', 'aircraft', 'Oslo', 'Suvarnabhumi', 'Thailand', 'Hong', 'Kong', 'Haneda', 'Adelaide', 'Singapore', 'Changi', 'Seoul', 'Tokyo', 'Doha', 'Munich', 'Centrair', 'Nagoya', 'Zurich', 'Frankfurt', 'Narita', 'Amsterdam', 'Schiphol', 'Kansai', 'Osaka', 'Vancouver', 'Helsinki', 'Vantaa', 'Vienna', 'Shanghai', 'Hongqiao', 'Copenhagen', 'Sydney', 'Cape Town', 'Brisbane', 'Dubai', 'Auckland', 'Hamburg', 'Durban', 'King Shaka', 'Melbourne', 'Denver', 'Dusseldorf', 'Cologne', 'Bonn', 'Johannesburg', 'Beijing', 'Cincinnati', 'Northern Kentucky', 'Haikou', 'Bangkok', 'Paris', 'CDG', 'Xian', 'Athens', 'Gimpo', 'Toronto', 'Pearson', 'Barcelona', 'Madrid', 'Barajas', 'Jakarta', 'Bogota', 'Quito', 'Houston', 'IAH', 'Lima', 'Atlanta', 'San', 'Francisco', 'Christchurch', 'Abu', 'Dhabi', 'Gatwick', 'Gold', 'Coast', 'Dallas', 'Fort Worth', 'Lisbon', 'Stockholm', 'Arlanda', 'Perth', 'Chengdu', 'Seattle', 'Tacoma', 'Mumbai', 'Bangalore', 'Baku', 'Delhi', 'Montreal', 'Moscow', 'Sheremetyevo', 'JFK', 'Guayaquil', 'Porto', 'Los', 'Angeles', 'Bahrain', 'Moscow', 'Domodedovo', 'Hyderabad', 'Malta', 'Halifax', 'New zealand', 'Minneapolis', 'Dublin', 'Sanya', 'Phoenix', 'Hanoi', 'Noi', 'Bai', 'Shenzhen', 'international', 'oslo', 'Rome', 'Fiumicino', 'Birmingham', 'Detroit', 'Boston', 'Logan', 'Budapest', 'Brussels', 'Zaventem', 'European', 'Brussel', 'Prague', 'Raleigh', 'Durham', 'Panama', 'Tocumen', 'Warsaw', 'Chopin', 'Medina', 'Mauritius', 'Nice', 'Houston', 'Hobby', 'Fukuoka', 'bad', 'Korean', 'Canadian', 'Qantas', 'Thai', 'Swiss', \"European's\", 'flights', 'badly', 'nicer', \"New Zealand's\", 'quickly', 'quick', 'non-european', 'Canadians', 'nice', 'nicely', 'New Yorker', 'make', 'makes', 'extremely', 'Extremely', 'lot', 'lots', 'Airport', 'airports', 'year', 'years', 'fly', 'flying', 'flyers', 'Fly', 'BA', 'bit', 'back', 'day', \"daysNew York's\", 'Pre', 'Bad', 'Badly', 'Good', 'goods', 'Airlines', 'airlines', 'euro', 'thing', 'things', 'european', 'Kuala', 'Lumpur', 'thai', 'Canadians', 'IAH']\n"
     ]
    }
   ],
   "source": [
    "print(stop_words)"
   ]
  },
  {
   "cell_type": "code",
   "execution_count": 4,
   "metadata": {},
   "outputs": [],
   "source": [
    "import os\n",
    "os.chdir('C:/Users/charlie/Documents/3Y_Airport')\n",
    "docss = []\n",
    "for filename in os.listdir(os.getcwd()):\n",
    "    out = open(filename, encoding = 'utf8')\n",
    "    docss.append([out.read()])\n",
    "    out.close()"
   ]
  },
  {
   "cell_type": "code",
   "execution_count": 5,
   "metadata": {},
   "outputs": [],
   "source": [
    "data = []\n",
    "for i in docss:\n",
    "    for e in i:\n",
    "        data.append(e)"
   ]
  },
  {
   "cell_type": "code",
   "execution_count": 6,
   "metadata": {},
   "outputs": [],
   "source": [
    "def sent_to_words(sentences):\n",
    "    for sentence in sentences:\n",
    "        yield(gensim.utils.simple_preprocess(str(sentence), deacc=True))  # deacc=True removes punctuations\n",
    "\n",
    "data_words = list(sent_to_words(data))"
   ]
  },
  {
   "cell_type": "code",
   "execution_count": 7,
   "metadata": {},
   "outputs": [
    {
     "name": "stderr",
     "output_type": "stream",
     "text": [
      "C:\\Users\\charlie\\Anaconda3\\anaconda\\lib\\site-packages\\gensim\\models\\phrases.py:598: UserWarning: For a faster implementation, use the gensim.models.phrases.Phraser class\n",
      "  warnings.warn(\"For a faster implementation, use the gensim.models.phrases.Phraser class\")\n"
     ]
    }
   ],
   "source": [
    "# Build the bigram and trigram models\n",
    "bigram = gensim.models.Phrases(data_words, min_count=5, threshold=100) # higher threshold fewer phrases.\n",
    "trigram = gensim.models.Phrases(bigram[data_words], threshold=100)  \n",
    "\n",
    "# Faster way to get a sentence clubbed as a trigram/bigram\n",
    "bigram_mod = gensim.models.phrases.Phraser(bigram)\n",
    "trigram_mod = gensim.models.phrases.Phraser(trigram)"
   ]
  },
  {
   "cell_type": "code",
   "execution_count": 8,
   "metadata": {},
   "outputs": [],
   "source": [
    "# Define functions for stopwords, bigrams, trigrams and lemmatization\n",
    "def remove_stopwords(texts):\n",
    "    return [[word for word in simple_preprocess(str(doc)) if word not in stop_words] for doc in texts]\n",
    "\n",
    "def make_bigrams(texts):\n",
    "    return [bigram_mod[doc] for doc in texts]\n",
    "\n",
    "def make_trigrams(texts):\n",
    "    return [trigram_mod[bigram_mod[doc]] for doc in texts]\n",
    "\n",
    "def lemmatization(texts, allowed_postags=['NOUN', 'ADJ', 'VERB', 'ADV']):\n",
    "    \"\"\"https://spacy.io/api/annotation\"\"\"\n",
    "    texts_out = []\n",
    "    for sent in texts:\n",
    "        doc = nlp(\" \".join(sent)) \n",
    "        texts_out.append([token.lemma_ for token in doc if token.pos_ in allowed_postags])\n",
    "    return texts_out"
   ]
  },
  {
   "cell_type": "code",
   "execution_count": 9,
   "metadata": {},
   "outputs": [],
   "source": [
    "# Remove Stop Words\n",
    "data_words_nostops = remove_stopwords(data_words)\n",
    "\n",
    "# Form Bigrams\n",
    "data_words_bigrams = make_bigrams(data_words_nostops)\n",
    "\n",
    "# Initialize spacy 'en' model, keeping only tagger component (for efficiency)\n",
    "# python3 -m spacy download en\n",
    "nlp = spacy.load('en', disable=['parser', 'ner'])\n",
    "\n",
    "# Do lemmatization keeping only noun, adj, vb, adv\n",
    "data_lemmatized = lemmatization(data_words_bigrams, allowed_postags=['NOUN', 'ADJ', 'VERB', 'ADV'])"
   ]
  },
  {
   "cell_type": "code",
   "execution_count": 10,
   "metadata": {},
   "outputs": [],
   "source": [
    "# Create Dictionary\n",
    "id2word = corpora.Dictionary(data_lemmatized)\n",
    "\n",
    "# Create Corpus\n",
    "texts = data_lemmatized\n",
    "\n",
    "# Term Document Frequency\n",
    "corpus = [id2word.doc2bow(text) for text in texts]"
   ]
  },
  {
   "cell_type": "code",
   "execution_count": 11,
   "metadata": {},
   "outputs": [
    {
     "name": "stderr",
     "output_type": "stream",
     "text": [
      "C:\\Users\\charlie\\Anaconda3\\anaconda\\lib\\site-packages\\gensim\\models\\ldamodel.py:804: RuntimeWarning: divide by zero encountered in double_scalars\n",
      "  perwordbound = self.bound(chunk, subsample_ratio=subsample_ratio) / (subsample_ratio * corpus_words)\n"
     ]
    }
   ],
   "source": [
    "# Build LDA model\n",
    "lda_model = gensim.models.ldamodel.LdaModel(corpus=corpus,\n",
    "                                           id2word=id2word,\n",
    "                                           num_topics=20, \n",
    "                                           random_state=100,\n",
    "                                           update_every=1,\n",
    "                                           chunksize=100,\n",
    "                                           passes=10,\n",
    "                                           alpha='auto',\n",
    "                                           per_word_topics=True)"
   ]
  },
  {
   "cell_type": "code",
   "execution_count": 12,
   "metadata": {
    "scrolled": true
   },
   "outputs": [
    {
     "name": "stdout",
     "output_type": "stream",
     "text": [
      "[(0,\n",
      "  '0.000*\"security\" + 0.000*\"gate\" + 0.000*\"staff\" + 0.000*\"time\" + '\n",
      "  '0.000*\"check\" + 0.000*\"long\" + 0.000*\"hour\" + 0.000*\"wait\" + 0.000*\"minute\" '\n",
      "  '+ 0.000*\"trip\"'),\n",
      " (1,\n",
      "  '0.001*\"mosque\" + 0.001*\"cafetaria\" + 0.001*\"medina\" + 0.001*\"umrah\" + '\n",
      "  '0.001*\"steelwork\" + 0.001*\"mishap\" + 0.001*\"jeddah\" + 0.000*\"palm\" + '\n",
      "  '0.000*\"staff\" + 0.000*\"time\"'),\n",
      " (2,\n",
      "  '0.014*\"security\" + 0.013*\"time\" + 0.012*\"staff\" + 0.011*\"check\" + '\n",
      "  '0.010*\"hour\" + 0.010*\"gate\" + 0.009*\"queue\" + 0.009*\"people\" + 0.008*\"line\" '\n",
      "  '+ 0.008*\"wait\"'),\n",
      " (3,\n",
      "  '0.002*\"shenzen\" + 0.001*\"upward\" + 0.001*\"chengdu\" + 0.001*\"infected\" + '\n",
      "  '0.001*\"linyi\" + 0.000*\"time\" + 0.000*\"security\" + 0.000*\"staff\" + '\n",
      "  '0.000*\"hour\" + 0.000*\"gate\"'),\n",
      " (4,\n",
      "  '0.000*\"security\" + 0.000*\"time\" + 0.000*\"staff\" + 0.000*\"check\" + '\n",
      "  '0.000*\"gate\" + 0.000*\"hour\" + 0.000*\"wait\" + 0.000*\"experience\" + '\n",
      "  '0.000*\"trip\" + 0.000*\"long\"'),\n",
      " (5,\n",
      "  '0.003*\"rdu\" + 0.002*\"raleigh\" + 0.001*\"durham\" + 0.001*\"inviting\" + '\n",
      "  '0.001*\"predetermined\" + 0.001*\"blunder\" + 0.001*\"confidently\" + '\n",
      "  '0.001*\"since\" + 0.001*\"reassign\" + 0.001*\"attest\"'),\n",
      " (6,\n",
      "  '0.000*\"staff\" + 0.000*\"time\" + 0.000*\"security\" + 0.000*\"check\" + '\n",
      "  '0.000*\"gate\" + 0.000*\"minute\" + 0.000*\"wait\" + 0.000*\"hour\" + 0.000*\"queue\" '\n",
      "  '+ 0.000*\"experience\"'),\n",
      " (7,\n",
      "  '0.008*\"malta\" + 0.006*\"garden\" + 0.004*\"mrt\" + 0.003*\"taiwanese\" + '\n",
      "  '0.002*\"swimming\" + 0.002*\"abundant\" + 0.002*\"mandarin\" + 0.002*\"baltra\" + '\n",
      "  '0.002*\"kitty\" + 0.002*\"silkair\"'),\n",
      " (8,\n",
      "  '0.000*\"time\" + 0.000*\"security\" + 0.000*\"wait\" + 0.000*\"gate\" + '\n",
      "  '0.000*\"hour\" + 0.000*\"queue\" + 0.000*\"minute\" + 0.000*\"staff\" + '\n",
      "  '0.000*\"check\" + 0.000*\"line\"'),\n",
      " (9,\n",
      "  '0.000*\"time\" + 0.000*\"staff\" + 0.000*\"check\" + 0.000*\"security\" + '\n",
      "  '0.000*\"gate\" + 0.000*\"people\" + 0.000*\"minute\" + 0.000*\"hour\" + '\n",
      "  '0.000*\"wait\" + 0.000*\"line\"'),\n",
      " (10,\n",
      "  '0.001*\"hamad\" + 0.001*\"medivial\" + 0.001*\"billund\" + 0.001*\"tesla\" + '\n",
      "  '0.001*\"lego\" + 0.001*\"plunge\" + 0.001*\"measly\" + 0.001*\"oddly\" + '\n",
      "  '0.001*\"praise\" + 0.000*\"security\"'),\n",
      " (11,\n",
      "  '0.000*\"gate\" + 0.000*\"security\" + 0.000*\"staff\" + 0.000*\"time\" + '\n",
      "  '0.000*\"queue\" + 0.000*\"check\" + 0.000*\"arrive\" + 0.000*\"minute\" + '\n",
      "  '0.000*\"long\" + 0.000*\"hour\"'),\n",
      " (12,\n",
      "  '0.000*\"security\" + 0.000*\"time\" + 0.000*\"staff\" + 0.000*\"gate\" + '\n",
      "  '0.000*\"wait\" + 0.000*\"check\" + 0.000*\"queue\" + 0.000*\"hour\" + '\n",
      "  '0.000*\"passenger\" + 0.000*\"minute\"'),\n",
      " (13,\n",
      "  '0.010*\"bangalore\" + 0.008*\"gold_coast\" + 0.005*\"yuan\" + 0.002*\"powerbank\" + '\n",
      "  '0.002*\"cz\" + 0.002*\"pollution\" + 0.002*\"njet\" + 0.002*\"southport\" + '\n",
      "  '0.002*\"smog\" + 0.001*\"capital\"'),\n",
      " (14,\n",
      "  '0.013*\"staff\" + 0.011*\"security\" + 0.010*\"time\" + 0.010*\"gate\" + '\n",
      "  '0.010*\"queue\" + 0.009*\"check\" + 0.008*\"minute\" + 0.008*\"area\" + '\n",
      "  '0.008*\"wait\" + 0.007*\"long\"'),\n",
      " (15,\n",
      "  '0.010*\"athen\" + 0.009*\"haneda\" + 0.007*\"indonesia\" + 0.006*\"portugal\" + '\n",
      "  '0.006*\"bahrain\" + 0.005*\"clean\" + 0.005*\"barajas\" + 0.005*\"garuda\" + '\n",
      "  '0.004*\"easy\" + 0.004*\"aegean\"'),\n",
      " (16,\n",
      "  '0.003*\"porto\" + 0.001*\"nagoya\" + 0.001*\"centrair\" + 0.001*\"photographer\" + '\n",
      "  '0.001*\"decently\" + 0.001*\"cuisine\" + 0.001*\"panoramic\" + 0.001*\"skydeck\" + '\n",
      "  '0.001*\"vew\" + 0.001*\"douro\"'),\n",
      " (17,\n",
      "  '0.002*\"durban\" + 0.001*\"shaka\" + 0.001*\"natal\" + 0.001*\"piazza\" + '\n",
      "  '0.001*\"forgettable\" + 0.001*\"woolworth\" + 0.001*\"kwazulu\" + '\n",
      "  '0.000*\"materialise\" + 0.000*\"security\" + 0.000*\"staff\"'),\n",
      " (18,\n",
      "  '0.000*\"check\" + 0.000*\"staff\" + 0.000*\"queue\" + 0.000*\"time\" + 0.000*\"hour\" '\n",
      "  '+ 0.000*\"gate\" + 0.000*\"long\" + 0.000*\"security\" + 0.000*\"passenger\" + '\n",
      "  '0.000*\"immigration\"'),\n",
      " (19,\n",
      "  '0.011*\"panama\" + 0.010*\"swissport\" + 0.005*\"tocuman\" + 0.005*\"copa\" + '\n",
      "  '0.004*\"east_midland\" + 0.003*\"phoenix\" + 0.003*\"halifax\" + 0.003*\"frontier\" '\n",
      "  '+ 0.003*\"sky_harbor\" + 0.003*\"dad\"')]\n"
     ]
    }
   ],
   "source": [
    "# Print the Keyword in the 10 topics\n",
    "pprint(lda_model.print_topics())\n",
    "doc_lda = lda_model[corpus]"
   ]
  },
  {
   "cell_type": "code",
   "execution_count": 13,
   "metadata": {},
   "outputs": [
    {
     "name": "stdout",
     "output_type": "stream",
     "text": [
      "\n",
      "Perplexity:  -7.327196241346127\n",
      "\n",
      "Coherence Score:  0.32735623035024397\n"
     ]
    }
   ],
   "source": [
    "# Compute Perplexity\n",
    "print('\\nPerplexity: ', lda_model.log_perplexity(corpus))  # a measure of how good the model is. lower the better.\n",
    "\n",
    "# Compute Coherence Score\n",
    "coherence_model_lda = CoherenceModel(model=lda_model, texts=data_lemmatized, dictionary=id2word, coherence='c_v')\n",
    "coherence_lda = coherence_model_lda.get_coherence()\n",
    "print('\\nCoherence Score: ', coherence_lda)"
   ]
  },
  {
   "cell_type": "code",
   "execution_count": 14,
   "metadata": {
    "scrolled": true
   },
   "outputs": [
    {
     "name": "stderr",
     "output_type": "stream",
     "text": [
      "C:\\Users\\charlie\\Anaconda3\\anaconda\\lib\\site-packages\\pyLDAvis\\_prepare.py:257: FutureWarning: Sorting because non-concatenation axis is not aligned. A future version\n",
      "of pandas will change to not sort by default.\n",
      "\n",
      "To accept the future behavior, pass 'sort=False'.\n",
      "\n",
      "To retain the current behavior and silence the warning, pass 'sort=True'.\n",
      "\n",
      "  return pd.concat([default_term_info] + list(topic_dfs))\n"
     ]
    },
    {
     "data": {
      "text/html": [
       "\n",
       "<link rel=\"stylesheet\" type=\"text/css\" href=\"https://cdn.rawgit.com/bmabey/pyLDAvis/files/ldavis.v1.0.0.css\">\n",
       "\n",
       "\n",
       "<div id=\"ldavis_el431223650820882162729940773\"></div>\n",
       "<script type=\"text/javascript\">\n",
       "\n",
       "var ldavis_el431223650820882162729940773_data = {\"mdsDat\": {\"x\": [0.3498735895351172, 0.3510519607177012, 0.028740620744635716, -0.07010588200740363, -0.056777762766631885, -0.05357948378040642, -0.04011310985625947, -0.04017286461882046, -0.03950322321054913, -0.03942613008909428, -0.039642641971678876, -0.03928396935520023, -0.038763182747596735, -0.0388802780069002, -0.03888120785524204, -0.03887426312548438, -0.038902163197268726, -0.03884971551715836, -0.03897574440052206, -0.03893454849123754], \"y\": [0.029548501141415495, -0.0023180964221195697, -0.13107770821024853, 0.039671048412352895, 0.014934820421200593, 0.01352505351046953, 0.0036141920287912554, 0.003184453480876075, 0.002835114499408253, 0.002489591684681389, 0.0025008135782615265, 0.0027352549467550436, 0.0023186462763131175, 0.0022920671693200433, 0.0022924601347358467, 0.002297218360902185, 0.002293587851983728, 0.0023037103512740897, 0.002274902734835837, 0.0022843680487915153], \"topics\": [1, 2, 3, 4, 5, 6, 7, 8, 9, 10, 11, 12, 13, 14, 15, 16, 17, 18, 19, 20], \"cluster\": [1, 1, 1, 1, 1, 1, 1, 1, 1, 1, 1, 1, 1, 1, 1, 1, 1, 1, 1, 1], \"Freq\": [75.73455047607422, 23.443368911743164, 0.449714720249176, 0.179020956158638, 0.08176172524690628, 0.07650239765644073, 0.007993862964212894, 0.006108566652983427, 0.00391651876270771, 0.0038874149322509766, 0.0035175872035324574, 0.003233912168070674, 0.0008097911486402154, 0.0008063786663115025, 0.0008057840168476105, 0.0008024575654417276, 0.0008009797311387956, 0.0008003336261026561, 0.0007991082384251058, 0.00079727778211236]}, \"tinfo\": {\"Category\": [\"Default\", \"Default\", \"Default\", \"Default\", \"Default\", \"Default\", \"Default\", \"Default\", \"Default\", \"Default\", \"Default\", \"Default\", \"Default\", \"Default\", \"Default\", \"Default\", \"Default\", \"Default\", \"Default\", \"Default\", \"Default\", \"Default\", \"Default\", \"Default\", \"Default\", \"Default\", \"Default\", \"Default\", \"Default\", \"Default\", \"Topic1\", \"Topic1\", \"Topic1\", \"Topic1\", \"Topic1\", \"Topic1\", \"Topic1\", \"Topic1\", \"Topic1\", \"Topic1\", \"Topic1\", \"Topic1\", \"Topic1\", \"Topic1\", \"Topic1\", \"Topic1\", \"Topic1\", \"Topic1\", \"Topic1\", \"Topic1\", \"Topic1\", \"Topic1\", \"Topic1\", \"Topic1\", \"Topic1\", \"Topic1\", \"Topic1\", \"Topic1\", \"Topic1\", \"Topic1\", \"Topic1\", \"Topic1\", \"Topic1\", \"Topic1\", \"Topic1\", \"Topic1\", \"Topic1\", \"Topic1\", \"Topic1\", \"Topic1\", \"Topic1\", \"Topic1\", \"Topic1\", \"Topic1\", \"Topic1\", \"Topic1\", \"Topic1\", \"Topic1\", \"Topic1\", \"Topic1\", \"Topic1\", \"Topic1\", \"Topic1\", \"Topic1\", \"Topic1\", \"Topic1\", \"Topic1\", \"Topic1\", \"Topic1\", \"Topic1\", \"Topic1\", \"Topic1\", \"Topic1\", \"Topic1\", \"Topic1\", \"Topic1\", \"Topic1\", \"Topic1\", \"Topic1\", \"Topic1\", \"Topic1\", \"Topic1\", \"Topic1\", \"Topic1\", \"Topic1\", \"Topic1\", \"Topic1\", \"Topic1\", \"Topic1\", \"Topic1\", \"Topic1\", \"Topic1\", \"Topic1\", \"Topic1\", \"Topic1\", \"Topic1\", \"Topic1\", \"Topic1\", \"Topic1\", \"Topic2\", \"Topic2\", \"Topic2\", \"Topic2\", \"Topic2\", \"Topic2\", \"Topic2\", \"Topic2\", \"Topic2\", \"Topic2\", \"Topic2\", \"Topic2\", \"Topic2\", \"Topic2\", \"Topic2\", \"Topic2\", \"Topic2\", \"Topic2\", \"Topic2\", \"Topic2\", \"Topic2\", \"Topic2\", \"Topic2\", \"Topic2\", \"Topic2\", \"Topic2\", \"Topic2\", \"Topic2\", \"Topic2\", \"Topic2\", \"Topic2\", \"Topic2\", \"Topic2\", \"Topic2\", \"Topic2\", \"Topic2\", \"Topic2\", \"Topic2\", \"Topic2\", \"Topic2\", \"Topic2\", \"Topic2\", \"Topic2\", \"Topic2\", \"Topic2\", \"Topic2\", \"Topic2\", \"Topic2\", \"Topic2\", \"Topic2\", \"Topic2\", \"Topic2\", \"Topic2\", \"Topic2\", \"Topic2\", \"Topic2\", \"Topic2\", \"Topic2\", \"Topic2\", \"Topic2\", \"Topic2\", \"Topic2\", \"Topic2\", \"Topic2\", \"Topic2\", \"Topic2\", \"Topic2\", \"Topic2\", \"Topic2\", \"Topic2\", \"Topic2\", \"Topic2\", \"Topic2\", \"Topic2\", \"Topic2\", \"Topic2\", \"Topic2\", \"Topic2\", \"Topic2\", \"Topic2\", \"Topic2\", \"Topic2\", \"Topic2\", \"Topic2\", \"Topic2\", \"Topic2\", \"Topic2\", \"Topic3\", \"Topic3\", \"Topic3\", \"Topic3\", \"Topic3\", \"Topic3\", \"Topic3\", \"Topic3\", \"Topic3\", \"Topic3\", \"Topic3\", \"Topic3\", \"Topic3\", \"Topic3\", \"Topic3\", \"Topic3\", \"Topic3\", \"Topic3\", \"Topic3\", \"Topic3\", \"Topic3\", \"Topic3\", \"Topic3\", \"Topic3\", \"Topic3\", \"Topic3\", \"Topic3\", \"Topic3\", \"Topic3\", \"Topic3\", \"Topic3\", \"Topic3\", \"Topic3\", \"Topic3\", \"Topic3\", \"Topic3\", \"Topic3\", \"Topic3\", \"Topic3\", \"Topic3\", \"Topic3\", \"Topic3\", \"Topic3\", \"Topic3\", \"Topic3\", \"Topic3\", \"Topic3\", \"Topic3\", \"Topic3\", \"Topic3\", \"Topic3\", \"Topic3\", \"Topic3\", \"Topic3\", \"Topic3\", \"Topic3\", \"Topic4\", \"Topic4\", \"Topic4\", \"Topic4\", \"Topic4\", \"Topic4\", \"Topic4\", \"Topic4\", \"Topic4\", \"Topic4\", \"Topic4\", \"Topic4\", \"Topic4\", \"Topic4\", \"Topic4\", \"Topic4\", \"Topic4\", \"Topic4\", \"Topic4\", \"Topic4\", \"Topic4\", \"Topic4\", \"Topic4\", \"Topic4\", \"Topic4\", \"Topic4\", \"Topic4\", \"Topic4\", \"Topic4\", \"Topic4\", \"Topic4\", \"Topic4\", \"Topic4\", \"Topic4\", \"Topic4\", \"Topic4\", \"Topic4\", \"Topic4\", \"Topic4\", \"Topic4\", \"Topic4\", \"Topic4\", \"Topic4\", \"Topic4\", \"Topic5\", \"Topic5\", \"Topic5\", \"Topic5\", \"Topic5\", \"Topic5\", \"Topic5\", \"Topic5\", \"Topic5\", \"Topic5\", \"Topic5\", \"Topic5\", \"Topic5\", \"Topic5\", \"Topic5\", \"Topic5\", \"Topic5\", \"Topic5\", \"Topic5\", \"Topic5\", \"Topic5\", \"Topic5\", \"Topic5\", \"Topic5\", \"Topic5\", \"Topic5\", \"Topic5\", \"Topic5\", \"Topic5\", \"Topic5\", \"Topic5\", \"Topic5\", \"Topic5\", \"Topic5\", \"Topic5\", \"Topic5\", \"Topic5\", \"Topic5\", \"Topic5\", \"Topic5\", \"Topic6\", \"Topic6\", \"Topic6\", \"Topic6\", \"Topic6\", \"Topic6\", \"Topic6\", \"Topic6\", \"Topic6\", \"Topic6\", \"Topic6\", \"Topic6\", \"Topic6\", \"Topic6\", \"Topic6\", \"Topic6\", \"Topic6\", \"Topic6\", \"Topic6\", \"Topic6\", \"Topic6\", \"Topic6\", \"Topic6\", \"Topic6\", \"Topic6\", \"Topic6\", \"Topic6\", \"Topic6\", \"Topic6\", \"Topic6\", \"Topic6\", \"Topic6\", \"Topic6\", \"Topic6\", \"Topic6\", \"Topic6\", \"Topic6\", \"Topic6\", \"Topic6\", \"Topic6\", \"Topic6\", \"Topic6\", \"Topic6\", \"Topic7\", \"Topic7\", \"Topic7\", \"Topic7\", \"Topic7\", \"Topic7\", \"Topic7\", \"Topic7\", \"Topic7\", \"Topic7\", \"Topic7\", \"Topic7\", \"Topic7\", \"Topic7\", \"Topic7\", \"Topic7\", \"Topic7\", \"Topic7\", \"Topic7\", \"Topic7\", \"Topic7\", \"Topic7\", \"Topic7\", \"Topic7\", \"Topic7\", \"Topic7\", \"Topic7\", \"Topic7\", \"Topic7\", \"Topic7\", \"Topic7\", \"Topic7\", \"Topic7\", \"Topic7\", \"Topic7\", \"Topic7\", \"Topic7\", \"Topic7\", \"Topic7\", \"Topic7\", \"Topic7\", \"Topic7\", \"Topic7\", \"Topic7\", \"Topic7\", \"Topic7\", \"Topic7\", \"Topic7\", \"Topic7\", \"Topic7\", \"Topic8\", \"Topic8\", \"Topic8\", \"Topic8\", \"Topic8\", \"Topic8\", \"Topic8\", \"Topic8\", \"Topic8\", \"Topic8\", \"Topic8\", \"Topic8\", \"Topic8\", \"Topic8\", \"Topic8\", \"Topic8\", \"Topic8\", \"Topic8\", \"Topic8\", \"Topic8\", \"Topic8\", \"Topic8\", \"Topic8\", \"Topic8\", \"Topic8\", \"Topic8\", \"Topic8\", \"Topic8\", \"Topic8\", \"Topic8\", \"Topic8\", \"Topic8\", \"Topic8\", \"Topic8\", \"Topic8\", \"Topic8\", \"Topic8\", \"Topic8\", \"Topic8\", \"Topic8\", \"Topic8\", \"Topic8\", \"Topic8\", \"Topic8\", \"Topic8\", \"Topic8\", \"Topic8\", \"Topic8\", \"Topic8\", \"Topic8\", \"Topic9\", \"Topic9\", \"Topic9\", \"Topic9\", \"Topic9\", \"Topic9\", \"Topic9\", \"Topic9\", \"Topic9\", \"Topic9\", \"Topic9\", \"Topic9\", \"Topic9\", \"Topic9\", \"Topic9\", \"Topic9\", \"Topic9\", \"Topic9\", \"Topic9\", \"Topic9\", \"Topic9\", \"Topic9\", \"Topic9\", \"Topic9\", \"Topic9\", \"Topic9\", \"Topic9\", \"Topic9\", \"Topic9\", \"Topic9\", \"Topic9\", \"Topic9\", \"Topic9\", \"Topic9\", \"Topic9\", \"Topic9\", \"Topic9\", \"Topic9\", \"Topic9\", \"Topic9\", \"Topic9\", \"Topic9\", \"Topic9\", \"Topic9\", \"Topic9\", \"Topic9\", \"Topic9\", \"Topic9\", \"Topic9\", \"Topic9\", \"Topic9\", \"Topic9\", \"Topic9\", \"Topic9\", \"Topic10\", \"Topic10\", \"Topic10\", \"Topic10\", \"Topic10\", \"Topic10\", \"Topic10\", \"Topic10\", \"Topic10\", \"Topic10\", \"Topic10\", \"Topic10\", \"Topic10\", \"Topic10\", \"Topic10\", \"Topic10\", \"Topic10\", \"Topic10\", \"Topic10\", \"Topic10\", \"Topic10\", \"Topic10\", \"Topic10\", \"Topic10\", \"Topic10\", \"Topic10\", \"Topic10\", \"Topic10\", \"Topic10\", \"Topic10\", \"Topic10\", \"Topic10\", \"Topic10\", \"Topic10\", \"Topic10\", \"Topic10\", \"Topic10\", \"Topic10\", \"Topic10\", \"Topic10\", \"Topic10\", \"Topic10\", \"Topic10\", \"Topic10\", \"Topic10\", \"Topic10\", \"Topic10\", \"Topic10\", \"Topic10\", \"Topic10\", \"Topic10\", \"Topic10\", \"Topic10\", \"Topic10\", \"Topic10\", \"Topic11\", \"Topic11\", \"Topic11\", \"Topic11\", \"Topic11\", \"Topic11\", \"Topic11\", \"Topic11\", \"Topic11\", \"Topic11\", \"Topic11\", \"Topic11\", \"Topic11\", \"Topic11\", \"Topic11\", \"Topic11\", \"Topic11\", \"Topic11\", \"Topic11\", \"Topic11\", \"Topic11\", \"Topic11\", \"Topic11\", \"Topic11\", \"Topic11\", \"Topic11\", \"Topic11\", \"Topic11\", \"Topic11\", \"Topic11\", \"Topic11\", \"Topic11\", \"Topic11\", \"Topic11\", \"Topic11\", \"Topic11\", \"Topic11\", \"Topic11\", \"Topic11\", \"Topic11\", \"Topic11\", \"Topic11\", \"Topic11\", \"Topic11\", \"Topic11\", \"Topic11\", \"Topic11\", \"Topic11\", \"Topic11\", \"Topic11\", \"Topic11\", \"Topic11\", \"Topic11\", \"Topic12\", \"Topic12\", \"Topic12\", \"Topic12\", \"Topic12\", \"Topic12\", \"Topic12\", \"Topic12\", \"Topic12\", \"Topic12\", \"Topic12\", \"Topic12\", \"Topic12\", \"Topic12\", \"Topic12\", \"Topic12\", \"Topic12\", \"Topic12\", \"Topic12\", \"Topic12\", \"Topic12\", \"Topic12\", \"Topic12\", \"Topic12\", \"Topic12\", \"Topic12\", \"Topic12\", \"Topic12\", \"Topic12\", \"Topic12\", \"Topic12\", \"Topic12\", \"Topic12\", \"Topic12\", \"Topic12\", \"Topic12\", \"Topic12\", \"Topic12\", \"Topic12\", \"Topic12\", \"Topic12\", \"Topic12\", \"Topic12\", \"Topic12\", \"Topic12\", \"Topic12\", \"Topic12\", \"Topic12\", \"Topic12\", \"Topic12\", \"Topic12\", \"Topic12\", \"Topic12\", \"Topic12\", \"Topic12\", \"Topic13\", \"Topic13\", \"Topic13\", \"Topic13\", \"Topic13\", \"Topic13\", \"Topic13\", \"Topic13\", \"Topic13\", \"Topic13\", \"Topic13\", \"Topic13\", \"Topic13\", \"Topic13\", \"Topic13\", \"Topic13\", \"Topic13\", \"Topic13\", \"Topic13\", \"Topic13\", \"Topic13\", \"Topic13\", \"Topic13\", \"Topic13\", \"Topic13\", \"Topic13\", \"Topic13\", \"Topic13\", \"Topic13\", \"Topic13\", \"Topic13\", \"Topic13\", \"Topic13\", \"Topic13\", \"Topic13\", \"Topic13\", \"Topic13\", \"Topic13\", \"Topic13\", \"Topic13\", \"Topic13\", \"Topic13\", \"Topic13\", \"Topic13\", \"Topic13\", \"Topic13\", \"Topic13\", \"Topic13\", \"Topic13\", \"Topic13\", \"Topic13\", \"Topic13\", \"Topic13\", \"Topic13\", \"Topic13\", \"Topic13\", \"Topic13\", \"Topic13\", \"Topic13\", \"Topic13\", \"Topic14\", \"Topic14\", \"Topic14\", \"Topic14\", \"Topic14\", \"Topic14\", \"Topic14\", \"Topic14\", \"Topic14\", \"Topic14\", \"Topic14\", \"Topic14\", \"Topic14\", \"Topic14\", \"Topic14\", \"Topic14\", \"Topic14\", \"Topic14\", \"Topic14\", \"Topic14\", \"Topic14\", \"Topic14\", \"Topic14\", \"Topic14\", \"Topic14\", \"Topic14\", \"Topic14\", \"Topic14\", \"Topic14\", \"Topic14\", \"Topic14\", \"Topic14\", \"Topic14\", \"Topic14\", \"Topic14\", \"Topic14\", \"Topic14\", \"Topic14\", \"Topic14\", \"Topic14\", \"Topic14\", \"Topic14\", \"Topic14\", \"Topic14\", \"Topic14\", \"Topic14\", \"Topic14\", \"Topic14\", \"Topic14\", \"Topic14\", \"Topic14\", \"Topic14\", \"Topic14\", \"Topic14\", \"Topic14\", \"Topic14\", \"Topic14\", \"Topic14\", \"Topic14\", \"Topic14\", \"Topic15\", \"Topic15\", \"Topic15\", \"Topic15\", \"Topic15\", \"Topic15\", \"Topic15\", \"Topic15\", \"Topic15\", \"Topic15\", \"Topic15\", \"Topic15\", \"Topic15\", \"Topic15\", \"Topic15\", \"Topic15\", \"Topic15\", \"Topic15\", \"Topic15\", \"Topic15\", \"Topic15\", \"Topic15\", \"Topic15\", \"Topic15\", \"Topic15\", \"Topic15\", \"Topic15\", \"Topic15\", \"Topic15\", \"Topic15\", \"Topic15\", \"Topic15\", \"Topic15\", \"Topic15\", \"Topic15\", \"Topic15\", \"Topic15\", \"Topic15\", \"Topic15\", \"Topic15\", \"Topic15\", \"Topic15\", \"Topic15\", \"Topic15\", \"Topic15\", \"Topic15\", \"Topic15\", \"Topic15\", \"Topic15\", \"Topic15\", \"Topic15\", \"Topic15\", \"Topic15\", \"Topic15\", \"Topic15\", \"Topic15\", \"Topic15\", \"Topic15\", \"Topic15\", \"Topic15\", \"Topic16\", \"Topic16\", \"Topic16\", \"Topic16\", \"Topic16\", \"Topic16\", \"Topic16\", \"Topic16\", \"Topic16\", \"Topic16\", \"Topic16\", \"Topic16\", \"Topic16\", \"Topic16\", \"Topic16\", \"Topic16\", \"Topic16\", \"Topic16\", \"Topic16\", \"Topic16\", \"Topic16\", \"Topic16\", \"Topic16\", \"Topic16\", \"Topic16\", \"Topic16\", \"Topic16\", \"Topic16\", \"Topic16\", \"Topic16\", \"Topic16\", \"Topic16\", \"Topic16\", \"Topic16\", \"Topic16\", \"Topic16\", \"Topic16\", \"Topic16\", \"Topic16\", \"Topic16\", \"Topic16\", \"Topic16\", \"Topic16\", \"Topic16\", \"Topic16\", \"Topic16\", \"Topic16\", \"Topic16\", \"Topic16\", \"Topic16\", \"Topic16\", \"Topic16\", \"Topic16\", \"Topic16\", \"Topic16\", \"Topic16\", \"Topic16\", \"Topic16\", \"Topic16\", \"Topic16\", \"Topic17\", \"Topic17\", \"Topic17\", \"Topic17\", \"Topic17\", \"Topic17\", \"Topic17\", \"Topic17\", \"Topic17\", \"Topic17\", \"Topic17\", \"Topic17\", \"Topic17\", \"Topic17\", \"Topic17\", \"Topic17\", \"Topic17\", \"Topic17\", \"Topic17\", \"Topic17\", \"Topic17\", \"Topic17\", \"Topic17\", \"Topic17\", \"Topic17\", \"Topic17\", \"Topic17\", \"Topic17\", \"Topic17\", \"Topic17\", \"Topic17\", \"Topic17\", \"Topic17\", \"Topic17\", \"Topic17\", \"Topic17\", \"Topic17\", \"Topic17\", \"Topic17\", \"Topic17\", \"Topic17\", \"Topic17\", \"Topic17\", \"Topic17\", \"Topic17\", \"Topic17\", \"Topic17\", \"Topic17\", \"Topic17\", \"Topic17\", \"Topic17\", \"Topic17\", \"Topic17\", \"Topic17\", \"Topic17\", \"Topic17\", \"Topic17\", \"Topic17\", \"Topic17\", \"Topic17\", \"Topic18\", \"Topic18\", \"Topic18\", \"Topic18\", \"Topic18\", \"Topic18\", \"Topic18\", \"Topic18\", \"Topic18\", \"Topic18\", \"Topic18\", \"Topic18\", \"Topic18\", \"Topic18\", \"Topic18\", \"Topic18\", \"Topic18\", \"Topic18\", \"Topic18\", \"Topic18\", \"Topic18\", \"Topic18\", \"Topic18\", \"Topic18\", \"Topic18\", \"Topic18\", \"Topic18\", \"Topic18\", \"Topic18\", \"Topic18\", \"Topic18\", \"Topic18\", \"Topic18\", \"Topic18\", \"Topic18\", \"Topic18\", \"Topic18\", \"Topic18\", \"Topic18\", \"Topic18\", \"Topic18\", \"Topic18\", \"Topic18\", \"Topic18\", \"Topic18\", \"Topic18\", \"Topic18\", \"Topic18\", \"Topic18\", \"Topic18\", \"Topic18\", \"Topic18\", \"Topic18\", \"Topic18\", \"Topic18\", \"Topic18\", \"Topic18\", \"Topic18\", \"Topic18\", \"Topic18\", \"Topic19\", \"Topic19\", \"Topic19\", \"Topic19\", \"Topic19\", \"Topic19\", \"Topic19\", \"Topic19\", \"Topic19\", \"Topic19\", \"Topic19\", \"Topic19\", \"Topic19\", \"Topic19\", \"Topic19\", \"Topic19\", \"Topic19\", \"Topic19\", \"Topic19\", \"Topic19\", \"Topic19\", \"Topic19\", \"Topic19\", \"Topic19\", \"Topic19\", \"Topic19\", \"Topic19\", \"Topic19\", \"Topic19\", \"Topic19\", \"Topic19\", \"Topic19\", \"Topic19\", \"Topic19\", \"Topic19\", \"Topic19\", \"Topic19\", \"Topic19\", \"Topic19\", \"Topic19\", \"Topic19\", \"Topic19\", \"Topic19\", \"Topic19\", \"Topic19\", \"Topic19\", \"Topic19\", \"Topic19\", \"Topic19\", \"Topic19\", \"Topic19\", \"Topic19\", \"Topic19\", \"Topic19\", \"Topic19\", \"Topic19\", \"Topic19\", \"Topic19\", \"Topic19\", \"Topic19\", \"Topic20\", \"Topic20\", \"Topic20\", \"Topic20\", \"Topic20\", \"Topic20\", \"Topic20\", \"Topic20\", \"Topic20\", \"Topic20\", \"Topic20\", \"Topic20\", \"Topic20\", \"Topic20\", \"Topic20\", \"Topic20\", \"Topic20\", \"Topic20\", \"Topic20\", \"Topic20\", \"Topic20\", \"Topic20\", \"Topic20\", \"Topic20\", \"Topic20\", \"Topic20\", \"Topic20\", \"Topic20\", \"Topic20\", \"Topic20\", \"Topic20\", \"Topic20\", \"Topic20\", \"Topic20\", \"Topic20\", \"Topic20\", \"Topic20\", \"Topic20\", \"Topic20\", \"Topic20\", \"Topic20\", \"Topic20\", \"Topic20\", \"Topic20\", \"Topic20\", \"Topic20\", \"Topic20\", \"Topic20\", \"Topic20\", \"Topic20\", \"Topic20\", \"Topic20\", \"Topic20\", \"Topic20\", \"Topic20\", \"Topic20\", \"Topic20\", \"Topic20\", \"Topic20\", \"Topic20\"], \"Freq\": [2789.0, 960.0, 3585.0, 2964.0, 2579.0, 1638.0, 941.0, 2061.0, 3650.0, 583.0, 1903.0, 1120.0, 1996.0, 1792.0, 1575.0, 679.0, 3672.0, 1151.0, 1484.0, 2306.0, 769.0, 1845.0, 1449.0, 1337.0, 1895.0, 1417.0, 958.0, 2464.0, 1244.0, 734.0, 65.6402587890625, 40.44248962402344, 42.44031524658203, 71.48348999023438, 43.435791015625, 38.42733383178711, 47.43477249145508, 36.40974807739258, 40.411354064941406, 37.40714645385742, 37.40671920776367, 36.40338134765625, 35.39027786254883, 35.37724685668945, 30.360504150390625, 37.350555419921875, 37.346336364746094, 29.350725173950195, 54.30948257446289, 36.323631286621094, 27.336246490478516, 32.317893981933594, 26.33062171936035, 26.32978057861328, 25.31977081298828, 26.306503295898438, 26.313928604125977, 52.18339157104492, 45.26078414916992, 24.315187454223633, 288.6785888671875, 292.5036315917969, 1829.362060546875, 127.24815368652344, 102.51173400878906, 39.24760437011719, 59.87864303588867, 39.225582122802734, 107.35819244384766, 55.84700393676758, 578.3589477539062, 170.74952697753906, 781.36572265625, 2161.96142578125, 136.42626953125, 594.914306640625, 757.3545532226562, 841.5205078125, 589.1182250976562, 1886.8267822265625, 741.6717529296875, 113.59822845458984, 84.876708984375, 730.4758911132812, 705.64404296875, 616.3612060546875, 1146.4080810546875, 431.1196594238281, 2946.540771484375, 2958.95751953125, 158.2113494873047, 2378.611328125, 484.5961608886719, 243.1557159423828, 1311.3031005859375, 2732.973388671875, 395.2968444824219, 1796.7841796875, 1459.9522705078125, 1053.0213623046875, 746.1128540039062, 2101.80908203125, 1930.274658203125, 1577.037841796875, 1008.2383422851562, 1058.10009765625, 1432.0335693359375, 1471.98193359375, 992.5689086914062, 1088.82861328125, 1311.7630615234375, 936.2507934570312, 1157.8604736328125, 1069.158935546875, 916.750732421875, 1123.1566162109375, 1041.1668701171875, 864.0333862304688, 846.2979125976562, 22.665246963500977, 18.90610694885254, 15.1458101272583, 14.207660675048828, 12.329150199890137, 12.328204154968262, 12.328226089477539, 12.327239990234375, 12.322056770324707, 14.068800926208496, 11.374652862548828, 12.28923511505127, 10.450406074523926, 10.449663162231445, 16.84299087524414, 9.510222434997559, 9.510138511657715, 9.508068084716797, 11.341758728027344, 9.48713493347168, 8.570566177368164, 8.569718360900879, 14.968682289123535, 8.56004810333252, 8.551264762878418, 7.631038665771484, 7.631381034851074, 7.631087303161621, 7.631070613861084, 7.630950927734375, 13.964349746704102, 19.756643295288086, 75.27132415771484, 8.501303672790527, 17.6435546875, 13.596503257751465, 60.89434051513672, 35.771728515625, 11.198211669921875, 321.9313659667969, 117.73026275634766, 456.56024169921875, 22.473270416259766, 309.86749267578125, 100.21170806884766, 361.0657653808594, 29.695085525512695, 512.3399047851562, 196.89039611816406, 408.3715515136719, 179.84683227539062, 125.89361572265625, 191.52804565429688, 58.663291931152344, 271.8542175292969, 441.69976806640625, 850.2108154296875, 132.36920166015625, 646.9739379882812, 683.988037109375, 213.3968505859375, 194.35162353515625, 523.0958862304688, 478.6170959472656, 253.60687255859375, 173.99266052246094, 282.8141174316406, 148.1145477294922, 415.8545837402344, 462.8081970214844, 712.4203491210938, 482.2767333984375, 702.3338623046875, 379.2776184082031, 508.63458251953125, 318.2499084472656, 583.170654296875, 276.736083984375, 248.4141845703125, 244.4440460205078, 384.3659973144531, 262.1261901855469, 327.159912109375, 328.25750732421875, 294.2313537597656, 277.5298156738281, 301.6357116699219, 8.176407814025879, 6.055241107940674, 3.9120864868164062, 3.04913330078125, 2.604918956756592, 2.1975162029266357, 2.1975772380828857, 2.197572946548462, 2.1975507736206055, 2.197490692138672, 2.1969079971313477, 2.1928935050964355, 1.768513798713684, 1.7685067653656006, 1.7685056924819946, 1.7684664726257324, 1.7674899101257324, 6.056859970092773, 1.3394709825515747, 1.3394818305969238, 1.3394756317138672, 1.3394420146942139, 1.3394447565078735, 1.3394455909729004, 1.3394407033920288, 1.3394306898117065, 1.3387317657470703, 1.3385024070739746, 1.3349217176437378, 5.188925266265869, 11.49284553527832, 13.410520553588867, 8.454684257507324, 9.633869171142578, 3.4027059078216553, 3.3279662132263184, 3.6311933994293213, 2.1574618816375732, 3.439014434814453, 2.115356206893921, 2.919760227203369, 4.8121466636657715, 2.6970975399017334, 2.4643046855926514, 2.113102912902832, 2.41603422164917, 6.071248531341553, 5.312722206115723, 3.657893180847168, 3.6832499504089355, 3.498459815979004, 2.6772212982177734, 2.5849263668060303, 2.482206106185913, 2.474457263946533, 2.4391543865203857, 2.403181314468384, 1.6128183603286743, 1.8412675857543945, 1.0859538316726685, 1.0857830047607422, 1.085450530052185, 5.164978981018066, 0.8225064277648926, 0.8224231004714966, 0.8223949670791626, 0.8221548795700073, 0.8211192488670349, 0.8021690845489502, 2.3900034427642822, 0.5590614080429077, 0.5590594410896301, 0.5590591430664062, 0.559057891368866, 0.5590556859970093, 0.5590530037879944, 0.5590409636497498, 0.5590401291847229, 0.559021532535553, 0.5590320825576782, 0.5590308308601379, 0.5590322613716125, 0.55903160572052, 0.5590099096298218, 0.559001088142395, 0.5590081810951233, 5.592438220977783, 1.2626497745513916, 0.8224924802780151, 1.4960147142410278, 1.6875497102737427, 1.7704015970230103, 1.3535298109054565, 0.9488081932067871, 0.814602255821228, 1.176466703414917, 0.7307502627372742, 0.6796789169311523, 0.6443130373954773, 0.5709658265113831, 1.145225167274475, 0.5783814191818237, 0.44029733538627625, 0.4402836263179779, 0.4402705132961273, 0.5606334209442139, 0.2992662787437439, 0.2992633581161499, 0.2992587089538574, 0.2992531955242157, 0.29925310611724854, 0.2992483973503113, 0.29924753308296204, 0.29923734068870544, 0.29921814799308777, 0.2991865277290344, 0.29912400245666504, 0.298941433429718, 0.2990514934062958, 0.2987344563007355, 0.2928262948989868, 0.15823310613632202, 0.15823233127593994, 0.15823312103748322, 0.1582324057817459, 0.15823209285736084, 0.15823164582252502, 0.15823134779930115, 0.158232182264328, 0.1582311987876892, 0.15823103487491608, 1.8212302923202515, 2.3650519847869873, 0.45365670323371887, 0.2956320345401764, 0.27615728974342346, 0.2166679948568344, 0.2379576861858368, 0.2278074324131012, 0.33024322986602783, 0.6798484325408936, 0.5471484661102295, 1.7359683513641357, 0.4144492447376251, 0.4143947958946228, 0.4143545925617218, 0.4143107235431671, 0.2816963195800781, 0.281667023897171, 0.281669557094574, 0.28165239095687866, 0.2816077470779419, 0.28160566091537476, 0.2815037965774536, 0.2810962200164795, 0.2798410654067993, 0.41234180331230164, 0.14894434809684753, 0.14894390106201172, 0.14894407987594604, 0.1489437371492386, 0.14894309639930725, 0.14894302189350128, 0.14894306659698486, 0.14894302189350128, 0.14894291758537292, 0.14894287288188934, 0.14893974363803864, 0.14893977344036102, 0.14893807470798492, 0.8354820013046265, 0.5381097197532654, 0.27960970997810364, 0.2795914113521576, 0.40055304765701294, 0.397607684135437, 0.39662787318229675, 1.2535463571548462, 0.37916868925094604, 0.5456173419952393, 0.320425808429718, 0.3107331097126007, 0.3195256292819977, 0.03355063870549202, 0.03355059400200844, 0.03354945778846741, 0.033548690378665924, 0.01773945242166519, 0.017739402130246162, 0.01773880235850811, 0.017738405615091324, 0.01759687066078186, 0.06372035294771194, 0.0019283369183540344, 0.0019283369183540344, 0.0019283369183540344, 0.0019283369183540344, 0.0019283369183540344, 0.0019283369183540344, 0.0019283369183540344, 0.0019283369183540344, 0.0019286833703517914, 0.0019285926828160882, 0.0019283369183540344, 0.0019283369183540344, 0.0019283369183540344, 0.0019283369183540344, 0.0019283369183540344, 0.0019283369183540344, 0.0019283369183540344, 0.0019283369183540344, 0.0019283369183540344, 0.0019283369183540344, 0.030438603833317757, 0.016405586153268814, 0.015996035188436508, 0.002391999354586005, 0.002305422443896532, 0.0022582076489925385, 0.0022147323470562696, 0.0021427010651677847, 0.002130898181349039, 0.00210715108551085, 0.0021224762313067913, 0.002096370793879032, 0.0020944196730852127, 0.0020901826210319996, 0.0020755089353770018, 0.00207297271117568, 0.002071025315672159, 0.002067148219794035, 0.002066493732854724, 0.0020636145491153, 0.013612001203000546, 0.013611966744065285, 0.013611976988613605, 0.01361189316958189, 0.013611415401101112, 0.04805696755647659, 0.02414163202047348, 0.036794401705265045, 0.011260850355029106, 0.010578320361673832, 0.0014798251213505864, 0.0014797929907217622, 0.0014798277989029884, 0.0014798041665926576, 0.001479693572036922, 0.001479693572036922, 0.001479693572036922, 0.001479693572036922, 0.001479693572036922, 0.001479693572036922, 0.001479693572036922, 0.001479693572036922, 0.001479693572036922, 0.001479693572036922, 0.0014796983450651169, 0.0014796997420489788, 0.0014796979958191514, 0.0014796990435570478, 0.001479697646573186, 0.0014796993928030133, 0.001591081963852048, 0.0015885652974247932, 0.001584386918693781, 0.0015781474066898227, 0.0015717173228040338, 0.0015693046152591705, 0.0015677461633458734, 0.0015566227957606316, 0.0015501732705160975, 0.001549488166347146, 0.001549117499962449, 0.0015473694074898958, 0.0015428101178258657, 0.0015416498063132167, 0.0015371906338259578, 0.0015358079690486193, 0.0015344670973718166, 0.0015274424804374576, 0.0015261267544701695, 0.0015257318736985326, 0.008762662298977375, 0.008762624114751816, 0.008762616664171219, 0.008762608282268047, 0.008762494660913944, 0.00876254215836525, 0.02267323061823845, 0.0009525413042865694, 0.0009525413042865694, 0.0009525413042865694, 0.0009525413042865694, 0.0009525413042865694, 0.0009525413042865694, 0.0009525413042865694, 0.0009525413042865694, 0.0009525413042865694, 0.0009525413042865694, 0.0009525413042865694, 0.0009525413042865694, 0.0009525413042865694, 0.0009525413042865694, 0.0009525413042865694, 0.0009525413042865694, 0.0009525413042865694, 0.0009525413042865694, 0.0009525413042865694, 0.0009525413042865694, 0.0009525413042865694, 0.0009525413042865694, 0.0009525525965727866, 0.003900856478139758, 0.0009525537607260048, 0.0010493950685486197, 0.0010429907124489546, 0.0010319825960323215, 0.001021535717882216, 0.0010138028301298618, 0.0010135063203051686, 0.0010125001426786184, 0.001011084532365203, 0.001010563806630671, 0.0010037168394774199, 0.001001917291432619, 0.0010010544210672379, 0.0010010068072006106, 0.0009963774355128407, 0.0009962809272110462, 0.0009955809218809009, 0.0009946863865479827, 0.0009921087184920907, 0.000989800551906228, 0.00098973058629781, 0.0009882317390292883, 0.0009853462688624859, 0.008698279038071632, 0.008698239922523499, 0.00869833305478096, 0.008698313497006893, 0.008698255755007267, 0.008698218502104282, 0.008696951903402805, 0.008625799790024757, 0.0009455294930376112, 0.0009455294930376112, 0.0009455294930376112, 0.0009455294930376112, 0.0009455294930376112, 0.0009455294930376112, 0.0009455294930376112, 0.0009455294930376112, 0.0009455294930376112, 0.0009455294930376112, 0.0009455294930376112, 0.0009455294930376112, 0.0009455294930376112, 0.0009455294930376112, 0.0009455826948396862, 0.0009455766412429512, 0.0009455931140109897, 0.0009455716353841126, 0.0009455827530473471, 0.0009455294930376112, 0.0009455294930376112, 0.0009455294930376112, 0.008359880186617374, 0.0009455669205635786, 0.001004135818220675, 0.0009981727926060557, 0.0009699172805994749, 0.0009692941093817353, 0.0010346437338739634, 0.0010326507035642862, 0.0010192971676588058, 0.0010133268078789115, 0.0010108361020684242, 0.0009999395115301013, 0.000999698881059885, 0.0009988086530938745, 0.0009965446079149842, 0.000995560665614903, 0.0009950390085577965, 0.0009937594877555966, 0.000992875429801643, 0.0009904422331601381, 0.000989881926216185, 0.0009884270839393139, 0.0009863711893558502, 0.0009858235716819763, 0.0009826004970818758, 0.014900732785463333, 0.00787858571857214, 0.007878592237830162, 0.007878581993281841, 0.007878577336668968, 0.00787855964154005, 0.007343516685068607, 0.000856425438541919, 0.000856425438541919, 0.000856425438541919, 0.000856425438541919, 0.000856425438541919, 0.000856425438541919, 0.000856425438541919, 0.000856425438541919, 0.000856425438541919, 0.000856425438541919, 0.000856425438541919, 0.000856425438541919, 0.000856425438541919, 0.000856425438541919, 0.000856425438541919, 0.000856425438541919, 0.000856425438541919, 0.000856425438541919, 0.000856425438541919, 0.000856425438541919, 0.000856425438541919, 0.000856425438541919, 0.000856425438541919, 0.0010013837600126863, 0.0008871610043570399, 0.00088114058598876, 0.0009242582018487155, 0.0009040722507052124, 0.000893325253855437, 0.0008930129697546363, 0.0008894922793842852, 0.0008890021708793938, 0.000888441049028188, 0.0008856946369633079, 0.0008849584264680743, 0.0008848675061017275, 0.0008841808303259313, 0.0008834990439936519, 0.0008818036876618862, 0.000880728242918849, 0.0008799296920187771, 0.0008785011013969779, 0.0008775207097642124, 0.0008771573775447905, 0.0008760169730521739, 0.000875992642249912, 0.020162038505077362, 0.007245754823088646, 0.0072457147762179375, 0.0072450716979801655, 0.007244515232741833, 0.0007877383613958955, 0.0007877267198637128, 0.0007877231691963971, 0.0007877177558839321, 0.0007877392345108092, 0.0007877286407165229, 0.0007876869640313089, 0.0007876869640313089, 0.0007876869640313089, 0.0007876869640313089, 0.0007877156604081392, 0.0007877095486037433, 0.0007877122261561453, 0.0007877115858718753, 0.0007877130410633981, 0.0007877128082327545, 0.0007877220050431788, 0.0007877186289988458, 0.0007877220050431788, 0.0007877149619162083, 0.0007877118187025189, 0.0007877660682424903, 0.0007877262542024255, 0.0007877069292590022, 0.0007876899326220155, 0.0008734788279980421, 0.0008693609852343798, 0.0008593099191784859, 0.000850075448397547, 0.0008470397442579269, 0.0008455573115497828, 0.0008391588926315308, 0.0008323410875163972, 0.0008307034149765968, 0.000829939846880734, 0.0008298025932163, 0.0008297112071886659, 0.000827893556561321, 0.0008256473811343312, 0.0008238324662670493, 0.0008225417113862932, 0.0008208100916817784, 0.0008199714939109981, 0.0008196354028768837, 0.0008184870821423829, 0.0008182906312867999, 0.0008177485433407128, 0.0008162980084307492, 0.0008151759393513203, 0.0008150831563398242, 0.00019823078764602542, 0.00019823078764602542, 0.00019823078764602542, 0.00019823078764602542, 0.00019823078764602542, 0.00019823078764602542, 0.00019823078764602542, 0.00019823078764602542, 0.00019823078764602542, 0.00019823078764602542, 0.00019823078764602542, 0.00019823078764602542, 0.00019823078764602542, 0.00019823078764602542, 0.00019825085473712534, 0.00019824643095489591, 0.00019824824994429946, 0.00019824680930469185, 0.00019824928313028067, 0.00019824446644634008, 0.000198236113646999, 0.0001982352987397462, 0.00019823500770144165, 0.00019823486218228936, 0.00019823506590910256, 0.00019823078764602542, 0.00019823583716060966, 0.00019823579350486398, 0.0001982327230507508, 0.00019823326147161424, 0.00021129995002411306, 0.00021057143749203533, 0.00021056755213066936, 0.00020924286218360066, 0.00020880933152511716, 0.00020879266958218068, 0.00020835081522818655, 0.00020738938474096358, 0.0002069099573418498, 0.00020652871171478182, 0.00020632999076042324, 0.0002053244097623974, 0.00020526775915641338, 0.00020508024317678064, 0.00020466360729187727, 0.00020446167036425322, 0.0002044065186055377, 0.00020385727111715823, 0.00020361899805720896, 0.000203593575861305, 0.00020347315876279026, 0.0002033677592407912, 0.0002032826596405357, 0.0002031410112977028, 0.00020289472013246268, 0.0002028348098974675, 0.00020277763542253524, 0.00020265825151000172, 0.00020255202252883464, 0.00020251261594239622, 0.00019741721916943789, 0.00019741721916943789, 0.00019741721916943789, 0.00019741721916943789, 0.00019742273434530944, 0.0001974230690393597, 0.0001974230690393597, 0.00019742234144359827, 0.00019741721916943789, 0.00019741721916943789, 0.00019741721916943789, 0.00019741721916943789, 0.00019741721916943789, 0.00019741721916943789, 0.00019741721916943789, 0.00019741721916943789, 0.00019741721916943789, 0.00019741721916943789, 0.00019741721916943789, 0.00019741721916943789, 0.00019742119184229523, 0.0001974208717001602, 0.0001974211190827191, 0.00019741998403333127, 0.00019741995492950082, 0.00019742829317692667, 0.00019742162839975208, 0.00019742100266739726, 0.00019742069707717746, 0.0001974220940610394, 0.00020906535792164505, 0.00020886048150714487, 0.00020719403983093798, 0.00020459058578126132, 0.00020452369062695652, 0.00020418369967956096, 0.00020398151536937803, 0.00020380126079544425, 0.00020367784600239247, 0.00020348335965536535, 0.00020327945821918547, 0.00020316029258538038, 0.00020280682656448334, 0.0002027178561547771, 0.00020200613653287292, 0.00020199839491397142, 0.00020197848789393902, 0.00020162198052275926, 0.0002015406353166327, 0.0002014761121245101, 0.0002014733909163624, 0.00020146465976722538, 0.0002013817720580846, 0.00020130489428993315, 0.00020119051623623818, 0.00020104860595893115, 0.0002010403259191662, 0.00020099490939173847, 0.00020097360538784415, 0.0002009345917031169, 0.00019727196195162833, 0.00019727196195162833, 0.00019727196195162833, 0.00019727196195162833, 0.00019727196195162833, 0.00019727196195162833, 0.00019727196195162833, 0.00019727196195162833, 0.00019727196195162833, 0.00019727196195162833, 0.00019727196195162833, 0.00019727196195162833, 0.00019727196195162833, 0.00019727196195162833, 0.00019727196195162833, 0.00019727196195162833, 0.00019727196195162833, 0.00019727196195162833, 0.00019727196195162833, 0.00019727196195162833, 0.0001972770842257887, 0.0001972770260181278, 0.00019727701146621257, 0.0001972755417227745, 0.00019727766630239785, 0.00019727196195162833, 0.00019727196195162833, 0.00019727196195162833, 0.00019727494509425014, 0.00019727498874999583, 0.00020973270875401795, 0.00020930181199219078, 0.00020782109641004354, 0.00020499102538451552, 0.00020479249360505491, 0.00020453304750844836, 0.00020368638797663152, 0.0002035493089351803, 0.00020303309429436922, 0.00020291574764996767, 0.00020283396588638425, 0.0002027174923568964, 0.00020238426805008203, 0.00020225479966029525, 0.00020198682614136487, 0.0002019790408667177, 0.00020187989866826683, 0.00020168587798252702, 0.00020138283434789628, 0.00020125637820456177, 0.0002011096803471446, 0.00020097933884244412, 0.000200966140255332, 0.00020086197764612734, 0.00020085991127416492, 0.00020073556515853852, 0.00020066174329258502, 0.0002006162394536659, 0.00020060352107975632, 0.00020038383081555367, 0.00019645673455670476, 0.00019645676366053522, 0.00019645699649117887, 0.00019645667634904385, 0.00019645590509753674, 0.00019645590509753674, 0.00019645590509753674, 0.00019645590509753674, 0.00019645590509753674, 0.00019645590509753674, 0.00019645590509753674, 0.00019645590509753674, 0.00019645590509753674, 0.00019645590509753674, 0.00019645590509753674, 0.00019645590509753674, 0.00019645590509753674, 0.00019645590509753674, 0.00019645590509753674, 0.00019645590509753674, 0.00019645794236566871, 0.0001964581897482276, 0.00019645779684651643, 0.00019645801512524486, 0.00019645862630568445, 0.00019645590509753674, 0.00019645590509753674, 0.00019645590509753674, 0.000196458087884821, 0.00019645862630568445, 0.00020681142632383853, 0.00020651020167861134, 0.0002056531811831519, 0.00020549149485304952, 0.0002053803764283657, 0.00020332854182925075, 0.00020275388669688255, 0.00020216569828335196, 0.00020209433569107205, 0.00020187156042084098, 0.00020163453882560134, 0.00020157569088041782, 0.0002015178615693003, 0.00020119038526900113, 0.00020116314408369362, 0.00020109245087951422, 0.00020087244047317654, 0.00020066658908035606, 0.00020061584655195475, 0.0002005363639909774, 0.00020046414283569902, 0.00020043631957378238, 0.00020033156033605337, 0.0002002689434448257, 0.0002002489345613867, 0.00020020933880005032, 0.00020009299623779953, 0.00020004862744826823, 0.00019996157789137214, 0.00019982705998700112, 0.00019609872833825648, 0.00019609872833825648, 0.00019609872833825648, 0.00019609872833825648, 0.00019609872833825648, 0.00019609872833825648, 0.00019609872833825648, 0.00019609872833825648, 0.00019610415620263666, 0.00019609872833825648, 0.00019609872833825648, 0.00019610195886343718, 0.00019609872833825648, 0.00019609872833825648, 0.00019609872833825648, 0.00019609872833825648, 0.00019609872833825648, 0.00019609872833825648, 0.00019609872833825648, 0.00019609872833825648, 0.00019609939772635698, 0.00019609929586295038, 0.00019609922310337424, 0.00019609938317444175, 0.0001960994122782722, 0.00019609872833825648, 0.00019609872833825648, 0.00019609872833825648, 0.00019609897572081536, 0.00019609896116890013, 0.0002057683450402692, 0.0002050285111181438, 0.0002042704145424068, 0.0002041186671704054, 0.0002030030154855922, 0.00020260180463083088, 0.0002025608700932935, 0.0002022129629040137, 0.00020210987713653594, 0.00020183551532682031, 0.00020160061831120402, 0.00020109360048081726, 0.00020071494509465992, 0.00020069329184480011, 0.0002005870483117178, 0.00020053178013768047, 0.0002004121633945033, 0.00020040659001097083, 0.0001998586958507076, 0.00019985773542430252, 0.0001997759536607191, 0.00019955771858803928, 0.00019950554997194558, 0.00019944577070418745, 0.00019940236234106123, 0.00019919531769119203, 0.00019915183656848967, 0.00019909079128410667, 0.00019907600653823465, 0.00019905327644664794, 0.00019593106117099524, 0.00019593106117099524, 0.00019593106117099524, 0.00019593106117099524, 0.00019593106117099524, 0.00019593106117099524, 0.00019593106117099524, 0.00019593106117099524, 0.00019593106117099524, 0.00019593106117099524, 0.00019593106117099524, 0.00019593106117099524, 0.00019593106117099524, 0.00019593106117099524, 0.00019593106117099524, 0.00019593106117099524, 0.00019593106117099524, 0.00019593106117099524, 0.00019593106117099524, 0.00019593106117099524, 0.00019593106117099524, 0.00019593106117099524, 0.00019593106117099524, 0.00019593106117099524, 0.00019593106117099524, 0.00019593106117099524, 0.00019593106117099524, 0.00019593106117099524, 0.0001959323271876201, 0.0001959326327778399, 0.00020969781326130033, 0.00020569158368743956, 0.00020532877533696592, 0.00020499828679021448, 0.00020346039673313498, 0.0002034022763837129, 0.0002033182099694386, 0.00020297447917982936, 0.0002025402063736692, 0.00020229893561918288, 0.00020216322445776314, 0.00020148037583567202, 0.00020117691019549966, 0.00020113277423661202, 0.00020094698993489146, 0.00020081474212929606, 0.00020078274246770889, 0.00020048272563144565, 0.00020034579210914671, 0.000200334339751862, 0.00020028610015287995, 0.00020026482525281608, 0.00020022279932163656, 0.00020011597371194512, 0.00019993625755887479, 0.00019992330635432154, 0.0001998440857278183, 0.00019957446784246713, 0.0001995578350033611, 0.00019949635316152126, 0.00019565429829526693, 0.00019565429829526693, 0.00019565429829526693, 0.00019565429829526693, 0.00019565429829526693, 0.00019565429829526693, 0.00019565429829526693, 0.00019565429829526693, 0.00019565429829526693, 0.00019565429829526693, 0.00019565429829526693, 0.00019565429829526693, 0.00019565429829526693, 0.00019565429829526693, 0.00019565429829526693, 0.00019565429829526693, 0.00019565429829526693, 0.00019565429829526693, 0.00019565429829526693, 0.00019565429829526693, 0.00019565429829526693, 0.00019565429829526693, 0.00019565429829526693, 0.00019565429829526693, 0.00019565429829526693, 0.00019565429829526693, 0.0001956545893335715, 0.0001956546475412324, 0.0001956547930603847, 0.0001956547930603847, 0.00020320990006439388, 0.0002023141278186813, 0.00020191736984997988, 0.00020154485537204891, 0.00020139742991887033, 0.00020099115499760956, 0.00020047755970153958, 0.00020041922107338905, 0.0002002952096518129, 0.00019991958106402308, 0.0001998013467527926, 0.00019973328744526953, 0.00019935061573050916, 0.00019927187531720847, 0.00019924584194086492, 0.0001992167963180691, 0.0001990491000469774, 0.00019887072267010808, 0.0001988566800719127, 0.00019884952052962035, 0.0001987697760341689, 0.00019863831403199583, 0.00019856315338984132, 0.0001985550334211439, 0.00019855404389090836, 0.00019848253577947617, 0.00019834909471683204, 0.00019834015984088182, 0.00019833345140796155, 0.0001983151596505195, 0.00019519896886777133, 0.00019519896886777133, 0.00019519896886777133, 0.00019519896886777133, 0.00019519893976394087, 0.00019519893976394087, 0.00019519893976394087, 0.00019519893976394087, 0.00019519893976394087, 0.00019519893976394087, 0.00019519893976394087, 0.00019519893976394087, 0.00019519893976394087, 0.00019519893976394087, 0.000195200031157583, 0.00019520000205375254, 0.00019519991474226117, 0.0001951999292941764, 0.0001951997692231089, 0.0001951999875018373, 0.00019519893976394087, 0.00019519893976394087, 0.00019519893976394087, 0.00019519893976394087, 0.00019519893976394087, 0.00019519893976394087, 0.00019519893976394087, 0.00019519893976394087, 0.0001951997692231089, 0.00019519994384609163, 0.00020447507267817855, 0.0002036689402302727, 0.00020359958580229431, 0.00020348955877125263, 0.0002028141898335889, 0.00020134456281084567, 0.00020096587832085788, 0.0002006611175602302, 0.00020024421974085271, 0.0002001511020353064, 0.00019968111882917583, 0.0001996455539483577, 0.00019960751524195075, 0.00019936036551371217, 0.000199353409698233, 0.00019926570530515164, 0.00019920595514122397, 0.00019904850341845304, 0.00019872153643518686, 0.00019867710943799466, 0.00019865535432472825, 0.00019861578766722232, 0.00019837571016978472, 0.0001980049128178507, 0.0001979923399630934, 0.00019793593673966825, 0.00019788253121078014, 0.00019786160555668175, 0.00019781266746576875, 0.0001977849897230044], \"Term\": [\"gate\", \"clean\", \"staff\", \"check\", \"queue\", \"area\", \"food\", \"long\", \"time\", \"easy\", \"line\", \"walk\", \"minute\", \"arrive\", \"review\", \"toilet\", \"security\", \"shop\", \"departure\", \"wait\", \"lounge\", \"experience\", \"trip\", \"even\", \"passenger\", \"find\", \"also\", \"hour\", \"arrival\", \"seat\", \"brussel\", \"seattle\", \"canadian\", \"new_york\", \"rudeness\", \"iah\", \"schipol\", \"incheon\", \"realize\", \"rebook\", \"scream\", \"shanghai\", \"africa\", \"thousand\", \"shanghai_pudong\", \"pocket\", \"ipad\", \"charles_de\", \"america\", \"lazy\", \"mexico\", \"clue\", \"korean\", \"esta\", \"gaulle\", \"battery\", \"responsibility\", \"fix\", \"piece\", \"seatac\", \"agent\", \"employee\", \"line\", \"checkpoint\", \"yell\", \"satellite\", \"jump\", \"report\", \"literally\", \"figure\", \"miss\", \"personnel\", \"rude\", \"hour\", \"hundred\", \"connect\", \"bad\", \"tell\", \"avoid\", \"people\", \"ask\", \"suppose\", \"stamp\", \"custom\", \"never\", \"try\", \"take\", \"officer\", \"time\", \"security\", \"send\", \"check\", \"counter\", \"traveler\", \"immigration\", \"staff\", \"least\", \"wait\", \"experience\", \"go\", \"say\", \"gate\", \"queue\", \"long\", \"travel\", \"even\", \"passenger\", \"minute\", \"get\", \"find\", \"arrive\", \"need\", \"review\", \"trip\", \"bag\", \"area\", \"departure\", \"way\", \"many\", \"hanoi\", \"cologne\", \"russian\", \"lgw\", \"vantaa\", \"finnish\", \"ferry\", \"congested\", \"purple\", \"recognise\", \"resort\", \"austrian\", \"daa\", \"border_force\", \"buss\", \"burger_k\", \"boom\", \"quarantine\", \"scatter\", \"bradley\", \"urgently\", \"nail\", \"denmark\", \"gauntlet\", \"self_serve\", \"mtr\", \"stansted\", \"enquiry\", \"undertake\", \"daylight\", \"sq\", \"etihad\", \"car_park\", \"making\", \"garden\", \"aisle\", \"lhr\", \"qanta\", \"christchurch\", \"toilet\", \"excellent\", \"shop\", \"airbridge\", \"seat\", \"comfortable\", \"clean\", \"new_zealand\", \"area\", \"friendly\", \"arrival\", \"efficient\", \"expensive\", \"free\", \"runway\", \"lounge\", \"departure\", \"staff\", \"duty_free\", \"queue\", \"gate\", \"easy\", \"fast\", \"minute\", \"arrive\", \"baggage\", \"facility\", \"well\", \"drop\", \"review\", \"passenger\", \"security\", \"long\", \"time\", \"trip\", \"wait\", \"walk\", \"check\", \"food\", \"use\", \"really\", \"experience\", \"service\", \"find\", \"people\", \"immigration\", \"even\", \"hour\", \"bahrain\", \"garuda\", \"indonesian\", \"flydubai\", \"ultimate\", \"yen\", \"gardermoen\", \"tromso\", \"film\", \"smartgate\", \"qf\", \"gulf\", \"wood\", \"iso\", \"clinic\", \"osl\", \"gcc\", \"barajas\", \"colorado\", \"connecting\", \"marrakesh\", \"cooler\", \"saudi\", \"nok\", \"eec\", \"prepay\", \"bart\", \"dirham\", \"gla\", \"aegean\", \"haneda\", \"athen\", \"portugal\", \"indonesia\", \"portuguese\", \"shed\", \"soekarno_hatta\", \"dia\", \"norway\", \"ana\", \"uae\", \"tap\", \"iberia\", \"greece\", \"greek\", \"helper\", \"clean\", \"easy\", \"toilet\", \"food\", \"gate\", \"spanish\", \"staff\", \"area\", \"check\", \"lounge\", \"tocuman\", \"frontier\", \"east_midland\", \"briefcase\", \"menorca\", \"fuerteventura\", \"swissport\", \"yul\", \"lyft\", \"ikea\", \"brummie\", \"medic\", \"midland\", \"copa\", \"indignity\", \"confiscation\", \"domino\", \"rum\", \"institute\", \"jose\", \"dig\", \"swallowed\", \"heinous\", \"quid\", \"mysterious\", \"squat\", \"footwear\", \"candle\", \"foolishly\", \"ocs\", \"panama\", \"oakland\", \"misdirect\", \"sky_harbor\", \"halifax\", \"phoenix\", \"dad\", \"tweezer\", \"corfu\", \"secondary\", \"appalled\", \"banana\", \"trudeau\", \"lighter\", \"yuan\", \"powerbank\", \"njet\", \"southport\", \"smog\", \"cz\", \"killer\", \"yinchuan\", \"knive\", \"carriage\", \"bial\", \"unlicensed\", \"luxembourg\", \"freezing\", \"lasted\", \"wechat\", \"leatherman\", \"unscathed\", \"faa\", \"bengaluru\", \"underwent\", \"manicure\", \"reprint\", \"groom\", \"obligate\", \"shoyld\", \"pedesterian\", \"empathise\", \"recording\", \"davaj\", \"doubtful\", \"gold_coast\", \"bangalore\", \"pollution\", \"syd\", \"scary\", \"outline\", \"takes_forev\", \"inexplicably\", \"capital\", \"taiwanese\", \"swimming\", \"malta\", \"baltra\", \"kitty\", \"silkair\", \"singaporean\", \"galapagos\", \"plants\", \"twd\", \"butterfly\", \"xbox\", \"delicacy\", \"dps\", \"lounger\", \"falsehood\", \"koi\", \"certicate\", \"profesional\", \"tame\", \"zen\", \"mug\", \"tit\", \"maltese\", \"aviaserve\", \"vallette\", \"squelchy\", \"gout\", \"commonsense\", \"infinitesimally\", \"mrt\", \"mandarin\", \"finished\", \"lover\", \"silk\", \"jazz\", \"pond\", \"garden\", \"pool\", \"abundant\", \"cinema\", \"theatre\", \"provision\", \"nagoya\", \"centrair\", \"photographer\", \"decently\", \"panoramic\", \"skydeck\", \"vew\", \"douro\", \"defenetly\", \"porto\", \"upward\", \"chengdu\", \"infected\", \"linyi\", \"medina\", \"umrah\", \"steelwork\", \"cafetaria\", \"lego\", \"billund\", \"tesla\", \"hamad\", \"medivial\", \"plunge\", \"natal\", \"shaka\", \"piazza\", \"forgettable\", \"kwazulu\", \"woolworth\", \"cuisine\", \"trend\", \"ambiance\", \"check\", \"staff\", \"security\", \"time\", \"trip\", \"clean\", \"shop\", \"gate\", \"queue\", \"passenger\", \"wait\", \"departure\", \"hour\", \"people\", \"line\", \"immigration\", \"long\", \"inviting\", \"blunder\", \"predetermined\", \"confidently\", \"since\", \"rdu\", \"durham\", \"raleigh\", \"reassign\", \"attest\", \"chengdu\", \"upward\", \"infected\", \"linyi\", \"medina\", \"umrah\", \"steelwork\", \"cafetaria\", \"lego\", \"billund\", \"tesla\", \"hamad\", \"medivial\", \"plunge\", \"natal\", \"shaka\", \"piazza\", \"forgettable\", \"kwazulu\", \"woolworth\", \"staff\", \"time\", \"line\", \"security\", \"hour\", \"gate\", \"queue\", \"check\", \"review\", \"wait\", \"people\", \"arrive\", \"minute\", \"passenger\", \"find\", \"immigration\", \"take\", \"long\", \"area\", \"departure\", \"shaka\", \"natal\", \"piazza\", \"forgettable\", \"kwazulu\", \"woolworth\", \"durban\", \"upward\", \"chengdu\", \"infected\", \"linyi\", \"medina\", \"umrah\", \"steelwork\", \"cafetaria\", \"lego\", \"billund\", \"tesla\", \"hamad\", \"medivial\", \"plunge\", \"inviting\", \"blunder\", \"predetermined\", \"confidently\", \"since\", \"mosque\", \"skydeck\", \"panoramic\", \"vew\", \"materialise\", \"douro\", \"security\", \"staff\", \"time\", \"gate\", \"check\", \"long\", \"hour\", \"wait\", \"queue\", \"minute\", \"arrive\", \"departure\", \"passenger\", \"immigration\", \"experience\", \"people\", \"review\", \"area\", \"shop\", \"go\", \"line\", \"arrival\", \"billund\", \"lego\", \"hamad\", \"medivial\", \"tesla\", \"plunge\", \"measly\", \"oddly\", \"upward\", \"chengdu\", \"infected\", \"linyi\", \"medina\", \"umrah\", \"steelwork\", \"cafetaria\", \"natal\", \"shaka\", \"piazza\", \"forgettable\", \"kwazulu\", \"woolworth\", \"blunder\", \"inviting\", \"confidently\", \"predetermined\", \"since\", \"mosque\", \"panoramic\", \"skydeck\", \"praise\", \"vew\", \"pavement\", \"peacefully\", \"greasy\", \"quietly\", \"security\", \"time\", \"staff\", \"queue\", \"gate\", \"wait\", \"people\", \"departure\", \"check\", \"minute\", \"line\", \"hour\", \"area\", \"arrive\", \"passenger\", \"walk\", \"need\", \"trip\", \"even\", \"mosque\", \"medina\", \"cafetaria\", \"umrah\", \"steelwork\", \"mishap\", \"jeddah\", \"upward\", \"chengdu\", \"infected\", \"linyi\", \"lego\", \"billund\", \"tesla\", \"hamad\", \"medivial\", \"plunge\", \"natal\", \"shaka\", \"piazza\", \"forgettable\", \"kwazulu\", \"woolworth\", \"inviting\", \"blunder\", \"predetermined\", \"confidently\", \"since\", \"skydeck\", \"panoramic\", \"palm\", \"fetch\", \"tree\", \"staff\", \"time\", \"check\", \"arrive\", \"passenger\", \"hour\", \"security\", \"bag\", \"long\", \"queue\", \"gate\", \"minute\", \"wait\", \"line\", \"departure\", \"experience\", \"trip\", \"facility\", \"return\", \"area\", \"shenzen\", \"upward\", \"chengdu\", \"infected\", \"linyi\", \"medina\", \"umrah\", \"steelwork\", \"cafetaria\", \"medivial\", \"hamad\", \"lego\", \"billund\", \"tesla\", \"plunge\", \"shaka\", \"natal\", \"piazza\", \"forgettable\", \"kwazulu\", \"woolworth\", \"inviting\", \"blunder\", \"confidently\", \"predetermined\", \"since\", \"mosque\", \"skydeck\", \"panoramic\", \"vew\", \"time\", \"security\", \"staff\", \"hour\", \"gate\", \"check\", \"queue\", \"long\", \"wait\", \"arrive\", \"minute\", \"passenger\", \"departure\", \"people\", \"review\", \"experience\", \"travel\", \"need\", \"immigration\", \"area\", \"line\", \"get\", \"even\", \"bag\", \"take\", \"upward\", \"chengdu\", \"infected\", \"linyi\", \"medina\", \"umrah\", \"steelwork\", \"cafetaria\", \"lego\", \"billund\", \"tesla\", \"hamad\", \"medivial\", \"plunge\", \"natal\", \"shaka\", \"forgettable\", \"piazza\", \"woolworth\", \"kwazulu\", \"blunder\", \"inviting\", \"predetermined\", \"confidently\", \"since\", \"mosque\", \"panoramic\", \"skydeck\", \"vew\", \"douro\", \"check\", \"staff\", \"queue\", \"time\", \"hour\", \"gate\", \"long\", \"security\", \"passenger\", \"immigration\", \"arrive\", \"experience\", \"people\", \"wait\", \"line\", \"minute\", \"departure\", \"review\", \"area\", \"shop\", \"go\", \"even\", \"need\", \"arrival\", \"take\", \"food\", \"find\", \"many\", \"transit\", \"trip\", \"upward\", \"chengdu\", \"infected\", \"linyi\", \"medina\", \"umrah\", \"steelwork\", \"cafetaria\", \"lego\", \"billund\", \"tesla\", \"hamad\", \"medivial\", \"plunge\", \"natal\", \"shaka\", \"piazza\", \"forgettable\", \"kwazulu\", \"woolworth\", \"inviting\", \"blunder\", \"confidently\", \"predetermined\", \"since\", \"mosque\", \"panoramic\", \"skydeck\", \"vew\", \"douro\", \"gate\", \"security\", \"staff\", \"time\", \"queue\", \"check\", \"arrive\", \"minute\", \"long\", \"hour\", \"wait\", \"people\", \"trip\", \"experience\", \"area\", \"get\", \"review\", \"departure\", \"passenger\", \"need\", \"many\", \"arrival\", \"find\", \"go\", \"line\", \"immigration\", \"even\", \"bag\", \"take\", \"clean\", \"upward\", \"chengdu\", \"infected\", \"linyi\", \"medina\", \"umrah\", \"steelwork\", \"cafetaria\", \"lego\", \"billund\", \"tesla\", \"hamad\", \"medivial\", \"plunge\", \"natal\", \"shaka\", \"piazza\", \"forgettable\", \"kwazulu\", \"woolworth\", \"inviting\", \"blunder\", \"confidently\", \"predetermined\", \"since\", \"mosque\", \"panoramic\", \"skydeck\", \"vew\", \"douro\", \"staff\", \"time\", \"security\", \"check\", \"gate\", \"minute\", \"wait\", \"hour\", \"queue\", \"experience\", \"area\", \"review\", \"long\", \"line\", \"people\", \"trip\", \"arrive\", \"even\", \"travel\", \"take\", \"departure\", \"get\", \"way\", \"walk\", \"arrival\", \"find\", \"well\", \"need\", \"passenger\", \"see\", \"upward\", \"chengdu\", \"infected\", \"linyi\", \"medina\", \"umrah\", \"steelwork\", \"cafetaria\", \"lego\", \"billund\", \"tesla\", \"hamad\", \"medivial\", \"plunge\", \"natal\", \"shaka\", \"piazza\", \"forgettable\", \"kwazulu\", \"woolworth\", \"inviting\", \"blunder\", \"predetermined\", \"confidently\", \"since\", \"mosque\", \"panoramic\", \"skydeck\", \"vew\", \"douro\", \"security\", \"time\", \"staff\", \"check\", \"gate\", \"hour\", \"wait\", \"experience\", \"trip\", \"long\", \"passenger\", \"queue\", \"people\", \"area\", \"minute\", \"take\", \"departure\", \"get\", \"walk\", \"arrive\", \"shop\", \"travel\", \"way\", \"bag\", \"review\", \"even\", \"line\", \"find\", \"arrival\", \"passport_control\", \"upward\", \"chengdu\", \"infected\", \"linyi\", \"medina\", \"umrah\", \"cafetaria\", \"steelwork\", \"plunge\", \"lego\", \"billund\", \"tesla\", \"hamad\", \"medivial\", \"natal\", \"shaka\", \"piazza\", \"forgettable\", \"kwazulu\", \"woolworth\", \"inviting\", \"blunder\", \"predetermined\", \"confidently\", \"since\", \"mosque\", \"panoramic\", \"skydeck\", \"vew\", \"douro\", \"time\", \"security\", \"wait\", \"gate\", \"hour\", \"queue\", \"minute\", \"staff\", \"check\", \"line\", \"arrive\", \"people\", \"experience\", \"immigration\", \"departure\", \"area\", \"passenger\", \"review\", \"long\", \"need\", \"even\", \"go\", \"find\", \"travel\", \"take\", \"work\", \"walk\", \"bag\", \"food\", \"shop\", \"upward\", \"chengdu\", \"infected\", \"linyi\", \"medina\", \"umrah\", \"steelwork\", \"cafetaria\", \"lego\", \"billund\", \"tesla\", \"hamad\", \"medivial\", \"plunge\", \"natal\", \"shaka\", \"piazza\", \"forgettable\", \"kwazulu\", \"woolworth\", \"inviting\", \"blunder\", \"predetermined\", \"confidently\", \"since\", \"mosque\", \"panoramic\", \"skydeck\", \"vew\", \"douro\", \"security\", \"gate\", \"staff\", \"time\", \"check\", \"long\", \"hour\", \"wait\", \"minute\", \"trip\", \"people\", \"experience\", \"queue\", \"arrive\", \"passenger\", \"line\", \"immigration\", \"review\", \"get\", \"bag\", \"area\", \"arrival\", \"find\", \"take\", \"way\", \"say\", \"need\", \"walk\", \"food\", \"departure\", \"upward\", \"chengdu\", \"infected\", \"linyi\", \"medina\", \"umrah\", \"steelwork\", \"cafetaria\", \"lego\", \"billund\", \"tesla\", \"hamad\", \"medivial\", \"plunge\", \"natal\", \"shaka\", \"piazza\", \"forgettable\", \"kwazulu\", \"woolworth\", \"inviting\", \"blunder\", \"predetermined\", \"confidently\", \"since\", \"mosque\", \"panoramic\", \"skydeck\", \"vew\", \"douro\", \"security\", \"time\", \"staff\", \"gate\", \"wait\", \"check\", \"queue\", \"hour\", \"passenger\", \"minute\", \"area\", \"find\", \"review\", \"people\", \"arrive\", \"experience\", \"departure\", \"line\", \"arrival\", \"even\", \"long\", \"travel\", \"walk\", \"way\", \"shop\", \"take\", \"go\", \"transit\", \"many\", \"trip\", \"upward\", \"chengdu\", \"infected\", \"linyi\", \"medina\", \"umrah\", \"steelwork\", \"cafetaria\", \"lego\", \"billund\", \"tesla\", \"hamad\", \"medivial\", \"plunge\", \"natal\", \"shaka\", \"piazza\", \"forgettable\", \"kwazulu\", \"woolworth\", \"inviting\", \"blunder\", \"predetermined\", \"confidently\", \"since\", \"mosque\", \"panoramic\", \"skydeck\", \"vew\", \"douro\", \"time\", \"staff\", \"check\", \"security\", \"gate\", \"people\", \"minute\", \"hour\", \"wait\", \"line\", \"queue\", \"long\", \"departure\", \"experience\", \"find\", \"passenger\", \"area\", \"get\", \"review\", \"take\", \"go\", \"travel\", \"shop\", \"passport_control\", \"come\", \"trip\", \"walk\", \"arrival\", \"way\", \"work\"], \"Total\": [2789.0, 960.0, 3585.0, 2964.0, 2579.0, 1638.0, 941.0, 2061.0, 3650.0, 583.0, 1903.0, 1120.0, 1996.0, 1792.0, 1575.0, 679.0, 3672.0, 1151.0, 1484.0, 2306.0, 769.0, 1845.0, 1449.0, 1337.0, 1895.0, 1417.0, 958.0, 2464.0, 1244.0, 734.0, 65.8847885131836, 40.684513092041016, 42.69824981689453, 71.91851043701172, 43.70566177368164, 38.66872024536133, 47.733612060546875, 36.6521110534668, 40.68096160888672, 37.658843994140625, 37.6585807800293, 36.64883041381836, 35.64323425292969, 35.63957214355469, 30.602664947509766, 37.654781341552734, 37.65473937988281, 29.59600067138672, 54.767669677734375, 36.64461135864258, 27.578441619873047, 32.614341735839844, 26.572294235229492, 26.571670532226562, 25.56415557861328, 26.56089973449707, 26.57090187072754, 52.69639205932617, 45.70848083496094, 24.5564022064209, 292.4190673828125, 298.3039245605469, 1903.2987060546875, 129.25326538085938, 104.08899688720703, 39.655555725097656, 60.79095458984375, 39.66185760498047, 110.05402374267578, 56.749786376953125, 620.2119140625, 178.2443084716797, 855.7550659179688, 2464.74560546875, 143.01803588867188, 655.8613891601562, 846.4860229492188, 946.1406860351562, 653.8218383789062, 2216.07373046875, 838.8643188476562, 118.92652893066406, 87.8564682006836, 832.3488159179688, 802.617431640625, 697.9022216796875, 1341.8798828125, 479.61444091796875, 3650.936767578125, 3672.524169921875, 168.8583221435547, 2964.382080078125, 555.353515625, 266.7486267089844, 1606.08740234375, 3585.9052734375, 449.8533935546875, 2306.568603515625, 1845.6444091796875, 1301.9188232421875, 898.0045166015625, 2789.415283203125, 2579.397705078125, 2061.779296875, 1259.4774169921875, 1337.114990234375, 1895.817138671875, 1996.5653076171875, 1262.869140625, 1417.3455810546875, 1792.000244140625, 1188.0, 1575.5364990234375, 1449.7965087890625, 1180.4847412109375, 1638.0806884765625, 1484.38525390625, 1109.0853271484375, 1082.029541015625, 22.914955139160156, 19.156538009643555, 15.396790504455566, 14.458199501037598, 12.578760147094727, 12.57880973815918, 12.579079627990723, 12.578557014465332, 12.579446792602539, 14.383306503295898, 11.64033317565918, 12.581624031066895, 10.69987964630127, 10.69970417022705, 17.266555786132812, 9.75989818572998, 9.759984970092773, 9.758589744567871, 11.642563819885254, 9.761871337890625, 8.820359230041504, 8.820282936096191, 15.411054611206055, 8.821229934692383, 8.815290451049805, 7.880605697631836, 7.880967617034912, 7.8807291984558105, 7.880711555480957, 7.880743503570557, 14.475128173828125, 21.109865188598633, 85.6111068725586, 8.825404167175293, 19.150760650634766, 14.566113471984863, 73.55693817138672, 42.01231384277344, 11.964509963989258, 679.6925048828125, 204.558837890625, 1151.386474609375, 27.967578887939453, 734.1504516601562, 183.26669311523438, 960.8072509765625, 40.53689956665039, 1638.0806884765625, 474.4985046386719, 1244.52294921875, 426.15936279296875, 269.1736755371094, 478.4870300292969, 98.91268157958984, 769.6405639648438, 1484.38525390625, 3585.9052734375, 301.7422790527344, 2579.397705078125, 2789.415283203125, 583.5306396484375, 513.7589721679688, 1996.5653076171875, 1792.000244140625, 745.10498046875, 442.8471984863281, 889.4544067382812, 358.4657287597656, 1575.5364990234375, 1895.817138671875, 3672.524169921875, 2061.779296875, 3650.936767578125, 1449.7965087890625, 2306.568603515625, 1120.1519775390625, 2964.382080078125, 941.962646484375, 779.3141479492188, 762.1420288085938, 1845.6444091796875, 876.9232177734375, 1417.3455810546875, 2216.07373046875, 1606.08740234375, 1337.114990234375, 2464.74560546875, 8.553844451904297, 6.3759565353393555, 4.227748394012451, 3.3762545585632324, 2.967353105545044, 2.509222984313965, 2.509310722351074, 2.5093231201171875, 2.5093300342559814, 2.5094289779663086, 2.51009202003479, 2.5154523849487305, 2.0802509784698486, 2.0802602767944336, 2.0802619457244873, 2.08031964302063, 2.0815930366516113, 7.313183784484863, 1.6510896682739258, 1.6511191129684448, 1.651140809059143, 1.6511354446411133, 1.651188850402832, 1.6512011289596558, 1.6512075662612915, 1.6512006521224976, 1.6508533954620361, 1.6523077487945557, 1.65727961063385, 6.537099361419678, 15.907797813415527, 23.388551712036133, 13.857876777648926, 16.262855529785156, 4.915182590484619, 5.015843391418457, 5.614114284515381, 3.5696170330047607, 7.890285015106201, 3.6281073093414307, 8.497641563415527, 33.07608413696289, 8.891342163085938, 7.189367771148682, 4.639346122741699, 9.269150733947754, 960.8072509765625, 583.5306396484375, 679.6925048828125, 941.962646484375, 2789.415283203125, 54.27865219116211, 3585.9052734375, 1638.0806884765625, 2964.382080078125, 769.6405639648438, 2.7355329990386963, 1.9450223445892334, 2.2983696460723877, 1.41787588596344, 1.418395757675171, 1.4192438125610352, 6.925882339477539, 1.154401421546936, 1.1546441316604614, 1.1546911001205444, 1.1553863286972046, 1.1583069562911987, 1.2065914869308472, 3.7808008193969727, 0.8908703923225403, 0.8908694386482239, 0.8908708691596985, 0.8908766508102417, 0.89088374376297, 0.8908823132514954, 0.890923023223877, 0.8909246921539307, 0.8909257650375366, 0.8909460306167603, 0.8909444808959961, 0.8909509181976318, 0.8909602761268616, 0.890964150428772, 0.8909919857978821, 0.8910097479820251, 11.867087364196777, 2.9333975315093994, 1.5835118293762207, 4.29116153717041, 5.7659406661987305, 7.5477800369262695, 5.69855260848999, 4.8294548988342285, 3.192575454711914, 19.46575927734375, 3.268634796142578, 3.5737087726593018, 3.67401123046875, 9.927319526672363, 1.493664026260376, 0.9461902976036072, 0.7870685458183289, 0.7871406078338623, 0.7871995568275452, 1.0553008317947388, 0.64601069688797, 0.6460210084915161, 0.6460486650466919, 0.6460874080657959, 0.6461017727851868, 0.646113932132721, 0.6461169123649597, 0.6461740732192993, 0.6463037729263306, 0.6464934349060059, 0.6468806862831116, 0.6466716527938843, 0.6473304629325867, 0.6492794752120972, 0.6597017049789429, 0.5049704909324646, 0.5049692392349243, 0.5049739480018616, 0.5049719214439392, 0.5049709677696228, 0.5049728155136108, 0.5049725770950317, 0.5049763917922974, 0.504976749420166, 0.504976212978363, 6.132404804229736, 9.115411758422852, 2.7209622859954834, 1.6063792705535889, 1.7164709568023682, 1.1537580490112305, 2.030773162841797, 2.0933034420013428, 48.65696334838867, 1.0281927585601807, 0.8951301574707031, 3.065978765487671, 0.7622004151344299, 0.7624459862709045, 0.7624274492263794, 0.7629715204238892, 0.6294434070587158, 0.6294665336608887, 0.6295529007911682, 0.6295614838600159, 0.6298245787620544, 0.6299629211425781, 0.6305081844329834, 0.6329988241195679, 0.6406288743019104, 1.1962991952896118, 0.49667948484420776, 0.49667996168136597, 0.49668067693710327, 0.49668118357658386, 0.496681809425354, 0.4966825544834137, 0.4966829717159271, 0.49668312072753906, 0.4966830015182495, 0.4966837465763092, 0.496694415807724, 0.4966943860054016, 0.4966946840286255, 2.9010448455810547, 1.9615057706832886, 1.0632450580596924, 1.0632363557815552, 1.8616738319396973, 1.8811531066894531, 1.8874398469924927, 19.150760650634766, 2.855778455734253, 7.59813117980957, 3.2742276191711426, 3.461928367614746, 4.409050464630127, 0.3955437242984772, 0.3955443799495697, 0.3956005275249481, 0.3956460952758789, 0.3797309696674347, 0.37973105907440186, 0.3797683119773865, 0.37979111075401306, 0.38867419958114624, 1.5259244441986084, 0.3704544007778168, 0.37045592069625854, 0.37054935097694397, 0.37063097953796387, 0.37094810605049133, 0.3709493577480316, 0.37094950675964355, 0.3709496259689331, 0.37167367339134216, 0.3716738522052765, 0.37168005108833313, 0.37168022990226746, 0.3716810941696167, 0.3716813921928406, 0.3717440366744995, 0.37174543738365173, 0.37174975872039795, 0.3717508316040039, 0.3717550039291382, 0.3717576563358307, 9.613983154296875, 5.503346920013428, 6.536641597747803, 2964.382080078125, 3585.9052734375, 3672.524169921875, 3650.936767578125, 1449.7965087890625, 960.8072509765625, 1151.386474609375, 2789.415283203125, 2579.397705078125, 1895.817138671875, 2306.568603515625, 1484.38525390625, 2464.74560546875, 2216.07373046875, 1903.2987060546875, 1606.08740234375, 2061.779296875, 0.3760630488395691, 0.3760637938976288, 0.37606942653656006, 0.37607020139694214, 0.37610554695129395, 2.588757276535034, 1.4503651857376099, 2.3623645305633545, 1.5770763158798218, 1.6331017017364502, 0.37045592069625854, 0.3704544007778168, 0.37054935097694397, 0.37063097953796387, 0.37094810605049133, 0.3709493577480316, 0.37094950675964355, 0.3709496259689331, 0.37167367339134216, 0.3716738522052765, 0.37168005108833313, 0.37168022990226746, 0.3716810941696167, 0.3716813921928406, 0.3717440366744995, 0.37174543738365173, 0.37174975872039795, 0.3717508316040039, 0.3717550039291382, 0.3717576563358307, 3585.9052734375, 3650.936767578125, 1903.2987060546875, 3672.524169921875, 2464.74560546875, 2789.415283203125, 2579.397705078125, 2964.382080078125, 1575.5364990234375, 2306.568603515625, 2216.07373046875, 1792.000244140625, 1996.5653076171875, 1895.817138671875, 1417.3455810546875, 1606.08740234375, 1341.8798828125, 2061.779296875, 1638.0806884765625, 1484.38525390625, 0.37174543738365173, 0.3717440366744995, 0.37174975872039795, 0.3717508316040039, 0.3717550039291382, 0.3717576563358307, 2.62235689163208, 0.3704544007778168, 0.37045592069625854, 0.37054935097694397, 0.37063097953796387, 0.37094810605049133, 0.3709493577480316, 0.37094950675964355, 0.3709496259689331, 0.37167367339134216, 0.3716738522052765, 0.37168005108833313, 0.37168022990226746, 0.3716810941696167, 0.3716813921928406, 0.3760630488395691, 0.3760637938976288, 0.37606942653656006, 0.37607020139694214, 0.37610554695129395, 0.3779822885990143, 0.37973105907440186, 0.3797309696674347, 0.3797683119773865, 2.002328395843506, 0.37979111075401306, 3672.524169921875, 3585.9052734375, 3650.936767578125, 2789.415283203125, 2964.382080078125, 2061.779296875, 2464.74560546875, 2306.568603515625, 2579.397705078125, 1996.5653076171875, 1792.000244140625, 1484.38525390625, 1895.817138671875, 1606.08740234375, 1845.6444091796875, 2216.07373046875, 1575.5364990234375, 1638.0806884765625, 1151.386474609375, 1301.9188232421875, 1903.2987060546875, 1244.52294921875, 0.3716738522052765, 0.37167367339134216, 0.37168022990226746, 0.3716810941696167, 0.37168005108833313, 0.3716813921928406, 1.2299060821533203, 2.3969743251800537, 0.3704544007778168, 0.37045592069625854, 0.37054935097694397, 0.37063097953796387, 0.37094810605049133, 0.3709493577480316, 0.37094950675964355, 0.3709496259689331, 0.3717440366744995, 0.37174543738365173, 0.37174975872039795, 0.3717508316040039, 0.3717550039291382, 0.3717576563358307, 0.3760637938976288, 0.3760630488395691, 0.37607020139694214, 0.37606942653656006, 0.37610554695129395, 0.3779822885990143, 0.3797309696674347, 0.37973105907440186, 6.462662696838379, 0.3797683119773865, 3.3795230388641357, 3.380913734436035, 4.392295837402344, 4.3926472663879395, 3672.524169921875, 3650.936767578125, 3585.9052734375, 2579.397705078125, 2789.415283203125, 2306.568603515625, 2216.07373046875, 1484.38525390625, 2964.382080078125, 1996.5653076171875, 1903.2987060546875, 2464.74560546875, 1638.0806884765625, 1792.000244140625, 1895.817138671875, 1120.1519775390625, 1188.0, 1449.7965087890625, 1337.114990234375, 0.3779822885990143, 0.37094810605049133, 0.3709496259689331, 0.3709493577480316, 0.37094950675964355, 0.8000271916389465, 1.4552408456802368, 0.3704544007778168, 0.37045592069625854, 0.37054935097694397, 0.37063097953796387, 0.37167367339134216, 0.3716738522052765, 0.37168005108833313, 0.37168022990226746, 0.3716810941696167, 0.3716813921928406, 0.3717440366744995, 0.37174543738365173, 0.37174975872039795, 0.3717508316040039, 0.3717550039291382, 0.3717576563358307, 0.3760630488395691, 0.3760637938976288, 0.37606942653656006, 0.37607020139694214, 0.37610554695129395, 0.37973105907440186, 0.3797309696674347, 3.3673317432403564, 4.391495227813721, 5.394981384277344, 3585.9052734375, 3650.936767578125, 2964.382080078125, 1792.000244140625, 1895.817138671875, 2464.74560546875, 3672.524169921875, 1180.4847412109375, 2061.779296875, 2579.397705078125, 2789.415283203125, 1996.5653076171875, 2306.568603515625, 1903.2987060546875, 1484.38525390625, 1845.6444091796875, 1449.7965087890625, 442.8471984863281, 448.2082824707031, 1638.0806884765625, 0.3834984302520752, 0.3704544007778168, 0.37045592069625854, 0.37054935097694397, 0.37063097953796387, 0.37094810605049133, 0.3709493577480316, 0.37094950675964355, 0.3709496259689331, 0.3716810941696167, 0.37168022990226746, 0.37167367339134216, 0.3716738522052765, 0.37168005108833313, 0.3716813921928406, 0.37174543738365173, 0.3717440366744995, 0.37174975872039795, 0.3717508316040039, 0.3717550039291382, 0.3717576563358307, 0.3760630488395691, 0.3760637938976288, 0.37607020139694214, 0.37606942653656006, 0.37610554695129395, 0.3779822885990143, 0.37973105907440186, 0.3797309696674347, 0.3797683119773865, 3650.936767578125, 3672.524169921875, 3585.9052734375, 2464.74560546875, 2789.415283203125, 2964.382080078125, 2579.397705078125, 2061.779296875, 2306.568603515625, 1792.000244140625, 1996.5653076171875, 1895.817138671875, 1484.38525390625, 2216.07373046875, 1575.5364990234375, 1845.6444091796875, 1259.4774169921875, 1188.0, 1606.08740234375, 1638.0806884765625, 1903.2987060546875, 1262.869140625, 1337.114990234375, 1180.4847412109375, 1341.8798828125, 0.3704544007778168, 0.37045592069625854, 0.37054935097694397, 0.37063097953796387, 0.37094810605049133, 0.3709493577480316, 0.37094950675964355, 0.3709496259689331, 0.37167367339134216, 0.3716738522052765, 0.37168005108833313, 0.37168022990226746, 0.3716810941696167, 0.3716813921928406, 0.3717440366744995, 0.37174543738365173, 0.3717508316040039, 0.37174975872039795, 0.3717576563358307, 0.3717550039291382, 0.3760637938976288, 0.3760630488395691, 0.37606942653656006, 0.37607020139694214, 0.37610554695129395, 0.3779822885990143, 0.3797309696674347, 0.37973105907440186, 0.3797683119773865, 0.37979111075401306, 2964.382080078125, 3585.9052734375, 2579.397705078125, 3650.936767578125, 2464.74560546875, 2789.415283203125, 2061.779296875, 3672.524169921875, 1895.817138671875, 1606.08740234375, 1792.000244140625, 1845.6444091796875, 2216.07373046875, 2306.568603515625, 1903.2987060546875, 1996.5653076171875, 1484.38525390625, 1575.5364990234375, 1638.0806884765625, 1151.386474609375, 1301.9188232421875, 1337.114990234375, 1188.0, 1244.52294921875, 1341.8798828125, 941.962646484375, 1417.3455810546875, 1082.029541015625, 983.954345703125, 1449.7965087890625, 0.3704544007778168, 0.37045592069625854, 0.37054935097694397, 0.37063097953796387, 0.37094810605049133, 0.3709493577480316, 0.37094950675964355, 0.3709496259689331, 0.37167367339134216, 0.3716738522052765, 0.37168005108833313, 0.37168022990226746, 0.3716810941696167, 0.3716813921928406, 0.3717440366744995, 0.37174543738365173, 0.37174975872039795, 0.3717508316040039, 0.3717550039291382, 0.3717576563358307, 0.3760630488395691, 0.3760637938976288, 0.37607020139694214, 0.37606942653656006, 0.37610554695129395, 0.3779822885990143, 0.3797309696674347, 0.37973105907440186, 0.3797683119773865, 0.37979111075401306, 2789.415283203125, 3672.524169921875, 3585.9052734375, 3650.936767578125, 2579.397705078125, 2964.382080078125, 1792.000244140625, 1996.5653076171875, 2061.779296875, 2464.74560546875, 2306.568603515625, 2216.07373046875, 1449.7965087890625, 1845.6444091796875, 1638.0806884765625, 1262.869140625, 1575.5364990234375, 1484.38525390625, 1895.817138671875, 1188.0, 1082.029541015625, 1244.52294921875, 1417.3455810546875, 1301.9188232421875, 1903.2987060546875, 1606.08740234375, 1337.114990234375, 1180.4847412109375, 1341.8798828125, 960.8072509765625, 0.3704544007778168, 0.37045592069625854, 0.37054935097694397, 0.37063097953796387, 0.37094810605049133, 0.3709493577480316, 0.37094950675964355, 0.3709496259689331, 0.37167367339134216, 0.3716738522052765, 0.37168005108833313, 0.37168022990226746, 0.3716810941696167, 0.3716813921928406, 0.3717440366744995, 0.37174543738365173, 0.37174975872039795, 0.3717508316040039, 0.3717550039291382, 0.3717576563358307, 0.3760630488395691, 0.3760637938976288, 0.37607020139694214, 0.37606942653656006, 0.37610554695129395, 0.3779822885990143, 0.3797309696674347, 0.37973105907440186, 0.3797683119773865, 0.37979111075401306, 3585.9052734375, 3650.936767578125, 3672.524169921875, 2964.382080078125, 2789.415283203125, 1996.5653076171875, 2306.568603515625, 2464.74560546875, 2579.397705078125, 1845.6444091796875, 1638.0806884765625, 1575.5364990234375, 2061.779296875, 1903.2987060546875, 2216.07373046875, 1449.7965087890625, 1792.000244140625, 1337.114990234375, 1259.4774169921875, 1341.8798828125, 1484.38525390625, 1262.869140625, 1109.0853271484375, 1120.1519775390625, 1244.52294921875, 1417.3455810546875, 889.4544067382812, 1188.0, 1895.817138671875, 833.0659790039062, 0.3704544007778168, 0.37045592069625854, 0.37054935097694397, 0.37063097953796387, 0.37094810605049133, 0.3709493577480316, 0.37094950675964355, 0.3709496259689331, 0.37167367339134216, 0.3716738522052765, 0.37168005108833313, 0.37168022990226746, 0.3716810941696167, 0.3716813921928406, 0.3717440366744995, 0.37174543738365173, 0.37174975872039795, 0.3717508316040039, 0.3717550039291382, 0.3717576563358307, 0.3760630488395691, 0.3760637938976288, 0.37606942653656006, 0.37607020139694214, 0.37610554695129395, 0.3779822885990143, 0.3797309696674347, 0.37973105907440186, 0.3797683119773865, 0.37979111075401306, 3672.524169921875, 3650.936767578125, 3585.9052734375, 2964.382080078125, 2789.415283203125, 2464.74560546875, 2306.568603515625, 1845.6444091796875, 1449.7965087890625, 2061.779296875, 1895.817138671875, 2579.397705078125, 2216.07373046875, 1638.0806884765625, 1996.5653076171875, 1341.8798828125, 1484.38525390625, 1262.869140625, 1120.1519775390625, 1792.000244140625, 1151.386474609375, 1259.4774169921875, 1109.0853271484375, 1180.4847412109375, 1575.5364990234375, 1337.114990234375, 1903.2987060546875, 1417.3455810546875, 1244.52294921875, 834.5414428710938, 0.3704544007778168, 0.37045592069625854, 0.37054935097694397, 0.37063097953796387, 0.37094810605049133, 0.3709493577480316, 0.3709496259689331, 0.37094950675964355, 0.3716813921928406, 0.37167367339134216, 0.3716738522052765, 0.37168005108833313, 0.37168022990226746, 0.3716810941696167, 0.3717440366744995, 0.37174543738365173, 0.37174975872039795, 0.3717508316040039, 0.3717550039291382, 0.3717576563358307, 0.3760630488395691, 0.3760637938976288, 0.37606942653656006, 0.37607020139694214, 0.37610554695129395, 0.3779822885990143, 0.3797309696674347, 0.37973105907440186, 0.3797683119773865, 0.37979111075401306, 3650.936767578125, 3672.524169921875, 2306.568603515625, 2789.415283203125, 2464.74560546875, 2579.397705078125, 1996.5653076171875, 3585.9052734375, 2964.382080078125, 1903.2987060546875, 1792.000244140625, 2216.07373046875, 1845.6444091796875, 1606.08740234375, 1484.38525390625, 1638.0806884765625, 1895.817138671875, 1575.5364990234375, 2061.779296875, 1188.0, 1337.114990234375, 1301.9188232421875, 1417.3455810546875, 1259.4774169921875, 1341.8798828125, 937.0344848632812, 1120.1519775390625, 1180.4847412109375, 941.962646484375, 1151.386474609375, 0.3704544007778168, 0.37045592069625854, 0.37054935097694397, 0.37063097953796387, 0.37094810605049133, 0.3709493577480316, 0.37094950675964355, 0.3709496259689331, 0.37167367339134216, 0.3716738522052765, 0.37168005108833313, 0.37168022990226746, 0.3716810941696167, 0.3716813921928406, 0.3717440366744995, 0.37174543738365173, 0.37174975872039795, 0.3717508316040039, 0.3717550039291382, 0.3717576563358307, 0.3760630488395691, 0.3760637938976288, 0.37606942653656006, 0.37607020139694214, 0.37610554695129395, 0.3779822885990143, 0.3797309696674347, 0.37973105907440186, 0.3797683119773865, 0.37979111075401306, 3672.524169921875, 2789.415283203125, 3585.9052734375, 3650.936767578125, 2964.382080078125, 2061.779296875, 2464.74560546875, 2306.568603515625, 1996.5653076171875, 1449.7965087890625, 2216.07373046875, 1845.6444091796875, 2579.397705078125, 1792.000244140625, 1895.817138671875, 1903.2987060546875, 1606.08740234375, 1575.5364990234375, 1262.869140625, 1180.4847412109375, 1638.0806884765625, 1244.52294921875, 1417.3455810546875, 1341.8798828125, 1109.0853271484375, 898.0045166015625, 1188.0, 1120.1519775390625, 941.962646484375, 1484.38525390625, 0.3704544007778168, 0.37045592069625854, 0.37054935097694397, 0.37063097953796387, 0.37094810605049133, 0.3709493577480316, 0.37094950675964355, 0.3709496259689331, 0.37167367339134216, 0.3716738522052765, 0.37168005108833313, 0.37168022990226746, 0.3716810941696167, 0.3716813921928406, 0.3717440366744995, 0.37174543738365173, 0.37174975872039795, 0.3717508316040039, 0.3717550039291382, 0.3717576563358307, 0.3760630488395691, 0.3760637938976288, 0.37606942653656006, 0.37607020139694214, 0.37610554695129395, 0.3779822885990143, 0.3797309696674347, 0.37973105907440186, 0.3797683119773865, 0.37979111075401306, 3672.524169921875, 3650.936767578125, 3585.9052734375, 2789.415283203125, 2306.568603515625, 2964.382080078125, 2579.397705078125, 2464.74560546875, 1895.817138671875, 1996.5653076171875, 1638.0806884765625, 1417.3455810546875, 1575.5364990234375, 2216.07373046875, 1792.000244140625, 1845.6444091796875, 1484.38525390625, 1903.2987060546875, 1244.52294921875, 1337.114990234375, 2061.779296875, 1259.4774169921875, 1120.1519775390625, 1109.0853271484375, 1151.386474609375, 1341.8798828125, 1301.9188232421875, 983.954345703125, 1082.029541015625, 1449.7965087890625, 0.3704544007778168, 0.37045592069625854, 0.37054935097694397, 0.37063097953796387, 0.37094810605049133, 0.3709493577480316, 0.37094950675964355, 0.3709496259689331, 0.37167367339134216, 0.3716738522052765, 0.37168005108833313, 0.37168022990226746, 0.3716810941696167, 0.3716813921928406, 0.3717440366744995, 0.37174543738365173, 0.37174975872039795, 0.3717508316040039, 0.3717550039291382, 0.3717576563358307, 0.3760630488395691, 0.3760637938976288, 0.37606942653656006, 0.37607020139694214, 0.37610554695129395, 0.3779822885990143, 0.3797309696674347, 0.37973105907440186, 0.3797683119773865, 0.37979111075401306, 3650.936767578125, 3585.9052734375, 2964.382080078125, 3672.524169921875, 2789.415283203125, 2216.07373046875, 1996.5653076171875, 2464.74560546875, 2306.568603515625, 1903.2987060546875, 2579.397705078125, 2061.779296875, 1484.38525390625, 1845.6444091796875, 1417.3455810546875, 1895.817138671875, 1638.0806884765625, 1262.869140625, 1575.5364990234375, 1341.8798828125, 1301.9188232421875, 1259.4774169921875, 1151.386474609375, 834.5414428710938, 870.234130859375, 1449.7965087890625, 1120.1519775390625, 1244.52294921875, 1109.0853271484375, 937.0344848632812], \"loglift\": [30.0, 29.0, 28.0, 27.0, 26.0, 25.0, 24.0, 23.0, 22.0, 21.0, 20.0, 19.0, 18.0, 17.0, 16.0, 15.0, 14.0, 13.0, 12.0, 11.0, 10.0, 9.0, 8.0, 7.0, 6.0, 5.0, 4.0, 3.0, 2.0, 1.0, 0.2741999924182892, 0.2720000147819519, 0.2718999981880188, 0.2718999981880188, 0.271699994802475, 0.271699994802475, 0.271699994802475, 0.27129998803138733, 0.27129998803138733, 0.2712000012397766, 0.2712000012397766, 0.2712000012397766, 0.27079999446868896, 0.2705000042915344, 0.27000001072883606, 0.26980000734329224, 0.26969999074935913, 0.2696000039577484, 0.2694999873638153, 0.26910001039505005, 0.26910001039505005, 0.2687999904155731, 0.2687999904155731, 0.2687999904155731, 0.26829999685287476, 0.26829999685287476, 0.26820001006126404, 0.26820001006126404, 0.26809999346733093, 0.26809999346733093, 0.26510000228881836, 0.2583000063896179, 0.23829999566078186, 0.2623000144958496, 0.26269999146461487, 0.26759999990463257, 0.262800008058548, 0.2669000029563904, 0.2531000077724457, 0.26190000772476196, 0.20810000598430634, 0.23499999940395355, 0.18700000643730164, 0.1468999981880188, 0.23070000112056732, 0.18039999902248383, 0.16670000553131104, 0.1607999950647354, 0.1737000048160553, 0.11710000038146973, 0.15479999780654907, 0.2320999950170517, 0.2433999925851822, 0.14740000665187836, 0.14920000731945038, 0.15369999408721924, 0.12049999833106995, 0.1712999939918518, 0.06360000371932983, 0.061900001019239426, 0.21279999613761902, 0.05779999867081642, 0.14159999787807465, 0.18529999256134033, 0.07519999891519547, 0.006300000008195639, 0.14869999885559082, 0.028200000524520874, 0.04349999874830246, 0.0658000037074089, 0.09260000288486481, -0.005100000184029341, -0.012000000104308128, 0.00989999994635582, 0.055399999022483826, 0.04390000179409981, -0.0026000000070780516, -0.026900000870227814, 0.03709999844431877, 0.014299999922513962, -0.03400000184774399, 0.039799999445676804, -0.03009999915957451, -0.026599999517202377, 0.025100000202655792, -0.09939999878406525, -0.07670000195503235, 0.028300000354647636, 0.03220000118017197, 1.4395999908447266, 1.437399983406067, 1.4341000318527222, 1.4330999851226807, 1.4305000305175781, 1.4305000305175781, 1.430400013923645, 1.430400013923645, 1.429900050163269, 1.4285000562667847, 1.4275000095367432, 1.4270999431610107, 1.4270000457763672, 1.426900029182434, 1.4256999492645264, 1.4247000217437744, 1.4247000217437744, 1.4246000051498413, 1.424399971961975, 1.4220000505447388, 1.4219000339508057, 1.4218000173568726, 1.4214999675750732, 1.4205000400543213, 1.420199990272522, 1.4184000492095947, 1.4184000492095947, 1.4184000492095947, 1.4184000492095947, 1.4184000492095947, 1.4147000312805176, 1.3842999935150146, 1.3219000101089478, 1.4132000207901, 1.3686000108718872, 1.381700038909912, 1.2617000341415405, 1.2898000478744507, 1.3844000101089478, 0.7032999992370605, 0.8981000185012817, 0.525600016117096, 1.2318999767303467, 0.5879999995231628, 0.8468999862670898, 0.47189998626708984, 1.1394000053405762, 0.2883000075817108, 0.5709999799728394, 0.33629998564720154, 0.5878999829292297, 0.6906999945640564, 0.5350000262260437, 0.9282000064849854, 0.4099000096321106, 0.23849999904632568, 0.011300000362098217, 0.6266000270843506, 0.06759999692440033, 0.04490000009536743, 0.444599986076355, 0.47850000858306885, 0.1111999973654747, 0.13040000200271606, 0.37279999256134033, 0.5163999795913696, 0.30480000376701355, 0.5666999816894531, 0.11860000342130661, 0.04050000011920929, -0.18940000236034393, -0.002199999988079071, -0.19769999384880066, 0.10970000177621841, -0.06120000034570694, 0.19220000505447388, -0.1754000037908554, 0.2257000058889389, 0.30730000138282776, 0.313400000333786, -0.11840000003576279, 0.24300000071525574, -0.01549999974668026, -0.45910000801086426, -0.24660000205039978, -0.121799997985363, -0.6499999761581421, 5.3592000007629395, 5.352700233459473, 5.326700210571289, 5.3024001121521, 5.27400016784668, 5.271699905395508, 5.271699905395508, 5.271699905395508, 5.271599769592285, 5.271599769592285, 5.270999908447266, 5.267099857330322, 5.242000102996826, 5.242000102996826, 5.242000102996826, 5.2418999671936035, 5.240699768066406, 5.215799808502197, 5.195199966430664, 5.195099830627441, 5.195099830627441, 5.195099830627441, 5.195099830627441, 5.195099830627441, 5.195099830627441, 5.195099830627441, 5.194699764251709, 5.193699836730957, 5.188000202178955, 5.173299789428711, 5.07919979095459, 4.848100185394287, 4.910200119018555, 4.88070011138916, 5.036600112915039, 4.994100093841553, 4.968599796295166, 4.9008002281188965, 4.57390022277832, 4.864799976348877, 4.335999965667725, 3.476599931716919, 4.211400032043457, 4.333600044250488, 4.6178998947143555, 4.059700012207031, 0.3400999903678894, 0.705299973487854, 0.17960000038146973, -0.13989999890327454, -1.2769999504089355, 2.3949999809265137, -1.8308000564575195, -1.0878000259399414, -1.6841000318527222, -0.3499999940395355, 6.195899963378906, 6.1381001472473145, 6.103700160980225, 6.058700084686279, 6.058199882507324, 6.057300090789795, 6.032100200653076, 5.986400127410889, 5.986100196838379, 5.986100196838379, 5.985199928283691, 5.981400012969971, 5.917200088500977, 5.866799831390381, 5.859499931335449, 5.859499931335449, 5.859499931335449, 5.859499931335449, 5.859499931335449, 5.859499931335449, 5.859399795532227, 5.859399795532227, 5.859300136566162, 5.859300136566162, 5.859300136566162, 5.859300136566162, 5.859300136566162, 5.859300136566162, 5.8592000007629395, 5.8592000007629395, 5.5731000900268555, 5.482500076293945, 5.670400142669678, 5.271699905395508, 5.096700191497803, 4.875400066375732, 4.887899875640869, 4.6981000900268555, 4.959499835968018, 3.5192999839782715, 4.827400207519531, 4.6656999588012695, 4.58459997177124, 3.4697000980377197, 6.843500137329102, 6.6168999671936035, 6.528299808502197, 6.52810001373291, 6.5279998779296875, 6.476600170135498, 6.339600086212158, 6.339600086212158, 6.339600086212158, 6.3394999504089355, 6.339399814605713, 6.339399814605713, 6.339399814605713, 6.339300155639648, 6.339000225067139, 6.338600158691406, 6.337800025939941, 6.337500095367432, 6.336900234222412, 6.332799911499023, 6.296899795532227, 5.948699951171875, 5.948699951171875, 5.948699951171875, 5.948699951171875, 5.948699951171875, 5.948699951171875, 5.948699951171875, 5.948699951171875, 5.948699951171875, 5.948699951171875, 5.894999980926514, 5.759900093078613, 5.317699909210205, 5.416500091552734, 5.282100200653076, 5.436699867248535, 4.965000152587891, 4.89109992980957, 2.1164000034332275, 6.761899948120117, 6.6834001541137695, 6.606800079345703, 6.566299915313721, 6.565899848937988, 6.565800189971924, 6.565000057220459, 6.371600151062012, 6.371500015258789, 6.371300220489502, 6.371300220489502, 6.370699882507324, 6.3703999519348145, 6.369200229644775, 6.363800048828125, 6.347400188446045, 6.110499858856201, 5.971199989318848, 5.971199989318848, 5.971199989318848, 5.971199989318848, 5.971199989318848, 5.971199989318848, 5.971199989318848, 5.971199989318848, 5.971199989318848, 5.971199989318848, 5.971199989318848, 5.971199989318848, 5.971199989318848, 5.930799961090088, 5.882199764251709, 5.839900016784668, 5.839900016784668, 5.639200210571289, 5.621399879455566, 5.615600109100342, 4.44920015335083, 5.156499862670898, 4.541900157928467, 4.851399898529053, 4.764999866485596, 4.551000118255615, 6.9670000076293945, 6.9670000076293945, 6.966899871826172, 6.966700077056885, 6.37060022354126, 6.37060022354126, 6.3703999519348145, 6.3703999519348145, 6.339200019836426, 6.258399963378906, 4.176199913024902, 4.176199913024902, 4.175899982452393, 4.1757001876831055, 4.174799919128418, 4.174799919128418, 4.174799919128418, 4.174799919128418, 4.173099994659424, 4.172999858856201, 4.172900199890137, 4.172900199890137, 4.172900199890137, 4.172900199890137, 4.172699928283691, 4.172699928283691, 4.172699928283691, 4.172699928283691, 4.172699928283691, 4.172699928283691, 3.678999900817871, 3.618799924850464, 3.4214000701904297, -4.595799922943115, -4.822999954223633, -4.867599964141846, -4.881100177764893, -3.990600109100342, -3.584700107574463, -3.776900053024292, -4.6545000076293945, -4.588600158691406, -4.281599998474121, -4.479800224304199, -4.04610013961792, -4.5543999671936035, -4.448999881744385, -4.298699855804443, -4.129199981689453, -4.38040018081665, 6.384399890899658, 6.384399890899658, 6.384399890899658, 6.384399890899658, 6.384300231933594, 5.716700077056885, 5.607600212097168, 5.541200160980225, 4.761199951171875, 4.66379976272583, 4.1803998947143555, 4.1803998947143555, 4.180200099945068, 4.179900169372559, 4.178999900817871, 4.178999900817871, 4.178999900817871, 4.178999900817871, 4.17710018157959, 4.17710018157959, 4.177000045776367, 4.177000045776367, 4.177000045776367, 4.177000045776367, 4.1768999099731445, 4.1768999099731445, 4.1768999099731445, 4.176799774169922, 4.176799774169922, 4.176799774169922, -4.924900054931641, -4.944399833679199, -4.2957000732421875, -4.956900119781494, -4.56220006942749, -4.6875, -4.610199928283691, -4.756400108337402, -4.128499984741211, -4.5100998878479, -4.470300197601318, -4.259099960327148, -4.370100021362305, -4.3190999031066895, -4.031099796295166, -4.1570000648498535, -3.9781999588012695, -4.412300109863281, -4.18310022354126, -4.084799766540527, 6.400000095367432, 6.400000095367432, 6.400000095367432, 6.400000095367432, 6.400000095367432, 6.400000095367432, 5.39709997177124, 4.1844000816345215, 4.1844000816345215, 4.184100151062012, 4.183899879455566, 4.183000087738037, 4.183000087738037, 4.183000087738037, 4.183000087738037, 4.181099891662598, 4.181099891662598, 4.181099891662598, 4.181099891662598, 4.181099891662598, 4.181099891662598, 4.169300079345703, 4.169300079345703, 4.169300079345703, 4.169300079345703, 4.1691999435424805, 4.164299964904785, 4.159599781036377, 4.159599781036377, 4.159599781036377, 3.906899929046631, 4.1595001220703125, -4.920499801635742, -4.902699947357178, -4.931300163269043, -4.672299861907959, -4.740699768066406, -4.377900123596191, -4.557499885559082, -4.492499828338623, -4.604800224304199, -4.355500221252441, -4.249199867248535, -4.061699867248535, -4.306399822235107, -4.145199775695801, -4.284299850463867, -4.4679999351501465, -4.127699851989746, -4.1691999435424805, -3.819000005722046, -3.941999912261963, -4.323200225830078, -3.9012999534606934, 6.400300025939941, 6.400300025939941, 6.400300025939941, 6.400300025939941, 6.400300025939941, 6.400300025939941, 5.203499794006348, 4.5279998779296875, 4.1844000816345215, 4.1844000816345215, 4.184199810028076, 4.184000015258789, 4.18310022354126, 4.18310022354126, 4.18310022354126, 4.18310022354126, 4.181000232696533, 4.181000232696533, 4.181000232696533, 4.1809000968933105, 4.1809000968933105, 4.1809000968933105, 4.16949987411499, 4.16949987411499, 4.16949987411499, 4.169400215148926, 4.169400215148926, 4.164299964904785, 4.1596999168396, 4.1596999168396, 3.5048000812530518, 4.159599781036377, 2.033799886703491, 2.0274999141693115, 1.7369999885559082, 1.736299991607666, -4.927199840545654, -4.9232001304626465, -4.9182000160217285, -4.594600200653076, -4.6753997802734375, -4.496200084686279, -4.456399917602539, -4.05649995803833, -4.750500202178955, -4.356200218200684, -4.308899879455566, -4.568699836730957, -4.160999774932861, -4.253300189971924, -4.310100078582764, -3.785399913787842, -3.846299886703491, -4.046000003814697, -3.968400001525879, 7.021699905395508, 6.403200149536133, 6.403200149536133, 6.403200149536133, 6.403200149536133, 5.6346001625061035, 4.966000080108643, 4.185400009155273, 4.185400009155273, 4.185200214385986, 4.184999942779541, 4.18209981918335, 4.18209981918335, 4.18209981918335, 4.18209981918335, 4.18209981918335, 4.18209981918335, 4.182000160217285, 4.182000160217285, 4.1819000244140625, 4.1819000244140625, 4.1819000244140625, 4.1819000244140625, 4.170400142669678, 4.170400142669678, 4.170400142669678, 4.170400142669678, 4.170300006866455, 4.160699844360352, 4.160699844360352, 2.134700059890747, 1.7480000257492065, 1.5354000329971313, -4.916100025177002, -4.956200122833252, -4.759799957275391, -4.256800174713135, -4.3171000480651855, -4.580100059509277, -4.979499816894531, -3.8477001190185547, -4.406099796295166, -4.630199909210205, -4.7093000411987305, -4.375699996948242, -4.521900177001953, -4.330999851226807, -4.0833001136779785, -4.302700042724609, -4.062399864196777, -2.8768999576568604, -2.890199899673462, -4.186299800872803, 7.393700122833252, 6.404900074005127, 6.404900074005127, 6.404600143432617, 6.404300212860107, 4.184599876403809, 4.184599876403809, 4.184599876403809, 4.184599876403809, 4.182600021362305, 4.182600021362305, 4.182600021362305, 4.182600021362305, 4.182499885559082, 4.182499885559082, 4.182400226593018, 4.182400226593018, 4.182400226593018, 4.182400226593018, 4.182400226593018, 4.182400226593018, 4.170899868011475, 4.170899868011475, 4.17080020904541, 4.17080020904541, 4.1707000732421875, 4.165800094604492, 4.161200046539307, 4.161099910736084, 4.160999774932861, -4.906499862670898, -4.917200088500977, -4.904900074005127, -4.540800094604492, -4.668099880218506, -4.7307000160217285, -4.5991997718811035, -4.383399963378906, -4.497499942779541, -4.245999813079834, -4.354300022125244, -4.302599906921387, -4.060100078582764, -4.463600158691406, -4.12470006942749, -4.2845001220703125, -3.904400110244751, -3.8469998836517334, -4.14900016784668, -4.170100212097168, -4.320400238037109, -3.910900115966797, -3.9697999954223633, -3.84660005569458, -3.9748001098632812, 4.190899848937988, 4.190800189971924, 4.1905999183654785, 4.190400123596191, 4.189499855041504, 4.189499855041504, 4.189499855041504, 4.189499855041504, 4.187600135803223, 4.187600135803223, 4.1875, 4.1875, 4.1875, 4.1875, 4.1875, 4.1875, 4.187399864196777, 4.187399864196777, 4.187399864196777, 4.187399864196777, 4.17579984664917, 4.17579984664917, 4.17579984664917, 4.17579984664917, 4.1757001876831055, 4.1707000732421875, 4.166100025177002, 4.166100025177002, 4.165999889373779, 4.165999889373779, -4.732800006866455, -4.926499843597412, -4.597099781036377, -4.950799942016602, -4.559999942779541, -4.683899879455566, -4.383699893951416, -4.96560001373291, -4.306700229644775, -4.1427001953125, -4.253200054168701, -4.287600040435791, -4.470799922943115, -4.51170015335083, -4.321599960327148, -4.3703999519348145, -4.0742998123168945, -4.136499881744385, -4.176599979400635, -3.824199914932251, -3.947700023651123, -3.974900007247925, -3.8570001125335693, -3.9042000770568848, -3.9807000160217285, -3.62719988822937, -4.035999774932861, -3.766700029373169, -3.6721999645233154, -4.059999942779541, 4.190999984741211, 4.190999984741211, 4.190700054168701, 4.190499782562256, 4.189700126647949, 4.189700126647949, 4.189700126647949, 4.189700126647949, 4.187699794769287, 4.187699794769287, 4.187699794769287, 4.187699794769287, 4.187699794769287, 4.187699794769287, 4.1875, 4.1875, 4.1875, 4.1875, 4.1875, 4.187399864196777, 4.176000118255615, 4.176000118255615, 4.175899982452393, 4.175899982452393, 4.17579984664917, 4.170899868011475, 4.166299819946289, 4.166200160980225, 4.166100025177002, 4.166100025177002, -4.678299903869629, -4.954400062561035, -4.938499927520752, -4.969099998474121, -4.622000217437744, -4.762800216674805, -4.26039981842041, -4.3694000244140625, -4.402200222015381, -4.581600189208984, -4.516300201416016, -4.476900100708008, -4.054299831390381, -4.296199798583984, -4.1803998947143555, -3.920300006866455, -4.141600131988525, -4.083700180053711, -4.328800201416016, -3.8617000579833984, -3.7683000564575195, -3.9082999229431152, -4.038700103759766, -3.954200029373169, -4.334499835968018, -4.16540002822876, -3.982100009918213, -3.857800006866455, -3.9860000610351562, -3.6521999835968018, 4.190999984741211, 4.190999984741211, 4.190700054168701, 4.190499782562256, 4.189599990844727, 4.189599990844727, 4.189599990844727, 4.189599990844727, 4.187699794769287, 4.187699794769287, 4.187699794769287, 4.187699794769287, 4.187699794769287, 4.187699794769287, 4.1875, 4.1875, 4.1875, 4.1875, 4.1875, 4.1875, 4.176000118255615, 4.176000118255615, 4.175899982452393, 4.175899982452393, 4.175899982452393, 4.17080020904541, 4.166200160980225, 4.166200160980225, 4.166100025177002, 4.166100025177002, -4.925600051879883, -4.9456000328063965, -4.958600044250488, -4.7581000328063965, -4.698200225830078, -4.365099906921387, -4.513599872589111, -4.580599784851074, -4.628600120544434, -4.294400215148926, -4.17549991607666, -4.137199878692627, -4.407800197601318, -4.328499794006348, -4.481900215148926, -4.057700157165527, -4.270100116729736, -3.9781999588012695, -3.9198999404907227, -3.9839000701904297, -4.085599899291992, -3.9245998859405518, -3.794800043106079, -3.8052000999450684, -3.9105000495910645, -4.041200160980225, -3.5755999088287354, -3.865299940109253, -4.332699775695801, -3.5114998817443848, 4.190999984741211, 4.190999984741211, 4.190700054168701, 4.190499782562256, 4.189599990844727, 4.189599990844727, 4.189599990844727, 4.189599990844727, 4.187699794769287, 4.187699794769287, 4.187699794769287, 4.187699794769287, 4.187600135803223, 4.187600135803223, 4.1875, 4.1875, 4.1875, 4.1875, 4.187399864196777, 4.187399864196777, 4.175899982452393, 4.175899982452393, 4.175899982452393, 4.175899982452393, 4.17579984664917, 4.17080020904541, 4.166200160980225, 4.166200160980225, 4.166100025177002, 4.166100025177002, -4.9593000411987305, -4.954899787902832, -4.941100120544434, -4.751500129699707, -4.691199779510498, -4.577499866485596, -4.513999938964844, -4.294000148773193, -4.052999973297119, -4.406199932098389, -4.323500156402588, -4.631700038909912, -4.480100154876709, -4.179500102996826, -4.377600193023682, -3.980600118637085, -4.082600116729736, -3.921999931335449, -3.802299976348877, -4.272600173950195, -3.8306000232696533, -3.9205000400543213, -3.793800115585327, -3.8564999103546143, -4.145299911499023, -3.9814000129699707, -4.335100173950195, -4.040500164031982, -3.910900115966797, -3.511899948120117, 4.190999984741211, 4.190999984741211, 4.190700054168701, 4.190499782562256, 4.189599990844727, 4.189599990844727, 4.189599990844727, 4.189599990844727, 4.187699794769287, 4.187699794769287, 4.187699794769287, 4.187699794769287, 4.187699794769287, 4.187699794769287, 4.1875, 4.1875, 4.1875, 4.1875, 4.1875, 4.1875, 4.176000118255615, 4.176000118255615, 4.175899982452393, 4.175899982452393, 4.17579984664917, 4.170899868011475, 4.166200160980225, 4.166200160980225, 4.166100025177002, 4.166100025177002, -4.956699848175049, -4.96619987487793, -4.504700183868408, -4.6956000328063965, -4.577300071716309, -4.62470006942749, -4.368800163269043, -4.956099987030029, -4.766300201416016, -4.3246002197265625, -4.265500068664551, -4.480400085449219, -4.2993998527526855, -4.160399913787842, -4.082200050354004, -4.181000232696533, -4.327700138092041, -4.1427001953125, -4.414400100708008, -3.863100051879883, -3.9816999435424805, -3.956199884414673, -4.041399955749512, -3.9235999584198, -3.9872000217437744, -3.6291000843048096, -3.807800054550171, -3.860599994659424, -3.6349000930786133, -3.8357999324798584, 4.190899848937988, 4.190899848937988, 4.190700054168701, 4.190499782562256, 4.189599990844727, 4.189599990844727, 4.189599990844727, 4.189599990844727, 4.187600135803223, 4.187600135803223, 4.187600135803223, 4.187600135803223, 4.187600135803223, 4.187600135803223, 4.1875, 4.1875, 4.187399864196777, 4.187399864196777, 4.187399864196777, 4.187399864196777, 4.175899982452393, 4.175899982452393, 4.175899982452393, 4.175899982452393, 4.17579984664917, 4.17080020904541, 4.166200160980225, 4.166200160980225, 4.166100025177002, 4.165999889373779, -4.942800045013428, -4.687099933624268, -4.940000057220459, -4.95959997177124, -4.758800029754639, -4.395999908447266, -4.574900150299072, -4.510300159454346, -4.368100166320801, -4.049300193786621, -4.474299907684326, -4.2947998046875, -4.63100004196167, -4.267000198364258, -4.32420015335083, -4.328800201416016, -4.159200191497803, -4.141499996185303, -3.9210000038146973, -3.853600025177002, -4.181399822235107, -3.9066998958587646, -4.0370001792907715, -3.982800006866455, -3.7932000160217285, -3.5820999145507812, -3.862299919128418, -3.8048999309539795, -3.631700038909912, -4.0868000984191895, 4.190999984741211, 4.190999984741211, 4.190800189971924, 4.1905999183654785, 4.189700126647949, 4.189700126647949, 4.189700126647949, 4.189700126647949, 4.18779993057251, 4.18779993057251, 4.187699794769287, 4.187699794769287, 4.187699794769287, 4.187699794769287, 4.187600135803223, 4.187600135803223, 4.187600135803223, 4.187600135803223, 4.1875, 4.1875, 4.176000118255615, 4.176000118255615, 4.176000118255615, 4.176000118255615, 4.175899982452393, 4.170899868011475, 4.166299819946289, 4.166299819946289, 4.166200160980225, 4.166200160980225, -4.972700119018555, -4.971199989318848, -4.9552001953125, -4.705900192260742, -4.516600131988525, -4.769499778747559, -4.632900238037109, -4.587800025939941, -4.325900077819824, -4.3796000480651855, -4.182300090789795, -4.037899971008301, -4.145599842071533, -4.487100124359131, -4.274899959564209, -4.304500102996826, -4.087500095367432, -4.336999893188477, -3.9121999740600586, -3.9839999675750732, -4.417500019073486, -3.925299882888794, -3.8083999156951904, -3.7985999584198, -3.8359999656677246, -3.989500045776367, -3.95989990234375, -3.6798999309539795, -3.7750000953674316, -4.067599773406982, 4.190999984741211, 4.190999984741211, 4.190800189971924, 4.190499782562256, 4.189700126647949, 4.189700126647949, 4.189700126647949, 4.189700126647949, 4.187699794769287, 4.187699794769287, 4.187699794769287, 4.187699794769287, 4.187699794769287, 4.187699794769287, 4.1875, 4.1875, 4.1875, 4.1875, 4.1875, 4.1875, 4.176000118255615, 4.176000118255615, 4.176000118255615, 4.176000118255615, 4.175899982452393, 4.170899868011475, 4.166299819946289, 4.166299819946289, 4.166200160980225, 4.166100025177002, -4.9583001136779785, -4.944300174713135, -4.754300117492676, -4.969099998474121, -4.697299957275391, -4.4745001792907715, -4.372099876403809, -4.5843000411987305, -4.519999980926514, -4.3282999992370605, -4.6346001625061035, -4.410799980163574, -4.082399845123291, -4.301499843597412, -4.037499904632568, -4.328800201416016, -4.183000087738037, -3.9235999584198, -4.146500110626221, -3.9862000942230225, -3.9560999870300293, -3.923099994659424, -3.8345999717712402, -3.5146000385284424, -3.5566000938415527, -4.067299842834473, -3.8096001148223877, -3.9149999618530273, -3.799999952316284, -3.6315999031066895], \"logprob\": [30.0, 29.0, 28.0, 27.0, 26.0, 25.0, 24.0, 23.0, 22.0, 21.0, 20.0, 19.0, 18.0, 17.0, 16.0, 15.0, 14.0, 13.0, 12.0, 11.0, 10.0, 9.0, 8.0, 7.0, 6.0, 5.0, 4.0, 3.0, 2.0, 1.0, -8.11299991607666, -8.597299575805664, -8.549099922180176, -8.027799606323242, -8.525899887084961, -8.64840030670166, -8.437899589538574, -8.702400207519531, -8.598099708557129, -8.675399780273438, -8.675399780273438, -8.70259952545166, -8.730799674987793, -8.731200218200684, -8.884099960327148, -8.676899909973145, -8.677000045776367, -8.917900085449219, -8.302499771118164, -8.70479965209961, -8.98900032043457, -8.821599960327148, -9.02649974822998, -9.02649974822998, -9.065600395202637, -9.027400016784668, -9.027099609375, -8.342499732971191, -8.484800338745117, -9.106100082397461, -6.631899833679199, -6.61870002746582, -4.7855000495910645, -7.451099872589111, -7.667200088500977, -8.627300262451172, -8.204899787902832, -8.627900123596191, -7.620999813079834, -8.2746000289917, -5.936999797821045, -7.1570000648498535, -5.636199951171875, -4.6184000968933105, -7.381400108337402, -5.90880012512207, -5.667399883270264, -5.561999797821045, -5.918600082397461, -4.7546000480651855, -5.688300132751465, -7.564599990844727, -7.855999946594238, -5.703499794006348, -5.738100051879883, -5.8734002113342285, -5.252799987792969, -6.230800151824951, -4.308800220489502, -4.304599761962891, -7.23330020904541, -4.522900104522705, -6.113900184631348, -6.803500175476074, -5.1184000968933105, -4.384099960327148, -6.317599773406982, -4.803500175476074, -5.011099815368652, -5.337800025939941, -5.682300090789795, -4.646699905395508, -4.731800079345703, -4.933899879455566, -5.38129997253418, -5.333000183105469, -5.030399799346924, -5.002900123596191, -5.396900177001953, -5.3043999671936035, -5.118100166320801, -5.4552998542785645, -5.2428998947143555, -5.3225998878479, -5.476399898529053, -5.2733001708984375, -5.349100112915039, -5.535600185394287, -5.556300163269043, -8.003700256347656, -8.185099601745605, -8.406800270080566, -8.470800399780273, -8.612600326538086, -8.612700462341309, -8.612700462341309, -8.612799644470215, -8.613200187683105, -8.480600357055664, -8.69320011138916, -8.615799903869629, -8.777899742126465, -8.777999877929688, -8.300600051879883, -8.872200012207031, -8.872200012207031, -8.872400283813477, -8.696100234985352, -8.874600410461426, -8.976200103759766, -8.976300239562988, -8.418600082397461, -8.977499961853027, -8.978500366210938, -9.092300415039062, -9.092300415039062, -9.092300415039062, -9.092300415039062, -9.092399597167969, -8.488100051879883, -8.14109992980957, -6.803500175476074, -8.984399795532227, -8.254199981689453, -8.514800071716309, -7.015399932861328, -7.547399997711182, -8.708800315856934, -5.350200176239014, -6.356200218200684, -5.000899791717529, -8.012200355529785, -5.388400077819824, -6.517300128936768, -5.235499858856201, -7.73360013961792, -4.8856000900268555, -5.841899871826172, -5.112400054931641, -5.932499885559082, -6.289100170135498, -5.869500160217285, -7.052800178527832, -5.5192999839782715, -5.033899784088135, -4.3790998458862305, -6.238999843597412, -4.652299880981445, -4.59660005569458, -5.76140022277832, -5.854899883270264, -4.864799976348877, -4.953700065612793, -5.588799953460693, -5.96560001373291, -5.479800224304199, -6.1265997886657715, -5.094200134277344, -4.987299919128418, -4.5559000968933105, -4.946100234985352, -4.570199966430664, -5.186299800872803, -4.8927998542785645, -5.361700057983398, -4.756100177764893, -5.501500129699707, -5.609499931335449, -5.6255998611450195, -5.172999858856201, -5.555699825286865, -5.334099769592285, -5.3308000564575195, -5.440199851989746, -5.498600006103516, -5.41540002822876, -5.0696001052856445, -5.369900226593018, -5.80679988861084, -6.056000232696533, -6.213399887084961, -6.383500099182129, -6.383500099182129, -6.383500099182129, -6.383500099182129, -6.383500099182129, -6.383800029754639, -6.3856000900268555, -6.6006999015808105, -6.6006999015808105, -6.6006999015808105, -6.6006999015808105, -6.60129976272583, -5.369699954986572, -6.878600120544434, -6.878600120544434, -6.878600120544434, -6.878600120544434, -6.878600120544434, -6.878600120544434, -6.878600120544434, -6.878600120544434, -6.8790998458862305, -6.879300117492676, -6.881999969482422, -5.5243000984191895, -4.729100227355957, -4.57480001449585, -5.036099910736084, -4.905600070953369, -5.946300029754639, -5.968500137329102, -5.88129997253418, -6.401899814605713, -5.935699939727783, -6.421599864959717, -6.099299907684326, -5.599699974060059, -6.178699970245361, -6.268899917602539, -6.422699928283691, -6.288700103759766, -5.367300033569336, -5.500699996948242, -5.874000072479248, -5.867000102996826, -5.918499946594238, -6.186100006103516, -6.221099853515625, -6.26170015335083, -6.264800071716309, -6.279200077056885, -5.372900009155273, -5.771699905395508, -5.6392998695373535, -6.167300224304199, -6.167399883270264, -6.167699813842773, -4.607800006866455, -6.445099830627441, -6.445199966430664, -6.445300102233887, -6.4456000328063965, -6.446800231933594, -6.470200061798096, -5.378399848937988, -6.831200122833252, -6.831200122833252, -6.831200122833252, -6.831200122833252, -6.831200122833252, -6.831200122833252, -6.831299781799316, -6.831299781799316, -6.831299781799316, -6.831299781799316, -6.831299781799316, -6.831299781799316, -6.831299781799316, -6.831299781799316, -6.831299781799316, -6.831299781799316, -4.528299808502197, -6.016499996185303, -6.445099830627441, -5.84689998626709, -5.726500034332275, -5.678500175476074, -5.947000026702881, -6.302299976348877, -6.454800128936768, -6.087200164794922, -6.563399791717529, -6.635900020599365, -6.689300060272217, -6.810200214385986, -5.330399990081787, -6.013599872589111, -6.286300182342529, -6.286399841308594, -6.286399841308594, -6.0447001457214355, -6.672500133514404, -6.672500133514404, -6.672500133514404, -6.672500133514404, -6.672500133514404, -6.672500133514404, -6.672500133514404, -6.672599792480469, -6.672599792480469, -6.672699928283691, -6.672900199890137, -6.673500061035156, -6.6732001304626465, -6.674200057983398, -6.694200038909912, -7.309700012207031, -7.309700012207031, -7.309700012207031, -7.309700012207031, -7.309700012207031, -7.309700012207031, -7.309700012207031, -7.309700012207031, -7.309700012207031, -7.309700012207031, -4.866499900817871, -4.605199813842773, -6.256499767303467, -6.684700012207031, -6.752799987792969, -6.9953999519348145, -6.901700019836426, -6.945300102233887, -6.573999881744385, -5.785399913787842, -6.002600193023682, -4.8480000495910645, -6.280399799346924, -6.2804999351501465, -6.280600070953369, -6.280700206756592, -6.666500091552734, -6.666600227355957, -6.666600227355957, -6.666600227355957, -6.666800022125244, -6.666800022125244, -6.667200088500977, -6.668600082397461, -6.673099994659424, -6.2855000495910645, -7.303699970245361, -7.303699970245361, -7.303699970245361, -7.303699970245361, -7.303699970245361, -7.303699970245361, -7.303699970245361, -7.303699970245361, -7.303699970245361, -7.303699970245361, -7.303800106048584, -7.303800106048584, -7.303800106048584, -5.5792999267578125, -6.019199848175049, -6.673900127410889, -6.673999786376953, -6.314499855041504, -6.321800231933594, -6.3242998123168945, -5.173600196838379, -6.36929988861084, -6.00540018081665, -6.537700176239014, -6.568399906158447, -6.540500164031982, -6.535600185394287, -6.535600185394287, -6.535600185394287, -6.535699844360352, -7.172900199890137, -7.172900199890137, -7.172900199890137, -7.172900199890137, -7.1809000968933105, -5.894199848175049, -9.392000198364258, -9.392000198364258, -9.392000198364258, -9.392000198364258, -9.392000198364258, -9.392000198364258, -9.392000198364258, -9.392000198364258, -9.391799926757812, -9.391900062561035, -9.392000198364258, -9.392000198364258, -9.392000198364258, -9.392000198364258, -9.392000198364258, -9.392000198364258, -9.392000198364258, -9.392000198364258, -9.392000198364258, -9.392000198364258, -6.632900238037109, -7.250999927520752, -7.276299953460693, -9.17650032043457, -9.213399887084961, -9.234100341796875, -9.253499984741211, -9.286600112915039, -9.292099952697754, -9.303299903869629, -9.296099662780762, -9.308500289916992, -9.309399604797363, -9.311400413513184, -9.318499565124512, -9.319700241088867, -9.320599555969238, -9.322500228881836, -9.322799682617188, -9.324199676513672, -7.168700218200684, -7.168700218200684, -7.168700218200684, -7.168700218200684, -7.168799877166748, -5.907299995422363, -6.595699787139893, -6.174300193786621, -7.35830020904541, -7.420899868011475, -9.387800216674805, -9.387800216674805, -9.387800216674805, -9.387800216674805, -9.387800216674805, -9.387800216674805, -9.387800216674805, -9.387800216674805, -9.387800216674805, -9.387800216674805, -9.387800216674805, -9.387800216674805, -9.387800216674805, -9.387800216674805, -9.387800216674805, -9.387800216674805, -9.387800216674805, -9.387800216674805, -9.387800216674805, -9.387800216674805, -9.315299987792969, -9.316800117492676, -9.319499969482422, -9.323399543762207, -9.327500343322754, -9.329000473022461, -9.329999923706055, -9.337200164794922, -9.341300010681152, -9.34179973602295, -9.342000007629395, -9.343099594116211, -9.346099853515625, -9.346799850463867, -9.349699974060059, -9.350600242614746, -9.351499557495117, -9.356100082397461, -9.356900215148926, -9.357199668884277, -7.164700031280518, -7.164700031280518, -7.164700031280518, -7.164700031280518, -7.164700031280518, -7.164700031280518, -6.214000225067139, -9.38379955291748, -9.38379955291748, -9.38379955291748, -9.38379955291748, -9.38379955291748, -9.38379955291748, -9.38379955291748, -9.38379955291748, -9.38379955291748, -9.38379955291748, -9.38379955291748, -9.38379955291748, -9.38379955291748, -9.38379955291748, -9.38379955291748, -9.38379955291748, -9.38379955291748, -9.38379955291748, -9.38379955291748, -9.38379955291748, -9.38379955291748, -9.38379955291748, -9.38379955291748, -7.973999977111816, -9.38379955291748, -9.286999702453613, -9.293100357055664, -9.30370044708252, -9.313899993896484, -9.321499824523926, -9.321800231933594, -9.322799682617188, -9.324199676513672, -9.324700355529785, -9.331500053405762, -9.33329963684082, -9.334099769592285, -9.334199905395508, -9.338800430297852, -9.338899612426758, -9.339599609375, -9.340499877929688, -9.343099594116211, -9.345399856567383, -9.345499992370605, -9.347000122070312, -9.349900245666504, -7.164599895477295, -7.164599895477295, -7.164599895477295, -7.164599895477295, -7.164599895477295, -7.164599895477295, -7.16480016708374, -7.172999858856201, -9.383700370788574, -9.383700370788574, -9.383700370788574, -9.383700370788574, -9.383700370788574, -9.383700370788574, -9.383700370788574, -9.383700370788574, -9.383700370788574, -9.383700370788574, -9.383700370788574, -9.383700370788574, -9.383700370788574, -9.383700370788574, -9.383700370788574, -9.383700370788574, -9.383700370788574, -9.383700370788574, -9.383700370788574, -9.383700370788574, -9.383700370788574, -9.383700370788574, -7.2042999267578125, -9.383700370788574, -9.323599815368652, -9.32960033416748, -9.35830020904541, -9.35890007019043, -9.293700218200684, -9.295599937438965, -9.308600425720215, -9.314499855041504, -9.317000389099121, -9.327799797058105, -9.32800006866455, -9.328900337219238, -9.331199645996094, -9.332200050354004, -9.3326997756958, -9.333999633789062, -9.33489990234375, -9.337300300598145, -9.337900161743164, -9.339400291442871, -9.341500282287598, -9.342000007629395, -9.34529972076416, -6.526299953460693, -7.163599967956543, -7.163599967956543, -7.163599967956543, -7.163599967956543, -7.163599967956543, -7.23390007019043, -9.382699966430664, -9.382699966430664, -9.382699966430664, -9.382699966430664, -9.382699966430664, -9.382699966430664, -9.382699966430664, -9.382699966430664, -9.382699966430664, -9.382699966430664, -9.382699966430664, -9.382699966430664, -9.382699966430664, -9.382699966430664, -9.382699966430664, -9.382699966430664, -9.382699966430664, -9.382699966430664, -9.382699966430664, -9.382699966430664, -9.382699966430664, -9.382699966430664, -9.382699966430664, -9.226400375366211, -9.34749984741211, -9.354299545288086, -9.306500434875488, -9.32859992980957, -9.34060001373291, -9.340900421142578, -9.344900131225586, -9.345399856567383, -9.345999717712402, -9.349100112915039, -9.350000381469727, -9.350099563598633, -9.350899696350098, -9.35159969329834, -9.353500366210938, -9.3548002243042, -9.35569953918457, -9.3572998046875, -9.358400344848633, -9.358799934387207, -9.360099792480469, -9.360199928283691, -6.139900207519531, -7.163300037384033, -7.163300037384033, -7.163400173187256, -7.163400173187256, -9.38230037689209, -9.38230037689209, -9.38230037689209, -9.38230037689209, -9.38230037689209, -9.38230037689209, -9.38230037689209, -9.38230037689209, -9.38230037689209, -9.38230037689209, -9.38230037689209, -9.38230037689209, -9.38230037689209, -9.38230037689209, -9.38230037689209, -9.38230037689209, -9.38230037689209, -9.38230037689209, -9.38230037689209, -9.38230037689209, -9.38230037689209, -9.382200241088867, -9.38230037689209, -9.38230037689209, -9.38230037689209, -9.278900146484375, -9.283699989318848, -9.295299530029297, -9.306099891662598, -9.309700012207031, -9.311400413513184, -9.319000244140625, -9.327199935913086, -9.32919979095459, -9.330100059509277, -9.3302001953125, -9.330400466918945, -9.332500457763672, -9.33530044555664, -9.337499618530273, -9.33899974822998, -9.341099739074707, -9.34220027923584, -9.342599868774414, -9.343999862670898, -9.344200134277344, -9.344900131225586, -9.346699714660645, -9.347999572753906, -9.348099708557129, -9.377300262451172, -9.377300262451172, -9.377300262451172, -9.377300262451172, -9.377300262451172, -9.377300262451172, -9.377300262451172, -9.377300262451172, -9.377300262451172, -9.377300262451172, -9.377300262451172, -9.377300262451172, -9.377300262451172, -9.377300262451172, -9.37720012664795, -9.37720012664795, -9.37720012664795, -9.37720012664795, -9.37720012664795, -9.377300262451172, -9.377300262451172, -9.377300262451172, -9.377300262451172, -9.377300262451172, -9.377300262451172, -9.377300262451172, -9.377300262451172, -9.377300262451172, -9.377300262451172, -9.377300262451172, -9.31350040435791, -9.316900253295898, -9.317000389099121, -9.3233003616333, -9.325300216674805, -9.325400352478027, -9.327500343322754, -9.332200050354004, -9.334500312805176, -9.336299896240234, -9.337300300598145, -9.34220027923584, -9.342399597167969, -9.343400001525879, -9.345399856567383, -9.346400260925293, -9.346599578857422, -9.349300384521484, -9.350500106811523, -9.350600242614746, -9.351200103759766, -9.351699829101562, -9.35219955444336, -9.352899551391602, -9.354100227355957, -9.354399681091309, -9.354700088500977, -9.355199813842773, -9.355799674987793, -9.355999946594238, -9.37720012664795, -9.37720012664795, -9.37720012664795, -9.37720012664795, -9.37720012664795, -9.37720012664795, -9.37720012664795, -9.37720012664795, -9.37720012664795, -9.37720012664795, -9.37720012664795, -9.37720012664795, -9.37720012664795, -9.37720012664795, -9.37720012664795, -9.37720012664795, -9.37720012664795, -9.37720012664795, -9.37720012664795, -9.37720012664795, -9.37720012664795, -9.37720012664795, -9.37720012664795, -9.37720012664795, -9.37720012664795, -9.37720012664795, -9.37720012664795, -9.37720012664795, -9.37720012664795, -9.37720012664795, -9.319899559020996, -9.320899963378906, -9.328900337219238, -9.341500282287598, -9.341899871826172, -9.343500137329102, -9.344499588012695, -9.345399856567383, -9.345999717712402, -9.347000122070312, -9.347999572753906, -9.34850025177002, -9.350299835205078, -9.350700378417969, -9.35420036315918, -9.354299545288086, -9.354399681091309, -9.356100082397461, -9.356499671936035, -9.356900215148926, -9.356900215148926, -9.356900215148926, -9.3572998046875, -9.35770034790039, -9.35830020904541, -9.359000205993652, -9.359000205993652, -9.359299659729004, -9.359399795532227, -9.359600067138672, -9.37720012664795, -9.37720012664795, -9.37720012664795, -9.37720012664795, -9.37720012664795, -9.37720012664795, -9.37720012664795, -9.37720012664795, -9.37720012664795, -9.37720012664795, -9.37720012664795, -9.37720012664795, -9.37720012664795, -9.37720012664795, -9.37720012664795, -9.37720012664795, -9.37720012664795, -9.37720012664795, -9.37720012664795, -9.37720012664795, -9.37720012664795, -9.37720012664795, -9.37720012664795, -9.37720012664795, -9.37720012664795, -9.37720012664795, -9.37720012664795, -9.37720012664795, -9.37720012664795, -9.37720012664795, -9.315999984741211, -9.317999839782715, -9.32509994506836, -9.338800430297852, -9.339799880981445, -9.341099739074707, -9.345199584960938, -9.34589958190918, -9.348400115966797, -9.348999977111816, -9.34939956665039, -9.350000381469727, -9.35159969329834, -9.352299690246582, -9.353599548339844, -9.353599548339844, -9.354100227355957, -9.35509967803955, -9.356599807739258, -9.357199668884277, -9.35789966583252, -9.358599662780762, -9.358699798583984, -9.359199523925781, -9.359199523925781, -9.359800338745117, -9.360199928283691, -9.360400199890137, -9.36050033569336, -9.361599922180176, -9.37720012664795, -9.37720012664795, -9.37720012664795, -9.37720012664795, -9.37720012664795, -9.37720012664795, -9.37720012664795, -9.37720012664795, -9.37720012664795, -9.37720012664795, -9.37720012664795, -9.37720012664795, -9.37720012664795, -9.37720012664795, -9.37720012664795, -9.37720012664795, -9.37720012664795, -9.37720012664795, -9.37720012664795, -9.37720012664795, -9.37720012664795, -9.37720012664795, -9.37720012664795, -9.37720012664795, -9.37720012664795, -9.37720012664795, -9.37720012664795, -9.37720012664795, -9.37720012664795, -9.37720012664795, -9.325900077819824, -9.327300071716309, -9.331500053405762, -9.332300186157227, -9.332799911499023, -9.34280014038086, -9.34570026397705, -9.348600387573242, -9.348899841308594, -9.350000381469727, -9.351200103759766, -9.351499557495117, -9.351799964904785, -9.353400230407715, -9.353500366210938, -9.353899955749512, -9.354999542236328, -9.355999946594238, -9.356300354003906, -9.35669994354248, -9.357000350952148, -9.357199668884277, -9.35770034790039, -9.357999801635742, -9.358099937438965, -9.35830020904541, -9.35890007019043, -9.359100341796875, -9.35949993133545, -9.360199928283691, -9.37720012664795, -9.37720012664795, -9.37720012664795, -9.37720012664795, -9.37720012664795, -9.37720012664795, -9.37720012664795, -9.37720012664795, -9.37720012664795, -9.37720012664795, -9.37720012664795, -9.37720012664795, -9.37720012664795, -9.37720012664795, -9.37720012664795, -9.37720012664795, -9.37720012664795, -9.37720012664795, -9.37720012664795, -9.37720012664795, -9.37720012664795, -9.37720012664795, -9.37720012664795, -9.37720012664795, -9.37720012664795, -9.37720012664795, -9.37720012664795, -9.37720012664795, -9.37720012664795, -9.37720012664795, -9.329099655151367, -9.3326997756958, -9.336400032043457, -9.3371000289917, -9.342599868774414, -9.344599723815918, -9.344799995422363, -9.346500396728516, -9.347000122070312, -9.348400115966797, -9.349499702453613, -9.35200023651123, -9.353899955749512, -9.354000091552734, -9.354599952697754, -9.3548002243042, -9.355400085449219, -9.355500221252441, -9.358200073242188, -9.358200073242188, -9.358599662780762, -9.359700202941895, -9.359999656677246, -9.360300064086914, -9.36050033569336, -9.361499786376953, -9.361800193786621, -9.362099647521973, -9.362099647521973, -9.362199783325195, -9.37720012664795, -9.37720012664795, -9.37720012664795, -9.37720012664795, -9.37720012664795, -9.37720012664795, -9.37720012664795, -9.37720012664795, -9.37720012664795, -9.37720012664795, -9.37720012664795, -9.37720012664795, -9.37720012664795, -9.37720012664795, -9.37720012664795, -9.37720012664795, -9.37720012664795, -9.37720012664795, -9.37720012664795, -9.37720012664795, -9.37720012664795, -9.37720012664795, -9.37720012664795, -9.37720012664795, -9.37720012664795, -9.37720012664795, -9.37720012664795, -9.37720012664795, -9.37720012664795, -9.37720012664795, -9.309300422668457, -9.32859992980957, -9.330400466918945, -9.331999778747559, -9.339500427246094, -9.339799880981445, -9.340200424194336, -9.341899871826172, -9.344099998474121, -9.34529972076416, -9.34589958190918, -9.349300384521484, -9.350799560546875, -9.35099983215332, -9.35200023651123, -9.35260009765625, -9.352800369262695, -9.354299545288086, -9.354999542236328, -9.354999542236328, -9.355299949645996, -9.355400085449219, -9.355600357055664, -9.356100082397461, -9.357000350952148, -9.357099533081055, -9.357500076293945, -9.358799934387207, -9.35890007019043, -9.359199523925781, -9.377099990844727, -9.377099990844727, -9.377099990844727, -9.377099990844727, -9.377099990844727, -9.377099990844727, -9.377099990844727, -9.377099990844727, -9.377099990844727, -9.377099990844727, -9.377099990844727, -9.377099990844727, -9.377099990844727, -9.377099990844727, -9.377099990844727, -9.377099990844727, -9.377099990844727, -9.377099990844727, -9.377099990844727, -9.377099990844727, -9.377099990844727, -9.377099990844727, -9.377099990844727, -9.377099990844727, -9.377099990844727, -9.377099990844727, -9.377099990844727, -9.377099990844727, -9.377099990844727, -9.377099990844727, -9.339200019836426, -9.343700408935547, -9.345600128173828, -9.34749984741211, -9.348199844360352, -9.350199699401855, -9.352800369262695, -9.353099822998047, -9.353699684143066, -9.355600357055664, -9.356200218200684, -9.356499671936035, -9.358400344848633, -9.358799934387207, -9.35890007019043, -9.359100341796875, -9.35990047454834, -9.360799789428711, -9.360899925231934, -9.360899925231934, -9.361300468444824, -9.362000465393066, -9.36240005493164, -9.36240005493164, -9.36240005493164, -9.362799644470215, -9.363499641418457, -9.363499641418457, -9.363499641418457, -9.36359977722168, -9.37720012664795, -9.37720012664795, -9.37720012664795, -9.37720012664795, -9.37720012664795, -9.37720012664795, -9.37720012664795, -9.37720012664795, -9.37720012664795, -9.37720012664795, -9.37720012664795, -9.37720012664795, -9.37720012664795, -9.37720012664795, -9.37720012664795, -9.37720012664795, -9.37720012664795, -9.37720012664795, -9.37720012664795, -9.37720012664795, -9.37720012664795, -9.37720012664795, -9.37720012664795, -9.37720012664795, -9.37720012664795, -9.37720012664795, -9.37720012664795, -9.37720012664795, -9.37720012664795, -9.37720012664795, -9.330699920654297, -9.334699630737305, -9.335000038146973, -9.335599899291992, -9.338899612426758, -9.346199989318848, -9.348099708557129, -9.349599838256836, -9.35159969329834, -9.352100372314453, -9.354499816894531, -9.354599952697754, -9.3548002243042, -9.356100082397461, -9.356100082397461, -9.356499671936035, -9.356800079345703, -9.357600212097168, -9.359299659729004, -9.35949993133545, -9.359600067138672, -9.359800338745117, -9.361000061035156, -9.362899780273438, -9.36299991607666, -9.363200187683105, -9.363499641418457, -9.36359977722168, -9.363900184631348, -9.36400032043457]}, \"token.table\": {\"Topic\": [1, 2, 6, 1, 3, 1, 1, 2, 1, 2, 2, 3, 1, 2, 3, 1, 1, 1, 3, 2, 4, 1, 2, 3, 1, 2, 3, 1, 2, 3, 1, 2, 1, 2, 3, 1, 2, 1, 2, 1, 2, 1, 2, 1, 2, 3, 3, 1, 4, 1, 5, 2, 3, 3, 1, 2, 2, 2, 4, 4, 1, 2, 2, 1, 4, 1, 2, 1, 2, 1, 1, 2, 3, 1, 2, 2, 3, 1, 2, 1, 2, 3, 3, 1, 2, 3, 1, 2, 3, 1, 2, 4, 2, 1, 2, 3, 3, 1, 4, 1, 4, 1, 2, 1, 2, 1, 2, 5, 2, 1, 4, 2, 2, 1, 2, 3, 1, 3, 4, 3, 4, 1, 2, 1, 2, 1, 2, 3, 4, 1, 2, 3, 3, 1, 2, 1, 2, 2, 1, 1, 2, 1, 2, 3, 1, 2, 3, 1, 2, 1, 2, 3, 1, 2, 3, 1, 2, 3, 2, 1, 1, 2, 3, 1, 2, 3, 2, 1, 3, 1, 2, 3, 4, 4, 1, 2, 3, 1, 2, 4, 4, 2, 6, 3, 3, 1, 2, 3, 1, 2, 3, 1, 2, 3, 3, 1, 2, 3, 2, 5, 1, 1, 3, 1, 3, 3, 1, 4, 1, 2, 3, 2, 4, 1, 3, 1, 2, 3, 1, 2, 1, 1, 3, 4, 1, 2, 1, 4, 1, 2, 3, 3, 1, 4, 1, 3, 1, 1, 4, 1, 2, 1, 1, 1, 2, 2, 1, 2, 1, 4, 1, 2, 3, 1, 2, 1, 2, 3, 1, 2, 3, 4, 2, 2, 6, 1, 6, 1, 2, 3, 3, 1, 3, 4, 4, 1, 4, 1, 2, 3, 4, 1, 2, 2, 6, 2, 4, 2, 1, 2, 1, 2, 1, 1, 2, 3, 1, 3, 1, 4, 4, 1, 1, 2, 3, 1, 1, 1, 4, 1, 2, 3, 1, 2, 3, 1, 1, 1, 2, 3, 1, 2, 1, 4, 1, 1, 1, 1, 2, 1, 2, 3, 1, 3, 5, 1, 3, 1, 2, 1, 2, 3, 2, 1, 2, 3, 4, 1, 2, 1, 1, 1, 2, 3, 1, 1, 2, 1, 2, 1, 1, 2, 1, 2, 3, 1, 2, 1, 4, 1, 2, 2, 1, 3, 1, 2, 2, 2, 1, 1, 1, 2, 3, 1, 1, 1, 2, 4, 1, 2, 3, 1, 2, 3, 2, 1, 2, 1, 2, 1, 1, 1, 3, 1, 2, 3, 1, 1, 4, 3, 1, 3, 1, 3, 2, 4, 1, 2, 3, 1, 2, 2, 1, 2, 4, 6, 2, 4, 2, 6, 1, 2, 3, 1, 1, 2, 3, 1, 2, 1, 1, 1, 2, 3, 4, 1, 2, 3, 1, 2, 3, 1, 2, 3, 1, 2, 1, 1, 1, 2, 3, 3, 1, 4, 1, 2, 1, 4, 1, 2, 3, 3, 2, 2, 1, 2, 3, 2, 1, 2, 3, 1, 2, 3, 1, 2, 3, 1, 2, 3, 3, 1, 2, 1, 2, 3, 5, 4], \"Freq\": [0.2632226347923279, 0.6580565571784973, 0.13161131739616394, 0.15297304093837738, 0.7648652195930481, 0.9819535613059998, 0.9883076548576355, 0.013678998686373234, 0.17877843976020813, 0.7866250872612, 0.9611349105834961, 0.06865249574184418, 0.7384480237960815, 0.259708434343338, 0.0020860114600509405, 0.9179025292396545, 0.98598313331604, 0.2756257951259613, 0.5512515902519226, 0.6118762493133545, 0.30593812465667725, 0.6855584383010864, 0.31256091594696045, 0.0012209410779178143, 0.6709398031234741, 0.32783645391464233, 0.0008035207283683121, 0.7321427464485168, 0.2672990560531616, 0.0011160712456330657, 0.8845292329788208, 0.11563252657651901, 0.25653576850891113, 0.17102384567260742, 0.5558274984359741, 0.612331748008728, 0.9537719488143921, 0.9008570313453674, 0.09941545873880386, 0.8942853212356567, 0.10514054447412491, 0.7767995595932007, 0.22278983891010284, 0.6589675545692444, 0.340891569852829, 0.001342092757113278, 0.9352520108222961, 0.8394640684127808, 0.27982133626937866, 0.7679302096366882, 0.21940863132476807, 0.1367393434047699, 0.8204361200332642, 0.6057472825050354, 0.9788824915885925, 1.0245916843414307, 0.9346053004264832, 0.9219543933868408, 0.7052803635597229, 0.8655113577842712, 1.0017486810684204, 1.024600863456726, 0.9845622777938843, 0.9836468696594238, 1.1223796606063843, 0.9659460186958313, 0.02055204287171364, 0.11680727452039719, 0.8760545253753662, 0.9798620939254761, 0.8025281429290771, 0.19666831195354462, 0.0006746768485754728, 0.9825670719146729, 0.015473497100174427, 0.9193857312202454, 0.08358052372932434, 0.305415540933609, 0.610831081867218, 0.6182301640510559, 0.37572571635246277, 0.006244748830795288, 0.9614173769950867, 0.9811634421348572, 0.9918285012245178, 0.605660617351532, 0.7882936000823975, 0.21143734455108643, 0.0011491160839796066, 0.45289188623428345, 0.5456528663635254, 1.1224989891052246, 0.9540045261383057, 0.9072039127349854, 0.09300746023654938, 0.6056498289108276, 0.6056438088417053, 0.26449424028396606, 0.5289884805679321, 0.6264534592628479, 0.31322672963142395, 0.8733175992965698, 0.1260458379983902, 0.9361364245414734, 0.10401516407728195, 0.8770361542701721, 0.1225447803735733, 0.947597086429596, 0.9345899224281311, 0.7019326090812683, 0.17548315227031708, 1.0151326656341553, 0.9733272790908813, 0.7013004422187805, 0.2977663576602936, 0.0006736795767210424, 0.2801420986652374, 0.5602841973304749, 1.1224313974380493, 0.6052141189575195, 1.1224970817565918, 0.58583003282547, 0.41287070512771606, 0.7626727223396301, 0.6894814968109131, 0.5567665100097656, 0.43745940923690796, 0.0033140864688903093, 0.8701820373535156, 0.6255027055740356, 0.36501938104629517, 0.008568529970943928, 0.6056174039840698, 0.5772488713264465, 0.42237719893455505, 0.9822197556495667, 0.020113714039325714, 1.0151344537734985, 0.9784857034683228, 0.047371216118335724, 0.9474243521690369, 0.7912558317184448, 0.20791031420230865, 0.0007478788611479104, 0.4204169511795044, 0.5768511295318604, 0.004888569004833698, 0.5312555432319641, 0.4680992662906647, 0.7910516262054443, 0.20805741846561432, 0.000541816174518317, 0.6051748991012573, 0.3929120600223541, 0.002258115215227008, 0.6189672946929932, 0.377608984708786, 0.001946437987498939, 0.95396488904953, 0.9108514785766602, 0.9867878556251526, 0.01762121170759201, 0.7970255017280579, 0.7683376669883728, 0.23071296513080597, 0.0007055442547425628, 0.953985333442688, 0.986784815788269, 0.888558566570282, 0.7017263174057007, 0.2940668761730194, 0.004246452823281288, 1.1223444938659668, 1.1223845481872559, 0.5977173447608948, 0.4012647867202759, 0.0020899209193885326, 0.583774209022522, 0.4151751697063446, 1.0282658338546753, 0.7046005725860596, 0.9399104714393616, 0.05221724882721901, 0.7970316410064697, 0.941035270690918, 0.7535629272460938, 0.24521267414093018, 0.0010754942195490003, 0.977931797504425, 1.0202659368515015, 0.9608026146888733, 0.786304771900177, 0.21300703287124634, 0.0007918477058410645, 0.6033985018730164, 0.8088061809539795, 0.1904880702495575, 0.0007680970593355596, 0.652272641658783, 0.3261363208293915, 0.9106854796409607, 0.695471465587616, 0.2781885862350464, 0.4310952425003052, 0.4310952425003052, 0.795085608959198, 0.6937289834022522, 0.3468644917011261, 0.06286225467920303, 0.25144901871681213, 0.6914847493171692, 1.0037113428115845, 1.1224279403686523, 0.7551932334899902, 0.21576949954032898, 0.8771696090698242, 0.12252786010503769, 0.0004057213955093175, 0.9509289860725403, 0.04195275157690048, 0.9827064275741577, 0.6748137474060059, 0.33740687370300293, 0.8660324811935425, 0.8162693977355957, 0.18305355310440063, 0.9822080731391907, 1.122497797012329, 0.06148981675505638, 0.3689388930797577, 0.614898145198822, 0.946130096912384, 0.9554276466369629, 1.122480869293213, 0.9826120138168335, 0.9614181518554688, 0.5315888524055481, 0.687171459197998, 1.1224827766418457, 0.9869889616966248, 0.016449816524982452, 0.9784627556800842, 0.9824091196060181, 0.8780638575553894, 0.12003910541534424, 0.968308687210083, 0.1767338365316391, 0.8292895555496216, 0.906589150428772, 0.10073212534189224, 0.9609631896018982, 0.03835446387529373, 0.0005254035932011902, 0.9722498059272766, 0.02725933864712715, 0.7648733258247375, 0.23377865552902222, 0.0009700359078124166, 0.6431573629379272, 0.3534117341041565, 0.0025986155960708857, 0.8660677075386047, 1.0197833776474, 0.32616013288497925, 0.6523202657699585, 0.5098124146461487, 0.5098124146461487, 0.7818640470504761, 0.21718445420265198, 0.0009241891675628722, 0.6056418418884277, 0.9988371729850769, 0.8130702376365662, 0.8633289933204651, 0.705021858215332, 0.9790256023406982, 0.8287808895111084, 0.7372661232948303, 0.2619498670101166, 0.000500860158354044, 0.6315077543258667, 0.9319395422935486, 0.06771878898143768, 0.6894068121910095, 0.34470340609550476, 1.0151504278182983, 1.1224043369293213, 1.0203754901885986, 0.7878788113594055, 0.2112794667482376, 0.8796220421791077, 0.12085458636283875, 0.9872284531593323, 0.2713577151298523, 0.7400664687156677, 0.6056197285652161, 0.5069525241851807, 0.3802143931388855, 0.340901643037796, 0.340901643037796, 1.1223222017288208, 0.8343852162361145, 0.8986384868621826, 0.10008038580417633, 0.9613907337188721, 0.8667328357696533, 0.8909131288528442, 0.5056000351905823, 0.5056000351905823, 0.7553471326828003, 0.24422186613082886, 0.0005274770082905889, 0.8196117877960205, 0.1785411685705185, 0.0011982627911493182, 0.8876992464065552, 0.8873341083526611, 0.8515059351921082, 0.1480095088481903, 0.00045124851749278605, 0.9593574404716492, 0.03927193954586983, 0.7949357032775879, 0.2649785876274109, 0.984499990940094, 0.9826109409332275, 0.7350340485572815, 0.5298182368278503, 0.7003344297409058, 0.6553404331207275, 0.3608056306838989, 0.5772889852523804, 0.2034512460231781, 0.6103537082672119, 1.0568698644638062, 0.9284098744392395, 0.6056199073791504, 0.9072248339653015, 0.9539369940757751, 0.14281527698040009, 0.8568916320800781, 0.7967835664749146, 1.0247381925582886, 0.7482367157936096, 0.25083374977111816, 0.0007753748213872313, 1.1224024295806885, 0.9106125831604004, 0.8466094136238098, 0.7725714445114136, 0.9832609295845032, 0.6770391464233398, 0.32015031576156616, 0.0013120913645252585, 0.6340847015380859, 0.9825049042701721, 0.9733505845069885, 0.9833124876022339, 0.9449901580810547, 0.9785140156745911, 0.7340337634086609, 0.26550155878067017, 0.734987735748291, 0.26403704285621643, 0.0012694088509306312, 0.9126443266868591, 0.08647333830595016, 0.9838542342185974, 1.1224898099899292, 0.40439707040786743, 0.5964856743812561, 0.9742290377616882, 0.983468770980835, 0.605624258518219, 0.8307307958602905, 0.16815060377120972, 0.5825906991958618, 0.944809079170227, 0.9846311211585999, 0.9825118184089661, 0.5748140811920166, 0.4222567677497864, 0.002724237274378538, 0.977341890335083, 0.9831750988960266, 0.3082335591316223, 0.6164671182632446, 0.05137225612998009, 0.805712878704071, 0.1938721090555191, 0.0002722922945395112, 0.797055721282959, 0.20286507904529572, 0.001200385158881545, 1.0209532976150513, 0.9356956481933594, 0.05922124534845352, 0.7001753449440002, 0.2987718880176544, 0.9822959899902344, 0.9803068041801453, 0.19936826825141907, 0.5981047749519348, 0.601883053779602, 0.3969127833843231, 0.0017370361601933837, 0.537151038646698, 0.6991114020347595, 0.23303714394569397, 0.7969940900802612, 0.3562449812889099, 0.7124899625778198, 0.9395959377288818, 0.055270347744226456, 0.9671762585639954, 1.1223962306976318, 0.7621506452560425, 0.23703916370868683, 0.0008366088150069118, 0.967487096786499, 0.03414660319685936, 1.015103816986084, 0.9585750102996826, 0.04204276576638222, 1.122429370880127, 1.1171560287475586, 0.2887718677520752, 0.721929669380188, 0.622518002986908, 0.9725802540779114, 0.8540257811546326, 0.14531852304935455, 0.0007452231948263943, 0.9848465919494629, 0.36279991269111633, 0.483733206987381, 0.1511666178703308, 0.8899310827255249, 0.10992022603750229, 0.8665690422058105, 0.9820544123649597, 0.8071901202201843, 0.1922794133424759, 0.0005478046368807554, 0.73111891746521, 0.5208237767219543, 0.47374364733695984, 0.005885014310479164, 0.7835729122161865, 0.21545715630054474, 0.0010163072729483247, 0.8003319501876831, 0.199289008975029, 0.0007939800852909684, 0.9109700322151184, 0.08622349798679352, 0.926787257194519, 0.9085380434989929, 0.7373448610305786, 0.2614159882068634, 0.0006897519924677908, 0.7970277070999146, 0.8165462017059326, 0.27218207716941833, 0.8826451301574707, 0.11606210470199585, 0.8282508254051208, 0.2070627063512802, 0.4707188308238983, 0.11767970770597458, 0.3530391454696655, 1.0110020637512207, 1.01513671875, 1.0203665494918823, 0.6800851821899414, 0.318228542804718, 0.0012831796193495393, 0.9539890885353088, 0.7790793776512146, 0.22067412734031677, 0.00043354445369914174, 0.7132960557937622, 0.283890038728714, 0.00178547203540802, 0.7790203094482422, 0.22000110149383545, 0.0009016438852995634, 0.680192232131958, 0.3181725740432739, 0.0011242846958339214, 0.9614224433898926, 0.7726503014564514, 0.2273128777742386, 0.9895378351211548, 0.0096071632578969, 0.7970594763755798, 0.66949462890625, 0.8662497997283936], \"Term\": [\"abundant\", \"abundant\", \"abundant\", \"aegean\", \"aegean\", \"africa\", \"agent\", \"agent\", \"airbridge\", \"airbridge\", \"aisle\", \"aisle\", \"also\", \"also\", \"also\", \"ambiance\", \"america\", \"ana\", \"ana\", \"appalled\", \"appalled\", \"area\", \"area\", \"area\", \"arrival\", \"arrival\", \"arrival\", \"arrive\", \"arrive\", \"arrive\", \"ask\", \"ask\", \"athen\", \"athen\", \"athen\", \"attest\", \"austrian\", \"avoid\", \"avoid\", \"bad\", \"bad\", \"bag\", \"bag\", \"baggage\", \"baggage\", \"baggage\", \"bahrain\", \"banana\", \"banana\", \"bangalore\", \"bangalore\", \"barajas\", \"barajas\", \"bart\", \"battery\", \"boom\", \"border_force\", \"bradley\", \"briefcase\", \"brummie\", \"brussel\", \"burger_k\", \"buss\", \"canadian\", \"candle\", \"capital\", \"capital\", \"car_park\", \"car_park\", \"charles_de\", \"check\", \"check\", \"check\", \"checkpoint\", \"checkpoint\", \"christchurch\", \"christchurch\", \"cinema\", \"cinema\", \"clean\", \"clean\", \"clean\", \"clinic\", \"clue\", \"cologne\", \"colorado\", \"come\", \"come\", \"come\", \"comfortable\", \"comfortable\", \"confiscation\", \"congested\", \"connect\", \"connect\", \"connecting\", \"cooler\", \"copa\", \"copa\", \"corfu\", \"corfu\", \"counter\", \"counter\", \"cuisine\", \"cuisine\", \"custom\", \"custom\", \"cz\", \"daa\", \"dad\", \"dad\", \"daylight\", \"denmark\", \"departure\", \"departure\", \"departure\", \"dia\", \"dia\", \"dig\", \"dirham\", \"domino\", \"drop\", \"drop\", \"durban\", \"durham\", \"duty_free\", \"duty_free\", \"duty_free\", \"east_midland\", \"easy\", \"easy\", \"easy\", \"eec\", \"efficient\", \"efficient\", \"employee\", \"employee\", \"enquiry\", \"esta\", \"etihad\", \"etihad\", \"even\", \"even\", \"even\", \"excellent\", \"excellent\", \"excellent\", \"expensive\", \"expensive\", \"experience\", \"experience\", \"experience\", \"facility\", \"facility\", \"facility\", \"fast\", \"fast\", \"fast\", \"ferry\", \"fetch\", \"figure\", \"figure\", \"film\", \"find\", \"find\", \"find\", \"finnish\", \"fix\", \"flydubai\", \"food\", \"food\", \"food\", \"foolishly\", \"footwear\", \"free\", \"free\", \"free\", \"friendly\", \"friendly\", \"frontier\", \"fuerteventura\", \"garden\", \"garden\", \"gardermoen\", \"garuda\", \"gate\", \"gate\", \"gate\", \"gaulle\", \"gauntlet\", \"gcc\", \"get\", \"get\", \"get\", \"gla\", \"go\", \"go\", \"go\", \"gold_coast\", \"gold_coast\", \"greasy\", \"greece\", \"greece\", \"greek\", \"greek\", \"gulf\", \"halifax\", \"halifax\", \"haneda\", \"haneda\", \"haneda\", \"hanoi\", \"heinous\", \"helper\", \"helper\", \"hour\", \"hour\", \"hour\", \"hundred\", \"hundred\", \"iah\", \"iberia\", \"iberia\", \"ikea\", \"immigration\", \"immigration\", \"incheon\", \"indignity\", \"indonesia\", \"indonesia\", \"indonesia\", \"indonesian\", \"inexplicably\", \"institute\", \"ipad\", \"iso\", \"jazz\", \"jeddah\", \"jose\", \"jump\", \"jump\", \"korean\", \"lazy\", \"least\", \"least\", \"lgw\", \"lhr\", \"lhr\", \"lighter\", \"lighter\", \"line\", \"line\", \"line\", \"literally\", \"literally\", \"long\", \"long\", \"long\", \"lounge\", \"lounge\", \"lounge\", \"lyft\", \"making\", \"malta\", \"malta\", \"mandarin\", \"mandarin\", \"many\", \"many\", \"many\", \"marrakesh\", \"materialise\", \"measly\", \"medic\", \"menorca\", \"mexico\", \"midland\", \"minute\", \"minute\", \"minute\", \"misdirect\", \"miss\", \"miss\", \"mrt\", \"mrt\", \"mtr\", \"mysterious\", \"nail\", \"need\", \"need\", \"never\", \"never\", \"new_york\", \"new_zealand\", \"new_zealand\", \"nok\", \"norway\", \"norway\", \"oakland\", \"oakland\", \"ocs\", \"oddly\", \"officer\", \"officer\", \"osl\", \"outline\", \"palm\", \"panama\", \"panama\", \"passenger\", \"passenger\", \"passenger\", \"passport_control\", \"passport_control\", \"passport_control\", \"pavement\", \"peacefully\", \"people\", \"people\", \"people\", \"personnel\", \"personnel\", \"phoenix\", \"phoenix\", \"piece\", \"pocket\", \"pollution\", \"pond\", \"pool\", \"porto\", \"portugal\", \"portugal\", \"portuguese\", \"portuguese\", \"powerbank\", \"praise\", \"prepay\", \"provision\", \"purple\", \"qanta\", \"qanta\", \"qf\", \"quarantine\", \"queue\", \"queue\", \"queue\", \"quid\", \"quietly\", \"raleigh\", \"rdu\", \"realize\", \"really\", \"really\", \"really\", \"reassign\", \"rebook\", \"recognise\", \"report\", \"resort\", \"responsibility\", \"return\", \"return\", \"review\", \"review\", \"review\", \"rude\", \"rude\", \"rudeness\", \"rum\", \"runway\", \"runway\", \"russian\", \"satellite\", \"saudi\", \"say\", \"say\", \"scary\", \"scatter\", \"schipol\", \"scream\", \"seat\", \"seat\", \"seat\", \"seatac\", \"seattle\", \"secondary\", \"secondary\", \"secondary\", \"security\", \"security\", \"security\", \"see\", \"see\", \"see\", \"self_serve\", \"send\", \"send\", \"service\", \"service\", \"shanghai\", \"shanghai_pudong\", \"shed\", \"shed\", \"shop\", \"shop\", \"shop\", \"silk\", \"sky_harbor\", \"sky_harbor\", \"smartgate\", \"soekarno_hatta\", \"soekarno_hatta\", \"spanish\", \"spanish\", \"sq\", \"squat\", \"staff\", \"staff\", \"staff\", \"stamp\", \"stamp\", \"stansted\", \"suppose\", \"suppose\", \"swallowed\", \"swimming\", \"swissport\", \"swissport\", \"syd\", \"taiwanese\", \"take\", \"take\", \"take\", \"takes_forev\", \"tap\", \"tap\", \"tap\", \"tell\", \"tell\", \"theatre\", \"thousand\", \"time\", \"time\", \"time\", \"tocuman\", \"toilet\", \"toilet\", \"toilet\", \"transit\", \"transit\", \"transit\", \"travel\", \"travel\", \"travel\", \"traveler\", \"traveler\", \"tree\", \"trend\", \"trip\", \"trip\", \"trip\", \"tromso\", \"trudeau\", \"trudeau\", \"try\", \"try\", \"tweezer\", \"tweezer\", \"uae\", \"uae\", \"uae\", \"ultimate\", \"undertake\", \"urgently\", \"use\", \"use\", \"use\", \"vantaa\", \"wait\", \"wait\", \"wait\", \"walk\", \"walk\", \"walk\", \"way\", \"way\", \"way\", \"well\", \"well\", \"well\", \"wood\", \"work\", \"work\", \"yell\", \"yell\", \"yen\", \"yuan\", \"yul\"]}, \"R\": 30, \"lambda.step\": 0.01, \"plot.opts\": {\"xlab\": \"PC1\", \"ylab\": \"PC2\"}, \"topic.order\": [3, 15, 16, 20, 14, 8, 17, 6, 18, 11, 2, 4, 19, 12, 7, 5, 9, 1, 13, 10]};\n",
       "\n",
       "function LDAvis_load_lib(url, callback){\n",
       "  var s = document.createElement('script');\n",
       "  s.src = url;\n",
       "  s.async = true;\n",
       "  s.onreadystatechange = s.onload = callback;\n",
       "  s.onerror = function(){console.warn(\"failed to load library \" + url);};\n",
       "  document.getElementsByTagName(\"head\")[0].appendChild(s);\n",
       "}\n",
       "\n",
       "if(typeof(LDAvis) !== \"undefined\"){\n",
       "   // already loaded: just create the visualization\n",
       "   !function(LDAvis){\n",
       "       new LDAvis(\"#\" + \"ldavis_el431223650820882162729940773\", ldavis_el431223650820882162729940773_data);\n",
       "   }(LDAvis);\n",
       "}else if(typeof define === \"function\" && define.amd){\n",
       "   // require.js is available: use it to load d3/LDAvis\n",
       "   require.config({paths: {d3: \"https://cdnjs.cloudflare.com/ajax/libs/d3/3.5.5/d3.min\"}});\n",
       "   require([\"d3\"], function(d3){\n",
       "      window.d3 = d3;\n",
       "      LDAvis_load_lib(\"https://cdn.rawgit.com/bmabey/pyLDAvis/files/ldavis.v1.0.0.js\", function(){\n",
       "        new LDAvis(\"#\" + \"ldavis_el431223650820882162729940773\", ldavis_el431223650820882162729940773_data);\n",
       "      });\n",
       "    });\n",
       "}else{\n",
       "    // require.js not available: dynamically load d3 & LDAvis\n",
       "    LDAvis_load_lib(\"https://cdnjs.cloudflare.com/ajax/libs/d3/3.5.5/d3.min.js\", function(){\n",
       "         LDAvis_load_lib(\"https://cdn.rawgit.com/bmabey/pyLDAvis/files/ldavis.v1.0.0.js\", function(){\n",
       "                 new LDAvis(\"#\" + \"ldavis_el431223650820882162729940773\", ldavis_el431223650820882162729940773_data);\n",
       "            })\n",
       "         });\n",
       "}\n",
       "</script>"
      ],
      "text/plain": [
       "PreparedData(topic_coordinates=              x         y  topics  cluster       Freq\n",
       "topic                                                \n",
       "2      0.349874  0.029549       1        1  75.734550\n",
       "14     0.351052 -0.002318       2        1  23.443369\n",
       "15     0.028741 -0.131078       3        1   0.449715\n",
       "19    -0.070106  0.039671       4        1   0.179021\n",
       "13    -0.056778  0.014935       5        1   0.081762\n",
       "7     -0.053579  0.013525       6        1   0.076502\n",
       "16    -0.040113  0.003614       7        1   0.007994\n",
       "5     -0.040173  0.003184       8        1   0.006109\n",
       "17    -0.039503  0.002835       9        1   0.003917\n",
       "10    -0.039426  0.002490      10        1   0.003887\n",
       "1     -0.039643  0.002501      11        1   0.003518\n",
       "3     -0.039284  0.002735      12        1   0.003234\n",
       "18    -0.038763  0.002319      13        1   0.000810\n",
       "11    -0.038880  0.002292      14        1   0.000806\n",
       "6     -0.038881  0.002292      15        1   0.000806\n",
       "4     -0.038874  0.002297      16        1   0.000802\n",
       "8     -0.038902  0.002294      17        1   0.000801\n",
       "0     -0.038850  0.002304      18        1   0.000800\n",
       "12    -0.038976  0.002275      19        1   0.000799\n",
       "9     -0.038935  0.002284      20        1   0.000797, topic_info=     Category         Freq              Term        Total  loglift  logprob\n",
       "576   Default  2789.000000              gate  2789.000000  30.0000  30.0000\n",
       "238   Default   960.000000             clean   960.000000  29.0000  29.0000\n",
       "1316  Default  3585.000000             staff  3585.000000  28.0000  28.0000\n",
       "221   Default  2964.000000             check  2964.000000  27.0000  27.0000\n",
       "1094  Default  2579.000000             queue  2579.000000  26.0000  26.0000\n",
       "75    Default  1638.000000              area  1638.000000  25.0000  25.0000\n",
       "541   Default   941.000000              food   941.000000  24.0000  24.0000\n",
       "786   Default  2061.000000              long  2061.000000  23.0000  23.0000\n",
       "1408  Default  3650.000000              time  3650.000000  22.0000  22.0000\n",
       "425   Default   583.000000              easy   583.000000  21.0000  21.0000\n",
       "771   Default  1903.000000              line  1903.000000  20.0000  20.0000\n",
       "1506  Default  1120.000000              walk  1120.000000  19.0000  19.0000\n",
       "855   Default  1996.000000            minute  1996.000000  18.0000  18.0000\n",
       "81    Default  1792.000000            arrive  1792.000000  17.0000  17.0000\n",
       "1166  Default  1575.000000            review  1575.000000  16.0000  16.0000\n",
       "1416  Default   679.000000            toilet   679.000000  15.0000  15.0000\n",
       "1205  Default  3672.000000          security  3672.000000  14.0000  14.0000\n",
       "1237  Default  1151.000000              shop  1151.000000  13.0000  13.0000\n",
       "362   Default  1484.000000         departure  1484.000000  12.0000  12.0000\n",
       "1505  Default  2306.000000              wait  2306.000000  11.0000  11.0000\n",
       "792   Default   769.000000            lounge   769.000000  10.0000  10.0000\n",
       "479   Default  1845.000000        experience  1845.000000   9.0000   9.0000\n",
       "1446  Default  1449.000000              trip  1449.000000   8.0000   8.0000\n",
       "460   Default  1337.000000              even  1337.000000   7.0000   7.0000\n",
       "982   Default  1895.000000         passenger  1895.000000   6.0000   6.0000\n",
       "524   Default  1417.000000              find  1417.000000   5.0000   5.0000\n",
       "46    Default   958.000000              also   958.000000   4.0000   4.0000\n",
       "647   Default  2464.000000              hour  2464.000000   3.0000   3.0000\n",
       "80    Default  1244.000000           arrival  1244.000000   2.0000   2.0000\n",
       "1200  Default   734.000000              seat   734.000000   1.0000   1.0000\n",
       "...       ...          ...               ...          ...      ...      ...\n",
       "1408  Topic20     0.000204              time  3650.936768  -4.9583  -9.3307\n",
       "1316  Topic20     0.000204             staff  3585.905273  -4.9443  -9.3347\n",
       "221   Topic20     0.000204             check  2964.382080  -4.7543  -9.3350\n",
       "1205  Topic20     0.000203          security  3672.524170  -4.9691  -9.3356\n",
       "576   Topic20     0.000203              gate  2789.415283  -4.6973  -9.3389\n",
       "991   Topic20     0.000201            people  2216.073730  -4.4745  -9.3462\n",
       "855   Topic20     0.000201            minute  1996.565308  -4.3721  -9.3481\n",
       "647   Topic20     0.000201              hour  2464.745605  -4.5843  -9.3496\n",
       "1505  Topic20     0.000200              wait  2306.568604  -4.5200  -9.3516\n",
       "771   Topic20     0.000200              line  1903.298706  -4.3283  -9.3521\n",
       "1094  Topic20     0.000200             queue  2579.397705  -4.6346  -9.3545\n",
       "786   Topic20     0.000200              long  2061.779297  -4.4108  -9.3546\n",
       "362   Topic20     0.000200         departure  1484.385254  -4.0824  -9.3548\n",
       "479   Topic20     0.000199        experience  1845.644409  -4.3015  -9.3561\n",
       "524   Topic20     0.000199              find  1417.345581  -4.0375  -9.3561\n",
       "982   Topic20     0.000199         passenger  1895.817139  -4.3288  -9.3565\n",
       "75    Topic20     0.000199              area  1638.080688  -4.1830  -9.3568\n",
       "582   Topic20     0.000199               get  1262.869141  -3.9236  -9.3576\n",
       "1166  Topic20     0.000199            review  1575.536499  -4.1465  -9.3593\n",
       "1378  Topic20     0.000199              take  1341.879883  -3.9862  -9.3595\n",
       "587   Topic20     0.000199                go  1301.918823  -3.9561  -9.3596\n",
       "1438  Topic20     0.000199            travel  1259.477417  -3.9231  -9.3598\n",
       "1237  Topic20     0.000198              shop  1151.386475  -3.8346  -9.3610\n",
       "984   Topic20     0.000198  passport_control   834.541443  -3.5146  -9.3629\n",
       "263   Topic20     0.000198              come   870.234131  -3.5566  -9.3630\n",
       "1446  Topic20     0.000198              trip  1449.796509  -4.0673  -9.3632\n",
       "1506  Topic20     0.000198              walk  1120.151978  -3.8096  -9.3635\n",
       "80    Topic20     0.000198           arrival  1244.522949  -3.9150  -9.3636\n",
       "1519  Topic20     0.000198               way  1109.085327  -3.8000  -9.3639\n",
       "1549  Topic20     0.000198              work   937.034485  -3.6316  -9.3640\n",
       "\n",
       "[1186 rows x 6 columns], token_table=       Topic      Freq       Term\n",
       "term                             \n",
       "5          1  0.263223   abundant\n",
       "5          2  0.658057   abundant\n",
       "5          6  0.131611   abundant\n",
       "7935       1  0.152973     aegean\n",
       "7935       3  0.764865     aegean\n",
       "4174       1  0.981954     africa\n",
       "29         1  0.988308      agent\n",
       "29         2  0.013679      agent\n",
       "2911       1  0.178778  airbridge\n",
       "2911       2  0.786625  airbridge\n",
       "2913       2  0.961135      aisle\n",
       "2913       3  0.068652      aisle\n",
       "46         1  0.738448       also\n",
       "46         2  0.259708       also\n",
       "46         3  0.002086       also\n",
       "1573       1  0.917903   ambiance\n",
       "2481       1  0.985983    america\n",
       "1920       1  0.275626        ana\n",
       "1920       3  0.551252        ana\n",
       "6145       2  0.611876   appalled\n",
       "6145       4  0.305938   appalled\n",
       "75         1  0.685558       area\n",
       "75         2  0.312561       area\n",
       "75         3  0.001221       area\n",
       "80         1  0.670940    arrival\n",
       "80         2  0.327836    arrival\n",
       "80         3  0.000804    arrival\n",
       "81         1  0.732143     arrive\n",
       "81         2  0.267299     arrive\n",
       "81         3  0.001116     arrive\n",
       "...      ...       ...        ...\n",
       "5410       1  0.470719        uae\n",
       "5410       2  0.117680        uae\n",
       "5410       3  0.353039        uae\n",
       "1458       3  1.011002   ultimate\n",
       "4066       2  1.015137  undertake\n",
       "4101       2  1.020367   urgently\n",
       "1480       1  0.680085        use\n",
       "1480       2  0.318229        use\n",
       "1480       3  0.001283        use\n",
       "5676       2  0.953989     vantaa\n",
       "1505       1  0.779079       wait\n",
       "1505       2  0.220674       wait\n",
       "1505       3  0.000434       wait\n",
       "1506       1  0.713296       walk\n",
       "1506       2  0.283890       walk\n",
       "1506       3  0.001785       walk\n",
       "1519       1  0.779020        way\n",
       "1519       2  0.220001        way\n",
       "1519       3  0.000902        way\n",
       "1526       1  0.680192       well\n",
       "1526       2  0.318173       well\n",
       "1526       3  0.001124       well\n",
       "7250       3  0.961422       wood\n",
       "1549       1  0.772650       work\n",
       "1549       2  0.227313       work\n",
       "2045       1  0.989538       yell\n",
       "2045       2  0.009607       yell\n",
       "2046       3  0.797059        yen\n",
       "7729       5  0.669495       yuan\n",
       "10622      4  0.866250        yul\n",
       "\n",
       "[498 rows x 3 columns], R=30, lambda_step=0.01, plot_opts={'xlab': 'PC1', 'ylab': 'PC2'}, topic_order=[3, 15, 16, 20, 14, 8, 17, 6, 18, 11, 2, 4, 19, 12, 7, 5, 9, 1, 13, 10])"
      ]
     },
     "execution_count": 14,
     "metadata": {},
     "output_type": "execute_result"
    }
   ],
   "source": [
    "# Visualize the topics\n",
    "pyLDAvis.enable_notebook()\n",
    "vis = pyLDAvis.gensim.prepare(lda_model, corpus, id2word)\n",
    "vis"
   ]
  },
  {
   "cell_type": "code",
   "execution_count": 15,
   "metadata": {
    "scrolled": true
   },
   "outputs": [
    {
     "name": "stdout",
     "output_type": "stream",
     "text": [
      "(0, [('time', 0.06607581607581607), ('bus', 0.037557037557037556), ('check', 0.036504036504036504), ('minute', 0.028694278694278694), ('plane', 0.02263952263952264), ('luggage', 0.022025272025272026), ('leave', 0.019743769743769745), ('delay', 0.01833976833976834), ('hour', 0.016058266058266057), ('train', 0.015795015795015795)])\n",
      "(1, [('immigration', 0.07741420590582601), ('hour', 0.040930338615893284), ('staff', 0.03830806065442937), ('arrive', 0.034887698095998176), ('queue', 0.03192338387869114), ('time', 0.025652719188233954), ('custom', 0.023942537909018357), ('wait', 0.023714513738456275), ('officer', 0.0223463687150838), ('clear', 0.017443849047999088)])\n",
      "(2, [('line', 0.04088397790055249), ('check', 0.026104972375690608), ('trip', 0.02527624309392265), ('terminal', 0.02334254143646409), ('agent', 0.022651933701657457), ('passport', 0.020303867403314916), ('stand', 0.019751381215469613), ('work', 0.019751381215469613), ('officer', 0.01919889502762431), ('huge', 0.013121546961325966)])\n",
      "(3, [('gate', 0.06894038010934653), ('walk', 0.0279614683676126), ('time', 0.027492840406144234), ('area', 0.027024212444675864), ('long', 0.024056235355376203), ('board', 0.02192137464202031), ('find', 0.021661025774537882), ('signage', 0.020151002343139806), ('sign', 0.017703722988804998), ('poor', 0.01634990887789638)])\n",
      "(4, [('clean', 0.037131988091300035), ('shop', 0.025057889513728084), ('food', 0.024313595765795566), ('fast', 0.02340390340721138), ('trip', 0.022907707575256366), ('easy', 0.022907707575256366), ('long', 0.02042672841548131), ('minute', 0.018607343698312934), ('time', 0.016291763149189547), ('friendly', 0.016043665233212042)])\n",
      "(5, [('security', 0.05722451571927596), ('time', 0.0463639250555732), ('queue', 0.0440774849158463), ('passenger', 0.03747221340107971), ('minute', 0.036011432200698634), ('travel', 0.025023817084788822), ('check', 0.02019688790092093), ('long', 0.018609082248332805), ('min', 0.018355033343918706), ('open', 0.01829152111781518)])\n",
      "(6, [('place', 0.029860577450872762), ('check', 0.02041936546272917), ('trip', 0.020309583927983314), ('luggage', 0.018662860906795475), ('seat', 0.015698759468657373), ('minute', 0.014930288725436381), ('service', 0.014820507190690526), ('option', 0.01471072565594467), ('machine', 0.01449116258645296), ('travel', 0.01416181798221539)])\n",
      "(7, [('line', 0.0699936224489796), ('hour', 0.043048469387755105), ('custom', 0.036033163265306124), ('miss', 0.030293367346938774), ('employee', 0.0272640306122449), ('connect', 0.02694515306122449), ('time', 0.0234375), ('agent', 0.020089285714285716), ('connection', 0.017857142857142856), ('immigration', 0.01642219387755102)])\n",
      "(8, [('staff', 0.04514630747793776), ('people', 0.04143056200650255), ('bag', 0.031955411054342776), ('rude', 0.029772410589874593), ('experience', 0.02768230376219229), ('security', 0.023966558290757084), ('avoid', 0.01686019507663725), ('arrive', 0.015141662796098467), ('give', 0.013887598699489086), ('travel', 0.013516024152345565)])\n",
      "(9, [('time', 0.04064060616497331), ('custom', 0.036335457206819355), ('line', 0.030136042707077666), ('security', 0.02772515929051145), ('wheelchair', 0.026864129498880663), ('travel', 0.026519717582228344), ('connect', 0.023764422249009817), ('bag', 0.0234200103323575), ('baggage', 0.022903392457379025), ('connection', 0.02049250904081281)])\n",
      "(10, [('transit', 0.09286783042394015), ('gate', 0.04458852867830424), ('review', 0.03211970074812968), ('transfer', 0.02743142144638404), ('wifi', 0.022643391521197008), ('hour', 0.022344139650872816), ('service', 0.020249376558603493), ('give', 0.019850374064837906), ('passenger', 0.018553615960099752), ('short', 0.015760598503740647)])\n",
      "(11, [('check', 0.03353108073252515), ('review', 0.03262832086664947), ('arrival', 0.024632447768893475), ('baggage', 0.024632447768893475), ('taxi', 0.024374516378643282), ('open', 0.02205313386639154), ('security', 0.02166623678101625), ('clean', 0.0196027856590147), ('design', 0.0196027856590147), ('area', 0.018571060098013927)])\n",
      "(12, [('security', 0.06830154405086285), ('check', 0.040690281562216164), ('staff', 0.03760217983651226), ('arrival', 0.021980018165304267), ('customer', 0.021435059037238875), ('friendly', 0.01980018165304269), ('departure', 0.016893732970027248), ('process', 0.01634877384196185), ('control', 0.016167120799273387), ('leave', 0.014350590372388738)])\n",
      "(13, [('immigration', 0.05007606490872211), ('time', 0.04690669371196755), ('long', 0.03144016227180527), ('departure', 0.03029918864097363), ('queue', 0.02865111561866126), ('minute', 0.02738336713995943), ('passenger', 0.022692697768762676), ('number', 0.01686105476673428), ('walk', 0.016480730223123734), ('pay', 0.014452332657200811)])\n",
      "(14, [('security', 0.10967018892090938), ('gate', 0.04819084213896894), ('check', 0.04258725584373999), ('trip', 0.022254242715337817), ('connect', 0.01921229586935639), ('rude', 0.01841178354146654), ('bad', 0.01841178354146654), ('slow', 0.01552993916106308), ('water', 0.01504963176432917), ('time', 0.01504963176432917)])\n",
      "(15, [('wait', 0.05083320593181471), ('bad', 0.037914691943127965), ('hour', 0.0330989145390613), ('experience', 0.032793150894358664), ('find', 0.031875859960250726), ('food', 0.03011771900321052), ('plane', 0.028818223513224276), ('area', 0.022932273352698363), ('people', 0.022550068796820057), ('long', 0.022320746063293075)])\n",
      "(16, [('passport_control', 0.052750849804859626), ('queue', 0.0379579503965756), ('gate', 0.029837592849049476), ('people', 0.027382601032355534), ('hour', 0.027004909983633387), ('arrive', 0.026123630869948383), ('passport', 0.023227999496411935), ('wait', 0.0220949263502455), ('review', 0.021213647236560492), ('shop', 0.02026941961475513)])\n",
      "(17, [('staff', 0.041620140087300785), ('toilet', 0.03796568876256218), ('seat', 0.03360064968023551), ('lounge', 0.02649477210435489), ('bus', 0.024058471221195817), ('shop', 0.02101309511724698), ('duty_free', 0.019388894528474268), ('board', 0.01857679423408791), ('facility', 0.01573444320373566), ('dirty', 0.01573444320373566)])\n",
      "(18, [('line', 0.06557958170861397), ('people', 0.04466501240694789), ('long', 0.03792981212336051), ('wait', 0.031549096065225095), ('passenger', 0.02729528535980149), ('area', 0.021269053527118043), ('decent', 0.014711095356256646), ('clear', 0.01435661113080468), ('minute', 0.014179369018078695), ('close', 0.013824884792626729)])\n",
      "(19, [('immigration', 0.06494661921708185), ('counter', 0.03959074733096085), ('arrival', 0.027431791221826807), ('hour', 0.023873072360616844), ('passenger', 0.0234282325029656), ('departure', 0.022983392645314352), ('experience', 0.022983392645314352), ('time', 0.022686832740213523), ('lounge', 0.021204033214709372), ('domestic', 0.02001779359430605)])\n",
      "(20, [('arrive', 0.031721167025651066), ('custom', 0.02956726062267476), ('domestic', 0.02858821225768553), ('parking', 0.026434305854709222), ('arrival', 0.025846876835715685), ('passenger', 0.019776776972782455), ('departure', 0.019580967299784608), ('baggage', 0.013706677109849227), ('hall', 0.012727628744859996), ('world', 0.011748580379870765)])\n",
      "(21, [('staff', 0.035204946644061035), ('wait', 0.024733220305176024), ('arrive', 0.02204049067517702), ('minute', 0.02054452976962202), ('arrival', 0.01914829959110402), ('bag', 0.017652338685549017), ('return', 0.015557993417772016), ('machine', 0.015458262690735015), ('baggage', 0.014760147601476014), ('desk', 0.014660416874439015)])\n",
      "(22, [('security', 0.04438984438984439), ('check', 0.03882063882063882), ('area', 0.031122031122031123), ('small', 0.026535626535626536), ('time', 0.02620802620802621), ('gate', 0.022113022113022112), ('seat', 0.020802620802620804), ('travel', 0.017526617526617525), ('shop', 0.017035217035217036), ('luggage', 0.016871416871416873)])\n",
      "(23, [('queue', 0.06920205790376274), ('staff', 0.04519318067184505), ('security', 0.0445879148592757), ('check', 0.04368001614042167), ('toilet', 0.03268435387874508), ('long', 0.022798345606778975), ('line', 0.02088167053364269), ('slow', 0.020276404721073338), ('departure', 0.019065873095934632), ('baggage', 0.01704832038737012)])\n",
      "(24, [('check', 0.05890458146744747), ('staff', 0.0404753703065794), ('security', 0.030141233207027215), ('line', 0.026179813985532208), ('english', 0.02290733723734068), ('counter', 0.019118153634171547), ('board', 0.018945918015845678), ('shop', 0.018601446779193936), ('hotel', 0.01774026868756459), ('trip', 0.014984498794350671)])\n"
     ]
    }
   ],
   "source": [
    "import os\n",
    "from gensim.models.wrappers import LdaMallet\n",
    "\n",
    "os.environ.update({'MALLET_HOME':r'C:/new_mallet/mallet-2.0.8/'})\n",
    "mallet_path = 'C:/new_mallet/mallet-2.0.8/bin/mallet' # update this path\n",
    "\n",
    "ldamallet = LdaMallet(mallet_path, corpus=corpus, num_topics=25, id2word=id2word)\n",
    "\n",
    "result=(ldamallet.show_topics(num_topics=25,num_words=10,formatted=False))\n",
    "for each in result:\n",
    "    print(each) "
   ]
  },
  {
   "cell_type": "code",
   "execution_count": 16,
   "metadata": {},
   "outputs": [
    {
     "name": "stdout",
     "output_type": "stream",
     "text": [
      "[(22,\n",
      "  [('security', 0.04438984438984439),\n",
      "   ('check', 0.03882063882063882),\n",
      "   ('area', 0.031122031122031123),\n",
      "   ('small', 0.026535626535626536),\n",
      "   ('time', 0.02620802620802621),\n",
      "   ('gate', 0.022113022113022112),\n",
      "   ('seat', 0.020802620802620804),\n",
      "   ('travel', 0.017526617526617525),\n",
      "   ('shop', 0.017035217035217036),\n",
      "   ('luggage', 0.016871416871416873)]),\n",
      " (10,\n",
      "  [('transit', 0.09286783042394015),\n",
      "   ('gate', 0.04458852867830424),\n",
      "   ('review', 0.03211970074812968),\n",
      "   ('transfer', 0.02743142144638404),\n",
      "   ('wifi', 0.022643391521197008),\n",
      "   ('hour', 0.022344139650872816),\n",
      "   ('service', 0.020249376558603493),\n",
      "   ('give', 0.019850374064837906),\n",
      "   ('passenger', 0.018553615960099752),\n",
      "   ('short', 0.015760598503740647)]),\n",
      " (18,\n",
      "  [('line', 0.06557958170861397),\n",
      "   ('people', 0.04466501240694789),\n",
      "   ('long', 0.03792981212336051),\n",
      "   ('wait', 0.031549096065225095),\n",
      "   ('passenger', 0.02729528535980149),\n",
      "   ('area', 0.021269053527118043),\n",
      "   ('decent', 0.014711095356256646),\n",
      "   ('clear', 0.01435661113080468),\n",
      "   ('minute', 0.014179369018078695),\n",
      "   ('close', 0.013824884792626729)]),\n",
      " (14,\n",
      "  [('security', 0.10967018892090938),\n",
      "   ('gate', 0.04819084213896894),\n",
      "   ('check', 0.04258725584373999),\n",
      "   ('trip', 0.022254242715337817),\n",
      "   ('connect', 0.01921229586935639),\n",
      "   ('rude', 0.01841178354146654),\n",
      "   ('bad', 0.01841178354146654),\n",
      "   ('slow', 0.01552993916106308),\n",
      "   ('water', 0.01504963176432917),\n",
      "   ('time', 0.01504963176432917)]),\n",
      " (17,\n",
      "  [('staff', 0.041620140087300785),\n",
      "   ('toilet', 0.03796568876256218),\n",
      "   ('seat', 0.03360064968023551),\n",
      "   ('lounge', 0.02649477210435489),\n",
      "   ('bus', 0.024058471221195817),\n",
      "   ('shop', 0.02101309511724698),\n",
      "   ('duty_free', 0.019388894528474268),\n",
      "   ('board', 0.01857679423408791),\n",
      "   ('facility', 0.01573444320373566),\n",
      "   ('dirty', 0.01573444320373566)]),\n",
      " (23,\n",
      "  [('queue', 0.06920205790376274),\n",
      "   ('staff', 0.04519318067184505),\n",
      "   ('security', 0.0445879148592757),\n",
      "   ('check', 0.04368001614042167),\n",
      "   ('toilet', 0.03268435387874508),\n",
      "   ('long', 0.022798345606778975),\n",
      "   ('line', 0.02088167053364269),\n",
      "   ('slow', 0.020276404721073338),\n",
      "   ('departure', 0.019065873095934632),\n",
      "   ('baggage', 0.01704832038737012)]),\n",
      " (5,\n",
      "  [('security', 0.05722451571927596),\n",
      "   ('time', 0.0463639250555732),\n",
      "   ('queue', 0.0440774849158463),\n",
      "   ('passenger', 0.03747221340107971),\n",
      "   ('minute', 0.036011432200698634),\n",
      "   ('travel', 0.025023817084788822),\n",
      "   ('check', 0.02019688790092093),\n",
      "   ('long', 0.018609082248332805),\n",
      "   ('min', 0.018355033343918706),\n",
      "   ('open', 0.01829152111781518)]),\n",
      " (8,\n",
      "  [('staff', 0.04514630747793776),\n",
      "   ('people', 0.04143056200650255),\n",
      "   ('bag', 0.031955411054342776),\n",
      "   ('rude', 0.029772410589874593),\n",
      "   ('experience', 0.02768230376219229),\n",
      "   ('security', 0.023966558290757084),\n",
      "   ('avoid', 0.01686019507663725),\n",
      "   ('arrive', 0.015141662796098467),\n",
      "   ('give', 0.013887598699489086),\n",
      "   ('travel', 0.013516024152345565)]),\n",
      " (1,\n",
      "  [('immigration', 0.07741420590582601),\n",
      "   ('hour', 0.040930338615893284),\n",
      "   ('staff', 0.03830806065442937),\n",
      "   ('arrive', 0.034887698095998176),\n",
      "   ('queue', 0.03192338387869114),\n",
      "   ('time', 0.025652719188233954),\n",
      "   ('custom', 0.023942537909018357),\n",
      "   ('wait', 0.023714513738456275),\n",
      "   ('officer', 0.0223463687150838),\n",
      "   ('clear', 0.017443849047999088)]),\n",
      " (21,\n",
      "  [('staff', 0.035204946644061035),\n",
      "   ('wait', 0.024733220305176024),\n",
      "   ('arrive', 0.02204049067517702),\n",
      "   ('minute', 0.02054452976962202),\n",
      "   ('arrival', 0.01914829959110402),\n",
      "   ('bag', 0.017652338685549017),\n",
      "   ('return', 0.015557993417772016),\n",
      "   ('machine', 0.015458262690735015),\n",
      "   ('baggage', 0.014760147601476014),\n",
      "   ('desk', 0.014660416874439015)])]\n",
      "\n",
      "Coherence Score:  0.29109009244803663\n"
     ]
    }
   ],
   "source": [
    "# Show Topics\n",
    "pprint(ldamallet.show_topics(formatted=False))\n",
    "\n",
    "# Compute Coherence Score\n",
    "coherence_model_ldamallet = CoherenceModel(model=ldamallet, texts=data_lemmatized, dictionary=id2word, coherence='c_v')\n",
    "coherence_ldamallet = coherence_model_ldamallet.get_coherence()\n",
    "print('\\nCoherence Score: ', coherence_ldamallet)"
   ]
  },
  {
   "cell_type": "code",
   "execution_count": 17,
   "metadata": {},
   "outputs": [],
   "source": [
    "def compute_coherence_values(dictionary, corpus, texts, limit, start=2, step=3):\n",
    "    \"\"\"\n",
    "    Compute c_v coherence for various number of topics\n",
    "\n",
    "    Parameters:\n",
    "    ----------\n",
    "    dictionary : Gensim dictionary\n",
    "    corpus : Gensim corpus\n",
    "    texts : List of input texts\n",
    "    limit : Max num of topics\n",
    "\n",
    "    Returns:\n",
    "    -------\n",
    "    model_list : List of LDA topic models\n",
    "    coherence_values : Coherence values corresponding to the LDA model with respective number of topics\n",
    "    \"\"\"\n",
    "    coherence_values = []\n",
    "    model_list = []\n",
    "    for num_topics in range(start, limit, step):\n",
    "        model = gensim.models.wrappers.LdaMallet(mallet_path, corpus=corpus, num_topics=num_topics, id2word=id2word)\n",
    "        model_list.append(model)\n",
    "        coherencemodel = CoherenceModel(model=model, texts=texts, dictionary=dictionary, coherence='c_v')\n",
    "        coherence_values.append(coherencemodel.get_coherence())\n",
    "\n",
    "    return model_list, coherence_values"
   ]
  },
  {
   "cell_type": "code",
   "execution_count": 18,
   "metadata": {},
   "outputs": [
    {
     "name": "stdout",
     "output_type": "stream",
     "text": [
      "Time taken:  674.7063608169556 seconds.\n"
     ]
    }
   ],
   "source": [
    "import time\n",
    "\n",
    "start = time.time()\n",
    "\n",
    "# Can take a long time to run.\n",
    "model_list, coherence_values = compute_coherence_values(dictionary=id2word, corpus=corpus, texts=data_lemmatized, start=2, limit=25, step=3)\n",
    "\n",
    "\n",
    "end = time.time()\n",
    "elapsed = end - start\n",
    "print(\"Time taken: \", elapsed, \"seconds.\")"
   ]
  },
  {
   "cell_type": "code",
   "execution_count": 19,
   "metadata": {},
   "outputs": [
    {
     "data": {
      "image/png": "[encoded data removed]",
      "text/plain": [
       "<Figure size 432x288 with 1 Axes>"
      ]
     },
     "metadata": {},
     "output_type": "display_data"
    }
   ],
   "source": [
    "# Show graph\n",
    "limit=25; start=2; step=3;\n",
    "x = range(start, limit, step)\n",
    "plt.plot(x, coherence_values)\n",
    "plt.xlabel(\"Num Topics\")\n",
    "plt.ylabel(\"Coherence score\")\n",
    "plt.legend((\"coherence_values\"), loc='best')\n",
    "plt.show()"
   ]
  },
  {
   "cell_type": "code",
   "execution_count": 20,
   "metadata": {},
   "outputs": [
    {
     "name": "stdout",
     "output_type": "stream",
     "text": [
      "Num Topics = 2  has Coherence Value of 0.2943\n",
      "Num Topics = 5  has Coherence Value of 0.2919\n",
      "Num Topics = 8  has Coherence Value of 0.3059\n",
      "Num Topics = 11  has Coherence Value of 0.2913\n",
      "Num Topics = 14  has Coherence Value of 0.302\n",
      "Num Topics = 17  has Coherence Value of 0.2941\n",
      "Num Topics = 20  has Coherence Value of 0.2867\n",
      "Num Topics = 23  has Coherence Value of 0.2837\n"
     ]
    }
   ],
   "source": [
    "# Print the coherence scores\n",
    "for m, cv in zip(x, coherence_values):\n",
    "    print(\"Num Topics =\", m, \" has Coherence Value of\", round(cv, 4))"
   ]
  },
  {
   "cell_type": "code",
   "execution_count": 21,
   "metadata": {
    "scrolled": true
   },
   "outputs": [
    {
     "name": "stdout",
     "output_type": "stream",
     "text": [
      "[(0,\n",
      "  '0.033*\"people\" + 0.024*\"time\" + 0.023*\"travel\" + 0.022*\"wait\" + '\n",
      "  '0.020*\"staff\" + 0.019*\"security\" + 0.015*\"experience\" + 0.013*\"bag\" + '\n",
      "  '0.013*\"long\" + 0.013*\"luggage\"'),\n",
      " (1,\n",
      "  '0.026*\"area\" + 0.018*\"walk\" + 0.017*\"passenger\" + 0.015*\"baggage\" + '\n",
      "  '0.014*\"arrival\" + 0.013*\"departure\" + 0.012*\"seat\" + 0.011*\"custom\" + '\n",
      "  '0.011*\"minute\" + 0.010*\"domestic\"'),\n",
      " (2,\n",
      "  '0.035*\"staff\" + 0.035*\"queue\" + 0.025*\"arrive\" + 0.020*\"hour\" + '\n",
      "  '0.017*\"time\" + 0.017*\"wait\" + 0.016*\"minute\" + 0.012*\"find\" + '\n",
      "  '0.012*\"passenger\" + 0.012*\"arrival\"'),\n",
      " (3,\n",
      "  '0.037*\"gate\" + 0.025*\"staff\" + 0.019*\"hour\" + 0.017*\"find\" + '\n",
      "  '0.016*\"transit\" + 0.014*\"experience\" + 0.014*\"board\" + 0.013*\"bus\" + '\n",
      "  '0.012*\"transfer\" + 0.010*\"people\"'),\n",
      " (4,\n",
      "  '0.054*\"immigration\" + 0.027*\"check\" + 0.025*\"time\" + 0.023*\"staff\" + '\n",
      "  '0.020*\"hour\" + 0.019*\"counter\" + 0.018*\"transit\" + 0.016*\"queue\" + '\n",
      "  '0.016*\"long\" + 0.015*\"passenger\"'),\n",
      " (5,\n",
      "  '0.058*\"line\" + 0.028*\"hour\" + 0.021*\"check\" + 0.021*\"time\" + 0.018*\"custom\" '\n",
      "  '+ 0.015*\"security\" + 0.015*\"connect\" + 0.013*\"people\" + 0.012*\"minute\" + '\n",
      "  '0.012*\"agent\"'),\n",
      " (6,\n",
      "  '0.028*\"clean\" + 0.022*\"trip\" + 0.021*\"shop\" + 0.016*\"food\" + 0.016*\"easy\" + '\n",
      "  '0.016*\"fast\" + 0.014*\"toilet\" + 0.014*\"restaurant\" + 0.014*\"gate\" + '\n",
      "  '0.013*\"free\"'),\n",
      " (7,\n",
      "  '0.084*\"security\" + 0.064*\"check\" + 0.022*\"queue\" + 0.021*\"minute\" + '\n",
      "  '0.021*\"passport_control\" + 0.021*\"gate\" + 0.018*\"departure\" + 0.016*\"shop\" '\n",
      "  '+ 0.015*\"passport\" + 0.013*\"time\"')]\n"
     ]
    }
   ],
   "source": [
    "# Select the model and print the topics\n",
    "optimal_model = model_list[2]\n",
    "model_topics = optimal_model.show_topics(formatted=False)\n",
    "pprint(optimal_model.print_topics(num_words=10))"
   ]
  },
  {
   "cell_type": "code",
   "execution_count": 22,
   "metadata": {
    "scrolled": true
   },
   "outputs": [
    {
     "name": "stdout",
     "output_type": "stream",
     "text": [
      "[(0,\n",
      "  '0.033*\"people\" + 0.024*\"time\" + 0.023*\"travel\" + 0.022*\"wait\" + '\n",
      "  '0.020*\"staff\" + 0.019*\"security\" + 0.015*\"experience\" + 0.013*\"bag\" + '\n",
      "  '0.013*\"long\" + 0.013*\"luggage\" + 0.012*\"make\" + 0.012*\"review\" + '\n",
      "  '0.011*\"gate\" + 0.010*\"queue\" + 0.009*\"rude\" + 0.009*\"bad\" + 0.008*\"place\" + '\n",
      "  '0.008*\"customer\" + 0.007*\"work\" + 0.007*\"problem\"'),\n",
      " (1,\n",
      "  '0.026*\"area\" + 0.018*\"walk\" + 0.017*\"passenger\" + 0.015*\"baggage\" + '\n",
      "  '0.014*\"arrival\" + 0.013*\"departure\" + 0.012*\"seat\" + 0.011*\"custom\" + '\n",
      "  '0.011*\"minute\" + 0.010*\"domestic\" + 0.010*\"parking\" + 0.009*\"exit\" + '\n",
      "  '0.009*\"arrive\" + 0.009*\"pick\" + 0.009*\"long\" + 0.008*\"food\" + 0.008*\"place\" '\n",
      "  '+ 0.008*\"hall\" + 0.007*\"pay\" + 0.007*\"poor\"'),\n",
      " (2,\n",
      "  '0.035*\"staff\" + 0.035*\"queue\" + 0.025*\"arrive\" + 0.020*\"hour\" + '\n",
      "  '0.017*\"time\" + 0.017*\"wait\" + 0.016*\"minute\" + 0.012*\"find\" + '\n",
      "  '0.012*\"passenger\" + 0.012*\"arrival\" + 0.011*\"departure\" + 0.011*\"delay\" + '\n",
      "  '0.011*\"return\" + 0.011*\"bag\" + 0.010*\"desk\" + 0.009*\"experience\" + '\n",
      "  '0.009*\"passport\" + 0.009*\"plane\" + 0.008*\"long\" + 0.008*\"service\"'),\n",
      " (3,\n",
      "  '0.037*\"gate\" + 0.025*\"staff\" + 0.019*\"hour\" + 0.017*\"find\" + '\n",
      "  '0.016*\"transit\" + 0.014*\"experience\" + 0.014*\"board\" + 0.013*\"bus\" + '\n",
      "  '0.012*\"transfer\" + 0.010*\"people\" + 0.010*\"give\" + 0.010*\"sign\" + '\n",
      "  '0.009*\"bad\" + 0.009*\"time\" + 0.009*\"change\" + 0.009*\"plane\" + 0.008*\"delay\" '\n",
      "  '+ 0.008*\"avoid\" + 0.008*\"signage\" + 0.008*\"speak\"'),\n",
      " (4,\n",
      "  '0.054*\"immigration\" + 0.027*\"check\" + 0.025*\"time\" + 0.023*\"staff\" + '\n",
      "  '0.020*\"hour\" + 0.019*\"counter\" + 0.018*\"transit\" + 0.016*\"queue\" + '\n",
      "  '0.016*\"long\" + 0.015*\"passenger\" + 0.015*\"arrival\" + 0.015*\"review\" + '\n",
      "  '0.013*\"departure\" + 0.011*\"experience\" + 0.011*\"line\" + 0.009*\"wifi\" + '\n",
      "  '0.009*\"good\" + 0.009*\"arrive\" + 0.009*\"facility\" + 0.008*\"officer\"'),\n",
      " (5,\n",
      "  '0.058*\"line\" + 0.028*\"hour\" + 0.021*\"check\" + 0.021*\"time\" + 0.018*\"custom\" '\n",
      "  '+ 0.015*\"security\" + 0.015*\"connect\" + 0.013*\"people\" + 0.012*\"minute\" + '\n",
      "  '0.012*\"agent\" + 0.012*\"employee\" + 0.011*\"wait\" + 0.011*\"immigration\" + '\n",
      "  '0.011*\"arrive\" + 0.010*\"process\" + 0.010*\"connection\" + 0.010*\"rude\" + '\n",
      "  '0.009*\"move\" + 0.009*\"passenger\" + 0.009*\"terminal\"'),\n",
      " (6,\n",
      "  '0.028*\"clean\" + 0.022*\"trip\" + 0.021*\"shop\" + 0.016*\"food\" + 0.016*\"easy\" + '\n",
      "  '0.016*\"fast\" + 0.014*\"toilet\" + 0.014*\"restaurant\" + 0.014*\"gate\" + '\n",
      "  '0.013*\"free\" + 0.013*\"service\" + 0.013*\"area\" + 0.013*\"long\" + 0.012*\"wait\" '\n",
      "  '+ 0.012*\"train\" + 0.011*\"friendly\" + 0.011*\"great\" + 0.010*\"efficient\" + '\n",
      "  '0.010*\"wifi\" + 0.010*\"plenty\"'),\n",
      " (7,\n",
      "  '0.084*\"security\" + 0.064*\"check\" + 0.022*\"queue\" + 0.021*\"minute\" + '\n",
      "  '0.021*\"passport_control\" + 0.021*\"gate\" + 0.018*\"departure\" + 0.016*\"shop\" '\n",
      "  '+ 0.015*\"passport\" + 0.013*\"time\" + 0.011*\"lounge\" + 0.011*\"small\" + '\n",
      "  '0.010*\"passenger\" + 0.010*\"area\" + 0.009*\"open\" + 0.009*\"information\" + '\n",
      "  '0.009*\"control\" + 0.008*\"number\" + 0.008*\"board\" + 0.008*\"work\"')]\n"
     ]
    }
   ],
   "source": [
    "pprint(optimal_model.print_topics(num_words=20))"
   ]
  },
  {
   "cell_type": "code",
   "execution_count": 23,
   "metadata": {
    "scrolled": true
   },
   "outputs": [
    {
     "name": "stdout",
     "output_type": "stream",
     "text": [
      "[(0,\n",
      "  '0.033*\"people\" + 0.024*\"time\" + 0.023*\"travel\" + 0.022*\"wait\" + '\n",
      "  '0.020*\"staff\" + 0.019*\"security\" + 0.015*\"experience\" + 0.013*\"long\" + '\n",
      "  '0.013*\"bag\" + 0.013*\"luggage\" + 0.012*\"make\" + 0.012*\"review\" + '\n",
      "  '0.011*\"gate\" + 0.010*\"queue\" + 0.009*\"rude\" + 0.009*\"bad\" + 0.008*\"place\" + '\n",
      "  '0.008*\"customer\" + 0.007*\"work\" + 0.007*\"country\" + 0.007*\"miss\" + '\n",
      "  '0.007*\"problem\" + 0.007*\"plane\" + 0.007*\"leave\" + 0.007*\"put\" + '\n",
      "  '0.006*\"depart\" + 0.006*\"happen\" + 0.006*\"stand\" + 0.006*\"min\" + '\n",
      "  '0.006*\"signage\"'),\n",
      " (1,\n",
      "  '0.026*\"area\" + 0.018*\"walk\" + 0.017*\"passenger\" + 0.015*\"baggage\" + '\n",
      "  '0.014*\"arrival\" + 0.013*\"departure\" + 0.012*\"seat\" + 0.011*\"custom\" + '\n",
      "  '0.011*\"minute\" + 0.010*\"domestic\" + 0.010*\"parking\" + 0.009*\"exit\" + '\n",
      "  '0.009*\"arrive\" + 0.009*\"pick\" + 0.009*\"long\" + 0.008*\"food\" + 0.008*\"place\" '\n",
      "  '+ 0.008*\"hall\" + 0.007*\"pay\" + 0.007*\"poor\" + 0.007*\"sit\" + 0.007*\"number\" '\n",
      "  '+ 0.006*\"carousel\" + 0.006*\"dirty\" + 0.006*\"world\" + 0.006*\"bag\" + '\n",
      "  '0.006*\"friendly\" + 0.006*\"traffic\" + 0.006*\"lack\" + 0.006*\"sign\"'),\n",
      " (2,\n",
      "  '0.035*\"staff\" + 0.035*\"queue\" + 0.025*\"arrive\" + 0.020*\"hour\" + '\n",
      "  '0.017*\"time\" + 0.017*\"wait\" + 0.016*\"minute\" + 0.012*\"find\" + '\n",
      "  '0.012*\"passenger\" + 0.012*\"arrival\" + 0.011*\"departure\" + 0.011*\"delay\" + '\n",
      "  '0.011*\"return\" + 0.011*\"bag\" + 0.010*\"desk\" + 0.009*\"experience\" + '\n",
      "  '0.009*\"passport\" + 0.009*\"plane\" + 0.008*\"long\" + 0.008*\"service\" + '\n",
      "  '0.008*\"give\" + 0.008*\"member\" + 0.007*\"drop\" + 0.006*\"passport_control\" + '\n",
      "  '0.006*\"baggage\" + 0.006*\"system\" + 0.006*\"border\" + 0.005*\"review\" + '\n",
      "  '0.005*\"start\" + 0.005*\"due\"'),\n",
      " (3,\n",
      "  '0.037*\"gate\" + 0.025*\"staff\" + 0.019*\"hour\" + 0.017*\"find\" + '\n",
      "  '0.016*\"transit\" + 0.014*\"experience\" + 0.014*\"board\" + 0.013*\"bus\" + '\n",
      "  '0.012*\"transfer\" + 0.010*\"people\" + 0.010*\"give\" + 0.010*\"sign\" + '\n",
      "  '0.009*\"bad\" + 0.009*\"time\" + 0.009*\"change\" + 0.009*\"plane\" + 0.008*\"delay\" '\n",
      "  '+ 0.008*\"avoid\" + 0.008*\"signage\" + 0.008*\"speak\" + 0.008*\"walk\" + '\n",
      "  '0.007*\"trip\" + 0.007*\"big\" + 0.007*\"point\" + 0.006*\"rude\" + '\n",
      "  '0.006*\"passenger\" + 0.006*\"sit\" + 0.006*\"long\" + 0.006*\"connect\" + '\n",
      "  '0.006*\"hand\"'),\n",
      " (4,\n",
      "  '0.054*\"immigration\" + 0.027*\"check\" + 0.025*\"time\" + 0.023*\"staff\" + '\n",
      "  '0.020*\"hour\" + 0.019*\"counter\" + 0.018*\"transit\" + 0.016*\"queue\" + '\n",
      "  '0.016*\"long\" + 0.015*\"passenger\" + 0.015*\"arrival\" + 0.015*\"review\" + '\n",
      "  '0.013*\"departure\" + 0.011*\"experience\" + 0.011*\"line\" + 0.009*\"wifi\" + '\n",
      "  '0.009*\"good\" + 0.009*\"arrive\" + 0.009*\"facility\" + 0.008*\"officer\" + '\n",
      "  '0.008*\"taxi\" + 0.008*\"process\" + 0.008*\"depart\" + 0.008*\"world\" + '\n",
      "  '0.007*\"wait\" + 0.007*\"great\" + 0.006*\"food\" + 0.006*\"lounge\" + '\n",
      "  '0.006*\"clean\" + 0.006*\"domestic\"'),\n",
      " (5,\n",
      "  '0.058*\"line\" + 0.028*\"hour\" + 0.021*\"check\" + 0.021*\"time\" + 0.018*\"custom\" '\n",
      "  '+ 0.015*\"security\" + 0.015*\"connect\" + 0.013*\"people\" + 0.012*\"minute\" + '\n",
      "  '0.012*\"agent\" + 0.012*\"employee\" + 0.011*\"wait\" + 0.011*\"immigration\" + '\n",
      "  '0.011*\"arrive\" + 0.010*\"process\" + 0.010*\"connection\" + 0.010*\"rude\" + '\n",
      "  '0.009*\"move\" + 0.009*\"passenger\" + 0.009*\"terminal\" + 0.009*\"miss\" + '\n",
      "  '0.008*\"trip\" + 0.008*\"officer\" + 0.006*\"work\" + 0.006*\"avoid\" + 0.006*\"bad\" '\n",
      "  '+ 0.006*\"leave\" + 0.006*\"service\" + 0.006*\"bag\" + 0.005*\"traveler\"'),\n",
      " (6,\n",
      "  '0.028*\"clean\" + 0.022*\"trip\" + 0.021*\"shop\" + 0.016*\"food\" + 0.016*\"easy\" + '\n",
      "  '0.016*\"fast\" + 0.014*\"toilet\" + 0.014*\"restaurant\" + 0.014*\"gate\" + '\n",
      "  '0.013*\"free\" + 0.013*\"service\" + 0.013*\"area\" + 0.013*\"long\" + 0.012*\"wait\" '\n",
      "  '+ 0.012*\"train\" + 0.011*\"friendly\" + 0.011*\"great\" + 0.010*\"efficient\" + '\n",
      "  '0.010*\"plenty\" + 0.010*\"wifi\" + 0.010*\"time\" + 0.010*\"seat\" + '\n",
      "  '0.010*\"shopping\" + 0.009*\"arrive\" + 0.009*\"find\" + 0.009*\"review\" + '\n",
      "  '0.008*\"price\" + 0.007*\"option\" + 0.007*\"line\" + 0.007*\"helpful\"'),\n",
      " (7,\n",
      "  '0.084*\"security\" + 0.064*\"check\" + 0.022*\"queue\" + 0.021*\"minute\" + '\n",
      "  '0.021*\"passport_control\" + 0.021*\"gate\" + 0.018*\"departure\" + 0.016*\"shop\" '\n",
      "  '+ 0.015*\"passport\" + 0.013*\"time\" + 0.011*\"lounge\" + 0.011*\"small\" + '\n",
      "  '0.010*\"passenger\" + 0.010*\"area\" + 0.009*\"open\" + 0.009*\"information\" + '\n",
      "  '0.009*\"control\" + 0.008*\"number\" + 0.008*\"board\" + 0.008*\"work\" + '\n",
      "  '0.008*\"pass\" + 0.007*\"bus\" + 0.007*\"duty_free\" + 0.007*\"walk\" + '\n",
      "  '0.007*\"review\" + 0.006*\"ticket\" + 0.006*\"end\" + 0.006*\"staff\" + '\n",
      "  '0.006*\"reach\" + 0.006*\"buy\"')]\n"
     ]
    }
   ],
   "source": [
    "# Select the model and print the topics\n",
    "optimal_model = model_list[2]\n",
    "model_topics = optimal_model.show_topics(formatted=False)\n",
    "pprint(optimal_model.print_topics(num_words=30))"
   ]
  },
  {
   "cell_type": "code",
   "execution_count": null,
   "metadata": {},
   "outputs": [],
   "source": [
    "import csv\n",
    "for i in range(len(docss)):\n",
    "    print(optimal_model[corpus[i]])\n",
    "    with open(\"conference.csv\",'a') as t:\n",
    "        tr=csv.writer(t, dialect=\"excel\")\n",
    "        tr.writerows(optimal_model[corpus[i]])"
   ]
  },
  {
   "cell_type": "code",
   "execution_count": 24,
   "metadata": {},
   "outputs": [
    {
     "ename": "NameError",
     "evalue": "name 'a' is not defined",
     "output_type": "error",
     "traceback": [
      "\u001b[1;31m---------------------------------------------------------------------------\u001b[0m",
      "\u001b[1;31mNameError\u001b[0m                                 Traceback (most recent call last)",
      "\u001b[1;32m<ipython-input-24-bca0e2660b9f>\u001b[0m in \u001b[0;36m<module>\u001b[1;34m()\u001b[0m\n\u001b[1;32m----> 1\u001b[1;33m \u001b[0mprint\u001b[0m\u001b[1;33m(\u001b[0m\u001b[0ma\u001b[0m\u001b[1;33m)\u001b[0m\u001b[1;33m\u001b[0m\u001b[0m\n\u001b[0m",
      "\u001b[1;31mNameError\u001b[0m: name 'a' is not defined"
     ]
    }
   ],
   "source": [
    "print(a)"
   ]
  },
  {
   "cell_type": "code",
   "execution_count": null,
   "metadata": {
    "scrolled": true
   },
   "outputs": [],
   "source": [
    "pprint(ldamallet.show_topics(num_topics=20,num_words=8,formatted=False))"
   ]
  },
  {
   "cell_type": "code",
   "execution_count": null,
   "metadata": {},
   "outputs": [],
   "source": [
    "print(a)"
   ]
  },
  {
   "cell_type": "code",
   "execution_count": null,
   "metadata": {},
   "outputs": [],
   "source": [
    "import pandas as pd"
   ]
  },
  {
   "cell_type": "code",
   "execution_count": null,
   "metadata": {},
   "outputs": [],
   "source": [
    "def format_topics_sentences(ldamodel=lda_model, corpus=corpus, texts=data):\n",
    "    # Init output\n",
    "    sent_topics_df = pd.DataFrame()\n",
    "\n",
    "    # Get main topic in each document\n",
    "    for i, row in enumerate(ldamodel[corpus]):\n",
    "        row = sorted(row, key=lambda x: (x[1]), reverse=True)\n",
    "        # Get the Dominant topic, Perc Contribution and Keywords for each document\n",
    "        for j, (topic_num, prop_topic) in enumerate(row):\n",
    "            if j == 0:  # => dominant topic\n",
    "                wp = ldamodel.show_topic(topic_num)\n",
    "                topic_keywords = \", \".join([word for word, prop in wp])\n",
    "                sent_topics_df = sent_topics_df.append(pd.Series([int(topic_num), round(prop_topic,4), topic_keywords]), ignore_index=True)\n",
    "            else:\n",
    "                break\n",
    "    sent_topics_df.columns = ['Dominant_Topic', 'Perc_Contribution', 'Topic_Keywords']\n",
    "\n",
    "    # Add original text to the end of the output\n",
    "    contents = pd.Series(texts)\n",
    "    sent_topics_df = pd.concat([sent_topics_df, contents], axis=1)\n",
    "    return(sent_topics_df)\n",
    "\n",
    "\n",
    "df_topic_sents_keywords = format_topics_sentences(ldamodel=optimal_model, corpus=corpus, texts=data)\n",
    "\n",
    "# Format\n",
    "df_dominant_topic = df_topic_sents_keywords.reset_index()\n",
    "df_dominant_topic.columns = ['Document_No', 'Dominant_Topic', 'Topic_Perc_Contrib', 'Keywords', 'Text']\n",
    "\n",
    "# Show\n",
    "df_dominant_topic.head(10)"
   ]
  },
  {
   "cell_type": "code",
   "execution_count": null,
   "metadata": {
    "scrolled": true
   },
   "outputs": [],
   "source": [
    "df_dominant_topic.head(100)"
   ]
  },
  {
   "cell_type": "code",
   "execution_count": null,
   "metadata": {},
   "outputs": [],
   "source": [
    "df_dominant_topic.head(100).to_excel('df_dominant_topic.xlsx',sheet_name='sheet1')"
   ]
  },
  {
   "cell_type": "code",
   "execution_count": null,
   "metadata": {},
   "outputs": [],
   "source": [
    "# Group top 5 sentences under each topic\n",
    "sent_topics_sorteddf_mallet = pd.DataFrame()\n",
    "\n",
    "sent_topics_outdf_grpd = df_topic_sents_keywords.groupby('Dominant_Topic')\n",
    "\n",
    "for i, grp in sent_topics_outdf_grpd:\n",
    "    sent_topics_sorteddf_mallet = pd.concat([sent_topics_sorteddf_mallet, \n",
    "                                             grp.sort_values(['Perc_Contribution'], ascending=[0]).head(1)], \n",
    "                                            axis=0)\n",
    "\n",
    "# Reset Index    \n",
    "sent_topics_sorteddf_mallet.reset_index(drop=True, inplace=True)\n",
    "\n",
    "# Format\n",
    "sent_topics_sorteddf_mallet.columns = ['Topic_Num', \"Topic_Perc_Contrib\", \"Keywords\", \"Text\"]\n",
    "\n",
    "# Show\n",
    "sent_topics_sorteddf_mallet.head()"
   ]
  },
  {
   "cell_type": "code",
   "execution_count": null,
   "metadata": {
    "scrolled": true
   },
   "outputs": [],
   "source": [
    "# Number of Documents for Each Topic\n",
    "topic_counts = df_topic_sents_keywords['Dominant_Topic'].value_counts()\n",
    "\n",
    "# Percentage of Documents for Each Topic\n",
    "topic_contribution = round(topic_counts/topic_counts.sum(), 4)\n",
    "\n",
    "# Topic Number and Keywords\n",
    "topic_num_keywords = df_topic_sents_keywords[['Dominant_Topic', 'Topic_Keywords']]\n",
    "\n",
    "# Concatenate Column wise\n",
    "df_dominant_topics = pd.concat([topic_num_keywords, topic_counts, topic_contribution], axis=1)\n",
    "\n",
    "# Change Column names\n",
    "df_dominant_topics.columns = ['Dominant_Topic', 'Topic_Keywords', 'Num_Documents', 'Perc_Documents']\n",
    "\n",
    "# Show\n",
    "df_dominant_topics"
   ]
  },
  {
   "cell_type": "code",
   "execution_count": null,
   "metadata": {},
   "outputs": [],
   "source": []
  }
 ],
 "metadata": {
  "kernelspec": {
   "display_name": "Python 3",
   "language": "python",
   "name": "python3"
  },
  "language_info": {
   "codemirror_mode": {
    "name": "ipython",
    "version": 3
   },
   "file_extension": ".py",
   "mimetype": "text/x-python",
   "name": "python",
   "nbconvert_exporter": "python",
   "pygments_lexer": "ipython3",
   "version": "3.7.6"
  }
 },
 "nbformat": 4,
 "nbformat_minor": 2
}
